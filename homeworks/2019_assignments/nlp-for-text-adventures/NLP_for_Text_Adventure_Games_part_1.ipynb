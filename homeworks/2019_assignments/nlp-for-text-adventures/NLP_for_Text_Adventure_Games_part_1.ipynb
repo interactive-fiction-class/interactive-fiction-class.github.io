{
  "nbformat": 4,
  "nbformat_minor": 0,
  "metadata": {
    "colab": {
      "name": "NLP for Text Adventure Games - part 1.ipynb",
      "provenance": [],
      "collapsed_sections": [],
      "toc_visible": true
    },
    "kernelspec": {
      "name": "python3",
      "display_name": "Python 3"
    }
  },
  "cells": [
    {
      "cell_type": "markdown",
      "metadata": {
        "id": "PPCsgwPHi7zJ",
        "colab_type": "text"
      },
      "source": [
        "# NLP for Text Adventure Games - part 1\n",
        "\n",
        "In this notebook, we start trying to improve the coverage of the parser in a text adventure game like Action Castle.  The parser is responsible for interpreting the players' input.  A limitation of classic text adventure games was that parsers were able to handle only a limited number of keywords, and did not support the wide range of different ways that it is possible to say a command.  This is one of the key components that makes natural language challenging for computers to handle.\n",
        "\n",
        "In part 1, we will introduce you to the WordNet resource.  WordNet is a classic resource for natural language processing.  It was created at Princeton University by Chrstine Fellbaum and Geroge Miller.  It encodes information about synonyms, antonyms, and is-a relationships between words like _troll_ is-a _monster_.  In NLP, is-a relationships are called hypernyms or hyponyms."
      ]
    },
    {
      "cell_type": "markdown",
      "metadata": {
        "id": "IjPm41Pz-2pV",
        "colab_type": "text"
      },
      "source": [
        "# WordNet \n",
        "[WordNet](https://wordnet.princeton.edu) is a lexical knowledge base that encodes a ton of useful information about how words relate to each other.  NLTK provides a Python API to WordNet."
      ]
    },
    {
      "cell_type": "code",
      "metadata": {
        "id": "dJ-_u_Rx8EUW",
        "colab_type": "code",
        "colab": {}
      },
      "source": [
        "#!sudo pip3 install nltk \n",
        "import nltk\n",
        "nltk.download('wordnet')\n",
        "nltk.download('punkt')\n",
        "from nltk.corpus import wordnet as wn\n",
        "from nltk.tokenize import word_tokenize"
      ],
      "execution_count": 0,
      "outputs": []
    },
    {
      "cell_type": "markdown",
      "metadata": {
        "id": "wW6FxYvLfnzD",
        "colab_type": "text"
      },
      "source": [
        "## Word Senses\n",
        "Words with multiple meanings are called _polysemous_ words.  An example of a polysemous word is the word _bug_ which can mean \n",
        "1. an insect\n",
        "2. a virus or microbe that makes you sick\n",
        "3. an error in your computer program\n",
        "4. a covert listening device\n",
        "5. (verb) to annoy/bother\n",
        "6. (verb) to wiretap\n",
        "\n",
        "WordNet oraganizes word senses into a structure called _synsets_. Each word can have multiple synsets, and each synset represents a different meaning of the word."
      ]
    },
    {
      "cell_type": "code",
      "metadata": {
        "id": "cnyQH_wt6ZU0",
        "colab_type": "code",
        "colab": {}
      },
      "source": [
        "def get_senses(word):\n",
        "  \"\"\"Returns a list of word senses (WordNet synsets) for a word\"\"\"\n",
        "  word_senses = wn.synsets(word)\n",
        "  return word_senses\n",
        "\n",
        "def get_definition(word_sense):\n",
        "  return word_sense.definition()\n",
        "\n",
        "def get_synonyms(word_sense):\n",
        "  synonyms = []\n",
        "  for lemma in word_sense.lemmas():\n",
        "    synonym = lemma.name().replace('_', ' ')\n",
        "    synonyms.append(synonym)\n",
        "  return synonyms\n",
        "\n",
        "#Here are the word senses for \"bug\". We can see what their distinct meanings are \n",
        "#by getting their definitions or their synonyms from WordNet.\n",
        "word_senses = get_senses(\"bug\")\n",
        "for i, word_sense in enumerate(word_senses):\n",
        "  print(\"\\nSense %d: %s\" % (i, word_sense.name()))\n",
        "  print(\"Definition: \", get_definition(word_sense))\n",
        "  print(\"Synonyms: \", get_synonyms(word_sense))"
      ],
      "execution_count": 0,
      "outputs": []
    },
    {
      "cell_type": "markdown",
      "metadata": {
        "id": "tI6-w6Tt8_wA",
        "colab_type": "text"
      },
      "source": [
        "## Hypernyms / Hyponyms\n",
        "\n",
        "In addition to representing word senses, WordNet also organizes words hierachically. For example, _red_ is a specific kind of _color_, or _microbe_ is a kind of _organism_.  These are example of _hyponym_ relationships.  If X is-a Y then X is a hyponym of Y, and Y is a hypernym of X. So _red_ is a hyponym of _color_ and _color_ is a hypernym of _red_.\n",
        "\n",
        "In WordNet, each word sense (synset) has its own distinct hypernyms and hyponyms. "
      ]
    },
    {
      "cell_type": "code",
      "metadata": {
        "id": "5z1cM9dG9FXU",
        "colab_type": "code",
        "colab": {}
      },
      "source": [
        "hyper = lambda s: s.hypernyms()\n",
        "hypo = lambda s: s.hyponyms()\n",
        "\n",
        "def get_hypernyms(word_sense, depth=5):\n",
        "  return list(word_sense.closure(hyper, depth=depth))\n",
        "\n",
        "def get_hyponyms(word_sense, depth=5):\n",
        "  return list(word_sense.closure(hypo, depth=depth))\n",
        "\n",
        "word_senses = get_senses(\"bug\")\n",
        "for i, word_sense in enumerate(word_senses):\n",
        "  # The synset names include a word from the set of synonyms, \n",
        "  # plus a part of speech (n for noun, v for verb), and \n",
        "  # the number of the sense (sense 01 is the most common sense).\n",
        "  print(\"\\nSense %d: %s (%s)\" % (i, word_sense.name(), get_definition(word_sense)))\n",
        "  print(\"Hypernyms:\")\n",
        "  hypernyms = word_sense.hypernyms()\n",
        "  while len(hypernyms) >0:\n",
        "    print(\"%s\\tis a\\t%s\" % (word_sense.name(), hypernyms[0].name()))\n",
        "    word_sense = hypernyms[0]\n",
        "    hypernyms = word_sense.hypernyms()"
      ],
      "execution_count": 0,
      "outputs": []
    },
    {
      "cell_type": "markdown",
      "metadata": {
        "id": "AjgPko9R9lz1",
        "colab_type": "text"
      },
      "source": [
        "## Text Adventure Commands\n",
        "One of the tricky things about creating a text adventure game is anticipating the many different ways that a player might write a command.\n",
        "\n",
        "If you program the game to understand a command like _give fish to troll_ and the player types in _feed fish to troll_, then a simple parser will fail to undertand the command.\n",
        "\n",
        "Here we're going to use WordNet to expand out the set of commands that we've programed into the game, with the goal of being able to recognize more varied input from the player.  \n",
        "\n",
        "Instead of just one _give fish to troll_ command, we'll enumerate thouands of alternatives like\n",
        "\n",
        "* _serve salmon to monster_\n",
        "* _serve up food to monster_\n",
        "* _feed sea trout to troll_\n",
        "* _supply smoked salmon to mythical creature_"
      ]
    },
    {
      "cell_type": "code",
      "metadata": {
        "id": "TOUD6_vM9j8f",
        "colab_type": "code",
        "colab": {}
      },
      "source": [
        "commands = [\n",
        "\t'wear crown',\n",
        "\t'smell rose',\n",
        "\t'eat fish',\n",
        "\t'light lamp',\n",
        "\t'give fish to troll',\n",
        "\t'propose to the princess',\n",
        "\t'go north',\n",
        "]\n"
      ],
      "execution_count": 0,
      "outputs": []
    },
    {
      "cell_type": "markdown",
      "metadata": {
        "id": "kdbekmQQ9onU",
        "colab_type": "text"
      },
      "source": [
        "## Manually Annotate Senses and Hypernyms/Hyponyms\n",
        "\n",
        "Below is some code that will help you manually annotate the word sense of each word in your list of commands, and confirm which hypernyms and hyponyms are reasonable substitutes that should be recognized if a player types them instead of our command word."
      ]
    },
    {
      "cell_type": "markdown",
      "metadata": {
        "id": "a2V0KPNgM10E",
        "colab_type": "text"
      },
      "source": [
        "Here are some helper functions for you. You can just run this cell instead of reading through the functions in detail if you want. "
      ]
    },
    {
      "cell_type": "code",
      "metadata": {
        "id": "NIrLrK_7qy8n",
        "colab_type": "code",
        "colab": {}
      },
      "source": [
        "def annotate_synsets(sentences):\n",
        "  \"\"\"This function queries WordNet for each word in a list of sentences,\n",
        "     and asks the user to input a number corresponding to the synset.\"\"\"\n",
        "\n",
        "  word_senses = {}\n",
        "  # Cached selections maps from word string to the previous\n",
        "  # selection for this word (an integer)\n",
        "  cached_selections = {}\n",
        "\n",
        "  for i, sent in enumerate(sentences):\n",
        "    words = word_tokenize(sent.lower())\n",
        "\n",
        "    for word in words:\n",
        "      sysnsets = wn.synsets(word)\n",
        "      if len(sysnsets) != 0:\n",
        "        selection = select_synset(sent, word, sysnsets, cached_selections)\n",
        "        if selection != None:\n",
        "          cached_selections[word] = selection\n",
        "          if selection < len(sysnsets):\n",
        "            s = sysnsets[selection]\n",
        "            word_senses[word] = s.name()\n",
        "  return word_senses\n",
        "\n",
        "\n",
        "def select_synset(sent, word, sysnsets, cached_selections):\n",
        "  \"\"\"Ask the user to select which sense of the word  \n",
        "     is being used in this sentence.\"\"\"\n",
        "  print(sent)\n",
        "  print(word.upper())\n",
        "\n",
        "  prev_selection = -1\n",
        "  if word in cached_selections:\n",
        "    prev_selection = cached_selections[word]\n",
        "\n",
        "  for choice, s in enumerate(sysnsets):\n",
        "    if choice == prev_selection:\n",
        "      print(\"*** \", end = '')\n",
        "    print(\"%d) %s - %s\" % (choice, s.name(), s.definition()))\n",
        "\n",
        "  choice += 1\n",
        "  if choice == prev_selection:\n",
        "    print(\"*** \", end = '')\n",
        "  print(\"%d None of these.\" % choice)\n",
        "\n",
        "  selection = -1\n",
        "  while selection == -1:\n",
        "    try:\n",
        "      user_input = input(\">\")\n",
        "      if user_input.strip() == 'x':\n",
        "        # The user can press 'x' to exit.\n",
        "        return None\n",
        "      if user_input.strip() == '' and prev_selection > -1:\n",
        "        # The user can press retrun to confirm the previous selection.\n",
        "        return prev_selection\n",
        "      selection = int(user_input)\n",
        "    except:\n",
        "      selection = -1\n",
        "    if selection < 0 or selection > len(sysnsets):\n",
        "      print(\"Please select a number between 0-%d, or type 'x' to exit\" % len(sysnsets))\n",
        "      if prev_selection > -1:\n",
        "        print(\"You can also press return to confirm the previous selection (marked by ***).\")\n",
        "    else:\n",
        "      return selection\n",
        "\n",
        "\n",
        "def confirm_hyponyms(word, sysnset, do_hypernyms_instead=False):\n",
        "  \"\"\"Ask the user to confirm which of the hyponyms are applicable \n",
        "     for this sentence.\"\"\"\n",
        "  print(word.upper())\n",
        "\n",
        "  confirmed = []\n",
        "  if do_hypernyms_instead:\n",
        "    unconfirmed = sysnset.hypernyms()\n",
        "  else:\n",
        "    unconfirmed = sysnset.hyponyms()\n",
        "\n",
        "  while len(unconfirmed) > 0:\n",
        "    s = unconfirmed.pop(0)\n",
        "    print(\"Is %s an appropriate substitute for %s? (y/n)\" % (s.name(), word))\n",
        "    print(\"It means:\", s.definition())\n",
        "    print(\"Synonyms are:\", get_synonyms(s))\n",
        "    user_input = ''\n",
        "    while user_input == '':\n",
        "      user_input = input(\">\")\n",
        "      user_input = user_input.strip()\n",
        "      if user_input == 'y' or user_input == 'yes':\n",
        "        confirmed.append(s.name())\n",
        "        if do_hypernyms_instead:\n",
        "          unconfirmed.extend(s.hypernyms())\n",
        "        else:\n",
        "          unconfirmed.extend(s.hyponyms())\n",
        "        \n",
        "      elif user_input == 'n' or user_input == 'no':\n",
        "        pass\n",
        "      elif user_input == 'x':\n",
        "        # The user can press 'x' to exit.\n",
        "        return confirmed\n",
        "      else:\n",
        "        print(\"Please type 'yes' or 'no' or 'x' to stop confirming for this word\")\n",
        "        user_input = ''\n",
        "  return confirmed\n",
        "\n",
        "# Save your annotations to a file, so that you can submit them with your homework.\n",
        "def save_to_drive(word_senses, confirmed_hyponyms, confirmed_hypernyms):\n",
        "  import json\n",
        "  from google.colab import drive\n",
        "  drive.mount('/content/drive/')\n",
        "\n",
        "  output_file = '/content/drive/My Drive/word-sense-annotations.json'\n",
        "  output_json = {}\n",
        "  output_json['senses'] = word_senses\n",
        "  output_json['hyponyms'] = confirmed_hyponyms\n",
        "  output_json['hypernyms'] = confirmed_hypernyms\n",
        "\n",
        "  with open(output_file, 'w') as write_file:\n",
        "    write_file.write(json.dumps(output_json, sort_keys=True, indent=4))\n",
        "    write_file.write('\\n')\n",
        "\n"
      ],
      "execution_count": 0,
      "outputs": []
    },
    {
      "cell_type": "markdown",
      "metadata": {
        "id": "VxbZ4GKrMuzc",
        "colab_type": "text"
      },
      "source": [
        "Run this part when you're ready to start annotating the words in the commands. I estimate that it will take about 10 minutes per command.  Your annotations will be saved to a file in your Google Drive called _word-sense-annotations.json_, so that you can submit them with your homework.  You'll be prompted to enter a code to authorize Colab to write to your Google Drive. Be sure to do this so that your work will be saved."
      ]
    },
    {
      "cell_type": "code",
      "metadata": {
        "id": "4Hs2CxsKW8Gr",
        "colab_type": "code",
        "colab": {}
      },
      "source": [
        "word_senses = annotate_synsets(commands)\n",
        "confirmed_hyponyms = {}\n",
        "confirmed_hypernyms = {}\n",
        "for word in word_senses:\n",
        "  print(\"First, pick the word sense for the word '%s'\" % word)\n",
        "  print(\"==============\")\n",
        "  word_sense = wn.synset(word_senses[word])\n",
        "  print(\"\\nNext, pick which hypernyms of %s we should allow players to use.\" % word_sense.name())\n",
        "  print(\"==============\")\n",
        "  confirmed_hypernyms[word] = confirm_hyponyms(word, word_sense, do_hypernyms_instead=True)\n",
        "  print(\"\\Finally, pick which hyponyms of %s we should allow players to use.\" % word_sense.name())\n",
        "  print(\"==============\")  \n",
        "  confirmed_hyponyms[word] = confirm_hyponyms(word, word_sense)\n",
        "\n",
        "\n",
        "print(\"You're done annotating!  Save your annotation to your Google drive.\")\n",
        "print(\"You need to paste in a confirmation code to allow Colab to have access.\")\n",
        "print(\"We'll create a file called 'word-sense-annotations.json' for you to turn in.\")\n",
        "print(\"==============\")\n",
        "save_to_drive(word_senses, confirmed_hyponyms, confirmed_hypernyms)\n",
        "\n"
      ],
      "execution_count": 0,
      "outputs": []
    },
    {
      "cell_type": "markdown",
      "metadata": {
        "id": "CIUe9Wcp8U-j",
        "colab_type": "text"
      },
      "source": [
        "## Look Over Your Annotations\n",
        "\n",
        "Here's what your selections were, and what their corresponding synonyms are."
      ]
    },
    {
      "cell_type": "code",
      "metadata": {
        "id": "YOZY2jexa5Bs",
        "colab_type": "code",
        "colab": {}
      },
      "source": [
        "for word in word_senses:\n",
        "  print('\\n', word.upper())\n",
        "  word_sense = wn.synset(word_senses[word])\n",
        "  print('Synonyms:\\t', get_synonyms(word_sense))\n",
        "  print('Hypernyms:', )\n",
        "  for hypernym in confirmed_hypernyms[word]:\n",
        "    print('\\t', get_synonyms(wn.synset(hypernym)))\n",
        "\n",
        "  print('Hyponyms:', )\n",
        "  hyponyms = confirmed_hyponyms[word]\n",
        "  for hyponym in hyponyms:\n",
        "    print('\\t', get_synonyms(wn.synset(hyponym)))"
      ],
      "execution_count": 0,
      "outputs": []
    },
    {
      "cell_type": "markdown",
      "metadata": {
        "id": "W55Mpmmn8fzC",
        "colab_type": "text"
      },
      "source": [
        "## Enumerate Alternatives Wordings of Commands\n",
        "\n",
        "Once we know what the word sense is for each word in our command, and what its relevant hypernyms and hyponyms are, we can output a rich set of reasonably accurate paraphrases for the commands in our game.\n",
        "\n",
        "Here we use the "
      ]
    },
    {
      "cell_type": "code",
      "metadata": {
        "id": "m8sWSGJf8lYB",
        "colab_type": "code",
        "colab": {}
      },
      "source": [
        "import itertools #We're using the product method from itertools\n",
        "\n",
        "def get_alternatives(word, word_senses, confirmed_hypernyms, confirmed_hyponyms):\n",
        "  \"\"\"Create a list of good alternatives for a word by listing out the synonyms\n",
        "    for its word sense, and for its hyponyms and hypernyms.\"\"\"\n",
        "  alternatives = []\n",
        "  if not word in word_senses:\n",
        "    alternatives.append(word)\n",
        "    return alternatives\n",
        "  word_sense = wn.synset(word_senses[word])\n",
        "  alternatives.extend(get_synonyms(word_sense))\n",
        "  for hypernym in confirmed_hypernyms[word]:\n",
        "    alternatives.extend(get_synonyms(wn.synset(hypernym)))\n",
        "  for hyponym in confirmed_hyponyms[word]:\n",
        "    alternatives.extend(get_synonyms(wn.synset(hyponym)))\n",
        "  return alternatives\n",
        "\n",
        "def enumerate_alternatives(sentence, word_senses, confirmed_hypernyms, confirmed_hyponyms):\n",
        "  \"\"\"Enumerate all of the sentenes that can result by taking any combination of\n",
        "     the alternates for each word in the sentence.\"\"\"\n",
        "  words = word_tokenize(sentence.lower())\n",
        "  # a list of lists\n",
        "  alternatives_per_word = []\n",
        "  for word in words:\n",
        "    alternatives = get_alternatives(word, word_senses, confirmed_hypernyms, confirmed_hyponyms)\n",
        "    alternatives_per_word.append(alternatives)\n",
        "  \n",
        "  alternative_to_original = {}\n",
        "  # all combinations of a list of lists\n",
        "  for words in list(itertools.product(*alternatives_per_word)):\n",
        "    alt_sent = \" \".join(words)\n",
        "    alternative_to_original[alt_sent] = sentence\n",
        "  return alternative_to_original\n",
        "\n",
        "\n",
        "# alternative_commands is a dictionary that maps \n",
        "# the new commands onto the original ones.\n",
        "alternative_commands = {}\n",
        "for command in commands:\n",
        "  alternative_commands.update(enumerate_alternatives(command, \n",
        "                                                     word_senses, \n",
        "                                                     confirmed_hypernyms, \n",
        "                                                     confirmed_hyponyms))\n",
        "\n",
        "for alt_sent in alternative_commands:\n",
        "  print(\"%s ==> %s\" % (alt_sent, alternative_commands[alt_sent]))\n",
        "print(\"Congratulations you can now handle %d commands instead of just %d!\" % \n",
        "      (len(alternative_commands.keys()), len(commands)))"
      ],
      "execution_count": 0,
      "outputs": []
    }
  ]
}