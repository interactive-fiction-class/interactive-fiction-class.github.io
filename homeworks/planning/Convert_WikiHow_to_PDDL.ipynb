{
  "nbformat": 4,
  "nbformat_minor": 0,
  "metadata": {
    "colab": {
      "name": "HW4 - Convert WikiHow to PDDL.ipynb",
      "provenance": [],
      "collapsed_sections": []
    },
    "kernelspec": {
      "name": "python3",
      "display_name": "Python 3"
    },
    "language_info": {
      "name": "python"
    }
  },
  "cells": [
    {
      "cell_type": "markdown",
      "source": [
        "# HW4 - Convert WikiHow to PDDL\n",
        "\n",
        "In this homework we will translate a wikHow article into the Planning Domain Definition Language (PDDL).    The goals of this homework are to:\n",
        "1. Deepen our understanding of classical planning\n",
        "2. Understand the process of manually translating from natural language instructions into PDDL.\n",
        "3. Think about how we might teach GPT-3 to perform the translation automatically (don't worry – you don't have to implement the automatic translation in this homework).\n",
        "4. Capture some data that might be useful for fine-tuning GPT-3 to convert to PDDL (for possible use in some students' term projects).  "
      ],
      "metadata": {
        "id": "htfn2mzDxSTG"
      }
    },
    {
      "cell_type": "code",
      "source": [
        "# Install the PDDL parser\n",
        "!git clone https://github.com/pucrs-automated-planning/pddl-parser\n",
        "!cd pddl-parser"
      ],
      "metadata": {
        "colab": {
          "base_uri": "https://localhost:8080/"
        },
        "id": "Pz3p4tK8ymBE",
        "outputId": "ac8bc84f-03ba-48b6-a210-7ede398fe713"
      },
      "execution_count": 98,
      "outputs": [
        {
          "output_type": "stream",
          "name": "stdout",
          "text": [
            "fatal: destination path 'pddl-parser' already exists and is not an empty directory.\n"
          ]
        }
      ]
    },
    {
      "cell_type": "code",
      "source": [
        "# Mount your Google Drive so that you can save your PDDL files.\n",
        "from google.colab import drive\n",
        "drive.mount('/content/drive')\n",
        "path = '/content/drive/My Drive/CIS 700/HW4'"
      ],
      "metadata": {
        "colab": {
          "base_uri": "https://localhost:8080/"
        },
        "id": "KsdTwTAuaoFS",
        "outputId": "63fc593f-9d03-41e4-c1d4-33db9664f6cf"
      },
      "execution_count": 99,
      "outputs": [
        {
          "output_type": "stream",
          "name": "stdout",
          "text": [
            "Drive already mounted at /content/drive; to attempt to forcibly remount, call drive.mount(\"/content/drive\", force_remount=True).\n"
          ]
        }
      ]
    },
    {
      "cell_type": "markdown",
      "source": [
        "These are some helper functions for loading and saving files, and for displaying long texts."
      ],
      "metadata": {
        "id": "EGP5AoZ4e0AY"
      }
    },
    {
      "cell_type": "code",
      "source": [
        "import os\n",
        "import json\n",
        "import textwrap\n",
        "\n",
        "\n",
        "## Create a file from the contents of a string. \n",
        "def write_to_file(string, path, filename):\n",
        "  \"\"\"This is a helper function to create a file from a string.\"\"\"\n",
        "  if not os.path.exists(path) and path != \"\":\n",
        "    os.makedirs(path)\n",
        "  with open(os.path.join(path, filename), \"w\") as f:\n",
        "      f.write(string)\n",
        "\n",
        "\n",
        "# Load a JSON file given a filename\n",
        "# If the file doesn't exist, then return an empty dictionary instead\n",
        "def load_json(filename):\n",
        "    try:\n",
        "        with open(filename, 'r') as f:\n",
        "            return json.load(f)\n",
        "    except FileNotFoundError:\n",
        "        return {}\n",
        "\n",
        "# Save a JSON file given a full path filename and a dictionary\n",
        "# If the path doesn't exist, create the directories before saving the file.\n",
        "def save_json(filename, data):\n",
        "    if not os.path.exists(os.path.dirname(filename)):\n",
        "        os.makedirs(os.path.dirname(filename))\n",
        "    with open(filename, 'w') as f:\n",
        "        json.dump(data, f, indent=4)\n",
        "\n",
        "\n",
        "def wrap_text(text):\n",
        "  wrapped_text = \"\"\n",
        "  lines = text.strip().split(\"\\n\")\n",
        "\n",
        "  for line in lines:\n",
        "    if len(line) > 90:\n",
        "        w = textwrap.TextWrapper(width=90, break_long_words=False)\n",
        "        line = '\\n'.join(w.wrap(line))\n",
        "    wrapped_text += line + \"\\n\"\n",
        "  return wrapped_text"
      ],
      "metadata": {
        "id": "hT2jIguBys1p"
      },
      "execution_count": 100,
      "outputs": []
    },
    {
      "cell_type": "markdown",
      "source": [
        "\n",
        "### Step 1: Pick an Interesting wikiHow Article\n",
        "\n",
        "We'll create our PDDL files from a wikiHow article.  The goal for this is to start from something that describes proceedures and actions and is written in natural language, and then to manually translate it into the description language used for automated planning.\n",
        "\n",
        "Here are a few wikiHow articles that I thought might be interesting since they had some elements that could make for compelling interactive fiction.  It's fine to pick your own article.   We won't translate the whole article, just a few steps, so you can pick out the parts that you think are most relevant / easiest to create action schema from.\n",
        "\n",
        "Survival Stories\n",
        "* [How to Survive in the Woods](https://www.wikihow.com/Survive-in-the-Woods)\n",
        "* [How to Survive in the Jungle](https://www.wikihow.com/Survive-in-the-Jungle)\n",
        "* [How to Survive on a Desert Island](https://www.wikihow.com/Survive-on-a-Desert-Island\n",
        ") \n",
        "* [How to Survive on a Deserted Island With Nothing](https://www.wikihow.com/Survive-on-a-Deserted-Island-With-Nothing)\n",
        "* [How to Get Out of Quicksand](https://www.wikihow.com/Get-Out-of-Quicksand)\n",
        "* [How to Open a Coconut](https://www.wikihow.com/Open-a-Coconut)\n",
        "* [How to Test if a Plant Is Edible](https://www.wikihow.com/Test-if-a-Plant-Is-Edible)\n",
        "* [How to Find True North Without a Compass](https://www.wikihow.com/Find-True-North-Without-a-Compass)\n",
        "* [How to Survive a Wolf Attack](https://www.wikihow.com/Survive-a-Wolf-Attack)\n",
        "\n",
        "Kid Detectives\n",
        "* [How to Make a Detective Kit](https://www.wikihow.com/Make-a-Detective-Kit)\n",
        "* [How to Disguise Yourself](https://www.wikihow.com/Disguise-Yourself)\n",
        "* [How to Make a Hidden Camera](https://www.wikihow.com/Make-a-Hidden-Camera)\n",
        "* [How to Hide Money](https://www.wikihow.com/Hide-Money)\n",
        "* [How to Spy on People](https://www.wikihow.com/Spy-on-People)\n",
        "* [How to Hack](https://www.wikihow.com/Hack)\n",
        "* [How to Make a Grappling Hook](https://www.wikihow.com/Make-a-Grappling-Hook)\n",
        "* [How to Open a Locked Door](https://www.wikihow.com/Open-a-Locked-Door)\n",
        "* [How to Create a Secret Society](https://www.wikihow.com/Create-a-Secret-Society)\n",
        "* [How to Win Fights at School](https://www.wikihow.com/Win-Fights-at-School)\n",
        "\n",
        "Dystopian Futures\n",
        "* [How to Survive a Comet Hitting Earth](https://www.wikihow.com/Survive-a-Comet-Hitting-Earth)\n",
        "* [How to Survive an EMP](https://www.wikihow.com/Survive-an-EMP)\n",
        "* [How to Survive a Nuclear Attack](https://www.wikihow.com/Survive-a-Nuclear-Attack)\n",
        "* [How to Build a Fallout Shelter](https://www.wikihow.com/Build-a-Fallout-Shelter)\n",
        "* [How to Survive a Riot](https://www.wikihow.com/Survive-a-Riot)\n",
        "* [How to Survive Under Martial Law](https://www.wikihow.com/Survive-Under-Martial-Law)\n",
        "* [How to Avoid Danger During Civil Unrest](https://www.wikihow.com/Avoid-Danger-During-Civil-Unrest)\n",
        "* [How to Thwart an Abduction Attempt](https://www.wikihow.com/Thwart-an-Abduction-Attempt)\n",
        "* [How to Make Papyrus](https://www.wikihow.com/Make-Papyrus)\n"
      ],
      "metadata": {
        "id": "yeArz2SVyzwX"
      }
    },
    {
      "cell_type": "markdown",
      "source": [
        "As an example, I'll pick the [How to Survive in the Woods](https://www.wikihow.com/Survive-in-the-Woods) article, and work on translating Part 1, Step 1 into PDDL.  Here is step 1 from that article: \n",
        "\n",
        "\n",
        "<center>\n",
        "<img src=\"https://www.wikihow.com/images/thumb/c/c0/Survive-in-the-Woods-Step-11-Version-5.jpg/aid31352-v4-728px-Survive-in-the-Woods-Step-11-Version-5.jpg.webp\" class=\"img-responsive\" alt=\"Search for a source of fresh water. (Creative Commons License)\"/>\n",
        "</center>\n",
        "\n",
        "\n",
        "\n",
        "> ### Finding Drinking Water\n",
        "> Search for a source of fresh water.  The first thing that you'll need in order to survive in the woods is water that you can drink. Look for signs of fresh water nearby like areas of green foliage that indicate water is nearby, low-lying areas where water could be collected, and signs of wildlife like animal tracks. It could mean that a creek, stream, or pond is nearby. While finding water is important for survival, be aware some water sources will not be safe - if possible treat all drinking water before using it. \n",
        "If there are mountains nearby, look for water collected at the foot of the cliffs.\n",
        "> * The presence of insects like mosquitoes and flies means that water is nearby.\n",
        "> * Water from heavily oxygenated water (such as from a big waterfall or rapids) typically is safer than that from a slow or still water source.\n",
        "> * Freshwater springs are typically safer water sources, although these can be contaminated by mineral or bacteria as well.\n",
        "> * Remember that all untreated water must be considered risky unless treated. Even crystal clear water can harbor diseases and be dangerous if consumed."
      ],
      "metadata": {
        "id": "3jvmh3xoy-1y"
      }
    },
    {
      "cell_type": "markdown",
      "source": [
        "# Step 2: Manually Create a PDDL\n",
        "\n",
        "\n",
        "## Domain and Problems\n",
        "\n",
        "You should create PDDL files for:\n",
        "1. The domain.  You should have a single `domain.pddl` file which defines the domain, including the types, predicates and action schemata that are relevant to your wikiHow article.\n",
        "2. One or more problems.  You should create one more problem file that defines a problem, an initial state, and a goal, that can be reached by applying the action schema that you defined.  In some cases, it might make sense to have one problem file for each step in a wikiHow article. \n",
        "\n",
        "The name of your domain should be the aricle title.  I have started defining a domain for `survive_in_the_woods`.\n",
        "```\n",
        "(define (domain survive_in_the_woods)\n",
        "   (:requirements :strips :typing)\n",
        "   ...\n",
        "```   \n",
        "I'll create a problem file for Step 1 in the article.  I'll name the problem `collect_water` and I'll define the goal as `(:goal (and (inventory npc water))` where the player (or an AI-controled non-playable character, abbreviated as NPC) needs to add water to their inventory. \n",
        "\n",
        "Here's what the start and end of the problem PDDL file would look like:\n",
        "\n",
        "```\n",
        "(define (problem collect_water)\n",
        "   (:domain survive_in_the_woods)\n",
        "...\n",
        "   (:goal (and (inventory npc water)))\n",
        "```\n",
        "\n",
        "\n",
        "## Types\n",
        "\n",
        "You should specify what the `types` are in your domain.  They should be the things that are relevant to solving the problem that you're tackling.  It's sometimes also useful to create subtypes. Which you can do like this:\n",
        "```\n",
        "   (:types        \n",
        "       water - item\n",
        "       player direction location \n",
        "   )\n",
        "``` \n",
        "By default all types are subtypes of `object`. The line\n",
        "```\n",
        "water - item\n",
        "```\n",
        "allows us to define `water` as a subtype of `item` (`item` is also introduced as a type in this same line).   Having `water` as a subtype allows us to restrict some action schemas to only operate on that type.\n",
        "\n",
        "\n",
        "## Action Schema\n",
        "\n",
        "Here's an example of an action schema for getting items:\n",
        "```\n",
        "   (:action get\n",
        "      :parameters (?item - item ?p - player ?l1 - location) \n",
        "      :precondition (and (at ?p ?l1) (at ?item ?l1))\n",
        "      :effect (and (inventory ?p ?item) (not (at ?item ?l1)))\n",
        "   )\n",
        "```\n",
        "It has the effect or removing the item from the current location and putting it into the player's inventory.\n",
        "\n",
        "We might add a seperate action for getting water, since when our player gets some water from a lake, the water shouldn't be removed from that location.  Here's one way to write it:\n",
        "\n",
        "```\n",
        "   (:action get_water\n",
        "      :parameters (?p - player ?loc - location ?water - water) \n",
        "      :precondition (and (at ?p ?loc) (has_water_source ?loc))\n",
        "      :effect (and (inventory ?p ?water) (not (treated ?water)))\n",
        "   )\n",
        "```\n",
        "(We might also consider adding some additional preconditions, like that the player has a container to store their water in). \n",
        "\n",
        "## Predicates\n",
        "\n",
        "In your PDDL domain file, please define your predicates like this:\n",
        "```\n",
        "   (:predicates\n",
        "      (has_water_source ?loc - location) ; this location has a source of fresh water.\n",
        "      (treated ?water - water) ; True if the water has been decontaimated by boiling it\n",
        "      ...\n",
        "   )\n",
        "```\n",
        "You should give the type of each predicate's arguments, and a comment about what the predicate means (everything after the `;` is a comment). "
      ],
      "metadata": {
        "id": "PvkWFiLTn_OL"
      }
    },
    {
      "cell_type": "markdown",
      "source": [
        "# Example Domain \n",
        "\n",
        "Here's an example of how I started the `survive_in_the_woods` domain."
      ],
      "metadata": {
        "id": "q3pZ-9hfILbv"
      }
    },
    {
      "cell_type": "code",
      "source": [
        "example_domain = \"\"\"\n",
        "(define (domain survive_in_the_woods)\n",
        "   (:requirements :strips :typing)\n",
        "   (:types\n",
        "       water - item \n",
        "       player direction location\n",
        "   )\n",
        "\n",
        "   (:predicates\n",
        "      (has_water_source ?loc - location) ; this location has a source of fresh water.\n",
        "      (treated ?water - water) ; True if the water has been decontaimated by boiling it\n",
        "      (at ?obj - object ?loc - location) ; an object is at a location \n",
        "      (inventory ?player ?item) ; an item is in the player's inventory\n",
        "      (connected ?loc1 - location ?dir - direction ?loc2 - location) ; location 1 is connected to location 2 in the direction\n",
        "      (blocked ?loc1 - location ?dir - direction ?loc2 - location) ; the connection between location 1 and 2 in currently blocked\n",
        "   )\n",
        "\n",
        "   (:action go ; navigate to an adjacent location \n",
        "      :parameters (?dir - direction ?p - player ?l1 - location ?l2 - location) \n",
        "      :precondition (and (at ?p ?l1) (connected ?l1 ?dir ?l2) (not (blocked ?l1 ?dir ?l2)))\n",
        "      :effect (and (at ?p ?l2) (not (at ?p ?l1)))\n",
        "   )\n",
        "\n",
        "   (:action get ; pick up an item and put it in the inventory\n",
        "      :parameters (?item - item ?p - player ?l1 - location) \n",
        "      :precondition (and (at ?p ?l1) (at ?item ?l1))\n",
        "      :effect (and (inventory ?p ?item) (not (at ?item ?l1)))\n",
        "   )\n",
        "\n",
        "   (:action get_water ; get water from a location that has a water source like a lake.\n",
        "      :parameters (?p - player ?loc - location ?water - water) \n",
        "      :precondition (and (at ?p ?loc) (has_water_source ?loc))\n",
        "      :effect (and (inventory ?p ?water) (not (treated ?water)))\n",
        "   )\n",
        ")\n",
        "\"\"\"\n",
        "\n",
        "# Write the domain to a PDDL file\n",
        "domain_filename = \"domain-survive_in_the_woods.pddl\"\n",
        "write_to_file(example_domain, path, domain_filename)"
      ],
      "metadata": {
        "id": "vQBBbDq1yujj"
      },
      "execution_count": 101,
      "outputs": []
    },
    {
      "cell_type": "markdown",
      "source": [
        "# Example problem\n",
        "\n",
        "Here's how I specified the problem of collecting water from a source like a waterfall.   \n",
        "\n",
        "I instantiated several objects, and specified an initial state that would allow the goal of `(inventory npc water)` to be reached by this sequence of actions:\n",
        "\n",
        "```\n",
        "go west npc camp path\n",
        "go west npc path cliff\n",
        "go up npc cliff waterfall\n",
        "get_water npc waterfall water\n",
        "```\n"
      ],
      "metadata": {
        "id": "7GalStA_Igh-"
      }
    },
    {
      "cell_type": "code",
      "source": [
        "example_problem = \"\"\"\n",
        "(define (problem collect_water)\n",
        "   (:domain survive_in_the_woods)\n",
        "\n",
        "   (:objects\n",
        "      npc - player\n",
        "      waterfall camp path cliff - location\n",
        "      in out north south east west up down - direction\n",
        "      water - water\n",
        "   )\n",
        "\n",
        "   (:init\n",
        "      (connected camp west path)\n",
        "      (connected path east camp)\n",
        "      (connected path west cliff)\n",
        "      (connected cliff east path)\n",
        "      (connected cliff up waterfall)\n",
        "      (connected waterfall down cliff)\n",
        "      (at npc camp)\n",
        "      (at canteen camp)\n",
        "      (has_water_source waterfall)\n",
        "   )\n",
        "\n",
        "   (:goal (and (inventory npc water)))\n",
        ")\n",
        "\"\"\"\n",
        "\n",
        "# Write the problem to a PDDL file\n",
        "problem_filename = \"problem-collect_water.pddl\"\n",
        "write_to_file(example_problem, path, problem_filename)"
      ],
      "metadata": {
        "id": "8P2TLukXyxWW"
      },
      "execution_count": 102,
      "outputs": []
    },
    {
      "cell_type": "markdown",
      "source": [
        "I parse my files to check for formatting errors"
      ],
      "metadata": {
        "id": "bTePLuK-2cBx"
      }
    },
    {
      "cell_type": "code",
      "source": [
        "!python -B pddl-parser/PDDL.py '{path}/{domain_filename}' '{path}/{problem_1_filename}'"
      ],
      "metadata": {
        "id": "BHy9T4HI2YOw",
        "colab": {
          "base_uri": "https://localhost:8080/"
        },
        "outputId": "5e43b9a6-d53a-4faf-c129-dff8f3989b8e"
      },
      "execution_count": 103,
      "outputs": [
        {
          "output_type": "stream",
          "name": "stdout",
          "text": [
            "----------------------------\n",
            "['define',\n",
            " ['domain', 'survive_in_the_woods'],\n",
            " [':requirements', ':strips', ':typing'],\n",
            " [':types', 'water', '-', 'item', 'player', 'direction', 'location'],\n",
            " [':predicates',\n",
            "  ['has_water_source', '?loc', '-', 'location'],\n",
            "  ['treated', '?water', '-', 'water'],\n",
            "  ['at', '?obj', '-', 'object', '?loc', '-', 'location'],\n",
            "  ['inventory', '?player', '?item'],\n",
            "  ['connected',\n",
            "   '?loc1',\n",
            "   '-',\n",
            "   'location',\n",
            "   '?dir',\n",
            "   '-',\n",
            "   'direction',\n",
            "   '?loc2',\n",
            "   '-',\n",
            "   'location'],\n",
            "  ['blocked',\n",
            "   '?loc1',\n",
            "   '-',\n",
            "   'location',\n",
            "   '?dir',\n",
            "   '-',\n",
            "   'direction',\n",
            "   '?loc2',\n",
            "   '-',\n",
            "   'location']],\n",
            " [':action',\n",
            "  'go',\n",
            "  ':parameters',\n",
            "  ['?dir',\n",
            "   '-',\n",
            "   'direction',\n",
            "   '?p',\n",
            "   '-',\n",
            "   'player',\n",
            "   '?l1',\n",
            "   '-',\n",
            "   'location',\n",
            "   '?l2',\n",
            "   '-',\n",
            "   'location'],\n",
            "  ':precondition',\n",
            "  ['and',\n",
            "   ['at', '?p', '?l1'],\n",
            "   ['connected', '?l1', '?dir', '?l2'],\n",
            "   ['not', ['blocked', '?l1', '?dir', '?l2']]],\n",
            "  ':effect',\n",
            "  ['and', ['at', '?p', '?l2'], ['not', ['at', '?p', '?l1']]]],\n",
            " [':action',\n",
            "  'get',\n",
            "  ':parameters',\n",
            "  ['?item', '-', 'item', '?p', '-', 'player', '?l1', '-', 'location'],\n",
            "  ':precondition',\n",
            "  ['and', ['at', '?p', '?l1'], ['at', '?item', '?l1']],\n",
            "  ':effect',\n",
            "  ['and', ['inventory', '?p', '?item'], ['not', ['at', '?item', '?l1']]]],\n",
            " [':action',\n",
            "  'get_water',\n",
            "  ':parameters',\n",
            "  ['?p', '-', 'player', '?loc', '-', 'location', '?water', '-', 'water'],\n",
            "  ':precondition',\n",
            "  ['and', ['at', '?p', '?loc'], ['has_water_source', '?loc']],\n",
            "  ':effect',\n",
            "  ['and', ['inventory', '?p', '?water'], ['not', ['treated', '?water']]]]]\n",
            "----------------------------\n",
            "['define',\n",
            " ['problem', 'collect_water'],\n",
            " [':domain', 'survive_in_the_woods'],\n",
            " [':objects',\n",
            "  'npc',\n",
            "  '-',\n",
            "  'player',\n",
            "  'waterfall',\n",
            "  'camp',\n",
            "  'path',\n",
            "  'cliff',\n",
            "  '-',\n",
            "  'location',\n",
            "  'in',\n",
            "  'out',\n",
            "  'north',\n",
            "  'south',\n",
            "  'east',\n",
            "  'west',\n",
            "  'up',\n",
            "  'down',\n",
            "  '-',\n",
            "  'direction',\n",
            "  'water',\n",
            "  '-',\n",
            "  'water'],\n",
            " [':init',\n",
            "  ['connected', 'camp', 'west', 'path'],\n",
            "  ['connected', 'path', 'east', 'camp'],\n",
            "  ['connected', 'path', 'west', 'cliff'],\n",
            "  ['connected', 'cliff', 'east', 'path'],\n",
            "  ['connected', 'cliff', 'up', 'waterfall'],\n",
            "  ['connected', 'waterfall', 'down', 'cliff'],\n",
            "  ['at', 'npc', 'camp'],\n",
            "  ['at', 'canteen', 'camp'],\n",
            "  ['has_water_source', 'waterfall']],\n",
            " [':goal', ['and', ['inventory', 'npc', 'water']]]]\n",
            "----------------------------\n",
            "Domain name: survive_in_the_woods\n",
            "action: go\n",
            "  parameters: [['?dir', 'direction'], ['?p', 'player'], ['?l1', 'location'], ['?l2', 'location']]\n",
            "  positive_preconditions: [['connected', '?l1', '?dir', '?l2'], ['at', '?p', '?l1']]\n",
            "  negative_preconditions: [['blocked', '?l1', '?dir', '?l2']]\n",
            "  add_effects: [['at', '?p', '?l2']]\n",
            "  del_effects: [['at', '?p', '?l1']]\n",
            "\n",
            "action: get\n",
            "  parameters: [['?item', 'item'], ['?p', 'player'], ['?l1', 'location']]\n",
            "  positive_preconditions: [['at', '?item', '?l1'], ['at', '?p', '?l1']]\n",
            "  negative_preconditions: []\n",
            "  add_effects: [['inventory', '?p', '?item']]\n",
            "  del_effects: [['at', '?item', '?l1']]\n",
            "\n",
            "action: get_water\n",
            "  parameters: [['?p', 'player'], ['?loc', 'location'], ['?water', 'water']]\n",
            "  positive_preconditions: [['at', '?p', '?loc'], ['has_water_source', '?loc']]\n",
            "  negative_preconditions: []\n",
            "  add_effects: [['inventory', '?p', '?water']]\n",
            "  del_effects: [['treated', '?water']]\n",
            "\n",
            "----------------------------\n",
            "Problem name: collect_water\n",
            "Objects: {'player': ['npc'], 'location': ['waterfall', 'camp', 'path', 'cliff'], 'direction': ['in', 'out', 'north', 'south', 'east', 'west', 'up', 'down'], 'water': ['water']}\n",
            "State: [['connected', 'camp', 'west', 'path'], ['at', 'canteen', 'camp'], ['connected', 'waterfall', 'down', 'cliff'], ['connected', 'cliff', 'east', 'path'], ['connected', 'path', 'west', 'cliff'], ['connected', 'path', 'east', 'camp'], ['has_water_source', 'waterfall'], ['connected', 'cliff', 'up', 'waterfall'], ['at', 'npc', 'camp']]\n",
            "Positive goals: [['inventory', 'npc', 'water']]\n",
            "Negative goals: []\n"
          ]
        }
      ]
    },
    {
      "cell_type": "markdown",
      "source": [
        "Finally, I make sure that I can compute a plan"
      ],
      "metadata": {
        "id": "_Ygn0Iw82k2P"
      }
    },
    {
      "cell_type": "code",
      "source": [
        "!python -B pddl-parser/planner.py '{path}/{domain_filename}' '{path}/{problem_1_filename}'"
      ],
      "metadata": {
        "colab": {
          "base_uri": "https://localhost:8080/"
        },
        "id": "oIlEvKL92kKa",
        "outputId": "352d5e04-8410-43c8-a680-332f6b78c101"
      },
      "execution_count": 104,
      "outputs": [
        {
          "output_type": "stream",
          "name": "stdout",
          "text": [
            "Time: 0.006136178970336914s\n",
            "plan:\n",
            "go west npc camp path\n",
            "go west npc path cliff\n",
            "go up npc cliff waterfall\n",
            "get_water npc waterfall water\n"
          ]
        }
      ]
    },
    {
      "cell_type": "markdown",
      "source": [
        "\n",
        "# Other problems\n",
        "\n",
        "If the player wants to survive in the woods, other problems remain.  For starters, their water still isn't safe to drink!  To fix that problem we could implement Step 6 of [How to Survive in the Woods](https://www.wikihow.com/Survive-in-the-Woods): \n",
        "\n",
        "\n",
        "<center>\n",
        "<img src=\"https://www.wikihow.com/images/thumb/7/72/Survive-in-the-Woods-Step-6-Version-5.jpg/aid31352-v4-728px-Survive-in-the-Woods-Step-6-Version-5.jpg\" class=\"img-responsive\" alt=\"Purify Water. (Image Copyright wikiHow, Inc)\"/>\n",
        "</center>\n",
        "\n",
        "\n",
        "> ### Purify any water that you find. \n",
        "> It's extremely important that you purify any water that you collect, including rainwater, dew, and ice or snow, so you don't consume bacteria that could make you ill or even kill you. Use a piece of cloth or clothing to strain the water to remove large particles, then boil the water for 10 minutes to kill any contaminants.\n",
        "> * If you don't have a container to boil water in, you can fill a clear plastic bottle with water, seal the lid, and place the bottle on its side in direct sunlight for 6 hours to purify it.\n",
        "> * In the event that you have no containers and no way to purify water, you can dig a deep hole, let it fill with groundwater, and wait for the particles to settle at the bottom and the water is clear before you drink it. You should only do this if you have no other option.\n",
        "\n",
        "I won't give the details of how to implement this, but you can imagine extending our `survive_in_the_woods` domain to add action schema for `strain`, `boil`, and `purify_in_sunlight`, and to create a new PDDL problem for `purify_water` with the goal `(:goal (and (inventory npc water) (treated water)))`.  \n",
        "\n",
        "That in turn might require us to solve a problem like `create_a_fire` in order to boil the water."
      ],
      "metadata": {
        "id": "RPMVinvULZ23"
      }
    },
    {
      "cell_type": "markdown",
      "source": [
        "## Step 3: Create JSON file \n",
        "\n",
        "Next, you will create a JSON file that keeps information about the article that you created.  Specifically, we'll use this to help specify a mapping between elements of your PDDL and the language of the original wikiHow article that you based it on.  \n",
        "\n",
        "If anyone is interested in doing a term project focused on automatically converting wikiHow to PDDL, then we'll share this JSON data with your classmates.\n"
      ],
      "metadata": {
        "id": "OXvSaTS5x8xv"
      }
    },
    {
      "cell_type": "code",
      "execution_count": 107,
      "metadata": {
        "id": "bTIC79Og5uuA"
      },
      "outputs": [],
      "source": [
        "domain = \"survive_in_the_woods\"\n",
        "json_filename = os.path.join(path, domain + \".json\")\n",
        "\n",
        "data = load_json(json_filename)\n",
        "\n",
        "data[domain] = {}\n",
        "data[domain]['wikihow_url'] = 'https://www.wikihow.com/Survive-in-the-Woods'\n",
        "data[domain]['domain_pddl'] = example_domain\n",
        "\n",
        "# List your domain's types, predicate and actions.\n",
        "data[domain]['types'] = ['water', 'item', 'player', 'direction', 'location']\n",
        "data[domain]['predicates'] = ['has_water_source', 'treated', 'at', 'inventory', 'connected', 'blocked']\n",
        "data[domain]['actions'] = ['go', 'get', 'get_water']\n",
        "\n",
        "# Specify the problems that you tackled\n",
        "data[domain]['problems'] = {}\n",
        "data[domain]['problems']['collect_water'] = {}\n",
        "data[domain]['problems']['collect_water']['pddl'] = example_problem\n",
        "\n",
        "# Give the corresponding step of the wikihow article that you dreived it from\n",
        "data[domain]['problems']['collect_water']['wikihow_section'] = \"Part 1, Step 1\"\n",
        "# Copy and paste the step's text.  You can format it in plain text or in Markdown.\n",
        "data[domain]['problems']['collect_water']['wikihow_text'] = \"\"\"\n",
        "### Finding Drinking Water\n",
        "Search for a source of fresh water.  The first thing that you'll need in order to survive in the woods is water that you can drink. Look for signs of fresh water nearby like areas of green foliage that indicate water is nearby, low-lying areas where water could be collected, and signs of wildlife like animal tracks. It could mean that a creek, stream, or pond is nearby. While finding water is important for survival, be aware some water sources will not be safe - if possible treat all drinking water before using it. \n",
        "If there are mountains nearby, look for water collected at the foot of the cliffs.\n",
        "* The presence of insects like mosquitoes and flies means that water is nearby.\n",
        "* Water from heavily oxygenated water (such as from a big waterfall or rapids) typically is safer than that from a slow or still water source.\n",
        "* Freshwater springs are typically safer water sources, although these can be contaminated by mineral or bacteria as well.\n",
        "* Remember that all untreated water must be considered risky unless treated. Even crystal clear water can harbor diseases and be dangerous if consumed.\n",
        "\"\"\"\n",
        "\n",
        "\n",
        "# Save the json file\n",
        "save_json(json_filename, data)\n"
      ]
    },
    {
      "cell_type": "code",
      "source": [
        "\n",
        "\n",
        "def annotate_mentions(json_filename):\n",
        "  \"\"\"\n",
        "  Walk through the json file and have the user copy-and-paste mentions for the \n",
        "  PDDL elements that are mentioned in the text of the wikihow article.  This\n",
        "  is useful for later projects that focus on automatically deriving PDDL from \n",
        "  text. \n",
        "  \"\"\"\n",
        "  data = load_json(json_filename)\n",
        "  for domain in data:\n",
        "    for problem in data[domain]['problems']:\n",
        "\n",
        "      print(\"Problem:\", problem.upper(), '\\n')\n",
        "      wrapped_text = wrap_text(data[domain]['problems'][problem]['wikihow_text'])\n",
        "      print(wrapped_text)\n",
        "      print('----\\n')\n",
        "\n",
        "      print(\"Please copy-and-paste phrases from the step that mention types, actions, and predicates from the PDDL.\")\n",
        "      print(\"A mention can be indirect. If there is more than one mention describing the same thing, then put one per line.\")\n",
        "      print(\"Enter a blank line when you're done.\")\n",
        "\n",
        "      for pddl_element in ['types', 'predicates', 'actions']:\n",
        "        if not 'mentions' in data[domain]['problems'][problem]:\n",
        "          data[domain]['problems'][problem]['mentions'] = {}\n",
        "        if not pddl_element in data[domain]['problems'][problem]['mentions']:\n",
        "          data[domain]['problems'][problem]['mentions'][pddl_element] = {}\n",
        "        for item in data[domain][pddl_element]:\n",
        "          if not item in data[domain]['problems'][problem]['mentions'][pddl_element]:\n",
        "            data[domain]['problems'][problem]['mentions'][pddl_element][item] = {}\n",
        "          else:\n",
        "            #skip asking for annotation if we have already annotated this one.\n",
        "            continue\n",
        "          metions = data[domain]['problems'][problem]['mentions'][pddl_element][item]\n",
        "\n",
        "          print(\"Mentions related to the\", pddl_element[:-1], item.upper())\n",
        "\n",
        "          while True:\n",
        "            mention = input()\n",
        "            if mention == \"\":\n",
        "              break\n",
        "            mentions.append(mention)\n",
        "            data[domain]['problems'][problem]['mentions'][pddl_element][item] = mentions\n",
        "            # Save the json file\n",
        "            save_json(json_filename, data)\n",
        "        save_json(json_filename, data)\n",
        "    print(\"\\nYou're done annotating!\".upper())\n",
        "\n",
        "annotate_mentions(json_filename)"
      ],
      "metadata": {
        "id": "ptPogGxd6gkt",
        "colab": {
          "base_uri": "https://localhost:8080/",
          "height": 1000
        },
        "outputId": "d51403b5-4c27-45d2-a980-c3acc3283489"
      },
      "execution_count": 109,
      "outputs": [
        {
          "output_type": "stream",
          "name": "stdout",
          "text": [
            "Problem: COLLECT_WATER \n",
            "\n",
            "### Finding Drinking Water\n",
            "Search for a source of fresh water.  The first thing that you'll need in order to survive\n",
            "in the woods is water that you can drink. Look for signs of fresh water nearby like areas\n",
            "of green foliage that indicate water is nearby, low-lying areas where water could be\n",
            "collected, and signs of wildlife like animal tracks. It could mean that a creek, stream,\n",
            "or pond is nearby. While finding water is important for survival, be aware some water\n",
            "sources will not be safe - if possible treat all drinking water before using it.\n",
            "If there are mountains nearby, look for water collected at the foot of the cliffs.\n",
            "* The presence of insects like mosquitoes and flies means that water is nearby.\n",
            "* Water from heavily oxygenated water (such as from a big waterfall or rapids) typically\n",
            "is safer than that from a slow or still water source.\n",
            "* Freshwater springs are typically safer water sources, although these can be contaminated\n",
            "by mineral or bacteria as well.\n",
            "* Remember that all untreated water must be considered risky unless treated. Even crystal\n",
            "clear water can harbor diseases and be dangerous if consumed.\n",
            "\n",
            "----\n",
            "\n",
            "Please copy-and-paste phrases from the step that mention types, actions, and predicates from the PDDL.\n",
            "A mention can be indirect. If there is more than one mention describing the same thing, then put one per line.\n",
            "Enter a blank line when you're done.\n",
            "Mentions related to the type WATER\n"
          ]
        },
        {
          "output_type": "error",
          "ename": "KeyboardInterrupt",
          "evalue": "ignored",
          "traceback": [
            "\u001b[0;31m---------------------------------------------------------------------------\u001b[0m",
            "\u001b[0;31mKeyboardInterrupt\u001b[0m                         Traceback (most recent call last)",
            "\u001b[0;32m/usr/local/lib/python3.7/dist-packages/ipykernel/kernelbase.py\u001b[0m in \u001b[0;36m_input_request\u001b[0;34m(self, prompt, ident, parent, password)\u001b[0m\n\u001b[1;32m    728\u001b[0m             \u001b[0;32mtry\u001b[0m\u001b[0;34m:\u001b[0m\u001b[0;34m\u001b[0m\u001b[0;34m\u001b[0m\u001b[0m\n\u001b[0;32m--> 729\u001b[0;31m                 \u001b[0mident\u001b[0m\u001b[0;34m,\u001b[0m \u001b[0mreply\u001b[0m \u001b[0;34m=\u001b[0m \u001b[0mself\u001b[0m\u001b[0;34m.\u001b[0m\u001b[0msession\u001b[0m\u001b[0;34m.\u001b[0m\u001b[0mrecv\u001b[0m\u001b[0;34m(\u001b[0m\u001b[0mself\u001b[0m\u001b[0;34m.\u001b[0m\u001b[0mstdin_socket\u001b[0m\u001b[0;34m,\u001b[0m \u001b[0;36m0\u001b[0m\u001b[0;34m)\u001b[0m\u001b[0;34m\u001b[0m\u001b[0;34m\u001b[0m\u001b[0m\n\u001b[0m\u001b[1;32m    730\u001b[0m             \u001b[0;32mexcept\u001b[0m \u001b[0mException\u001b[0m\u001b[0;34m:\u001b[0m\u001b[0;34m\u001b[0m\u001b[0;34m\u001b[0m\u001b[0m\n",
            "\u001b[0;32m/usr/local/lib/python3.7/dist-packages/jupyter_client/session.py\u001b[0m in \u001b[0;36mrecv\u001b[0;34m(self, socket, mode, content, copy)\u001b[0m\n\u001b[1;32m    802\u001b[0m         \u001b[0;32mtry\u001b[0m\u001b[0;34m:\u001b[0m\u001b[0;34m\u001b[0m\u001b[0;34m\u001b[0m\u001b[0m\n\u001b[0;32m--> 803\u001b[0;31m             \u001b[0mmsg_list\u001b[0m \u001b[0;34m=\u001b[0m \u001b[0msocket\u001b[0m\u001b[0;34m.\u001b[0m\u001b[0mrecv_multipart\u001b[0m\u001b[0;34m(\u001b[0m\u001b[0mmode\u001b[0m\u001b[0;34m,\u001b[0m \u001b[0mcopy\u001b[0m\u001b[0;34m=\u001b[0m\u001b[0mcopy\u001b[0m\u001b[0;34m)\u001b[0m\u001b[0;34m\u001b[0m\u001b[0;34m\u001b[0m\u001b[0m\n\u001b[0m\u001b[1;32m    804\u001b[0m         \u001b[0;32mexcept\u001b[0m \u001b[0mzmq\u001b[0m\u001b[0;34m.\u001b[0m\u001b[0mZMQError\u001b[0m \u001b[0;32mas\u001b[0m \u001b[0me\u001b[0m\u001b[0;34m:\u001b[0m\u001b[0;34m\u001b[0m\u001b[0;34m\u001b[0m\u001b[0m\n",
            "\u001b[0;32m/usr/local/lib/python3.7/dist-packages/zmq/sugar/socket.py\u001b[0m in \u001b[0;36mrecv_multipart\u001b[0;34m(self, flags, copy, track)\u001b[0m\n\u001b[1;32m    624\u001b[0m         \"\"\"\n\u001b[0;32m--> 625\u001b[0;31m         \u001b[0mparts\u001b[0m \u001b[0;34m=\u001b[0m \u001b[0;34m[\u001b[0m\u001b[0mself\u001b[0m\u001b[0;34m.\u001b[0m\u001b[0mrecv\u001b[0m\u001b[0;34m(\u001b[0m\u001b[0mflags\u001b[0m\u001b[0;34m,\u001b[0m \u001b[0mcopy\u001b[0m\u001b[0;34m=\u001b[0m\u001b[0mcopy\u001b[0m\u001b[0;34m,\u001b[0m \u001b[0mtrack\u001b[0m\u001b[0;34m=\u001b[0m\u001b[0mtrack\u001b[0m\u001b[0;34m)\u001b[0m\u001b[0;34m]\u001b[0m\u001b[0;34m\u001b[0m\u001b[0;34m\u001b[0m\u001b[0m\n\u001b[0m\u001b[1;32m    626\u001b[0m         \u001b[0;31m# have first part already, only loop while more to receive\u001b[0m\u001b[0;34m\u001b[0m\u001b[0;34m\u001b[0m\u001b[0;34m\u001b[0m\u001b[0m\n",
            "\u001b[0;32mzmq/backend/cython/socket.pyx\u001b[0m in \u001b[0;36mzmq.backend.cython.socket.Socket.recv\u001b[0;34m()\u001b[0m\n",
            "\u001b[0;32mzmq/backend/cython/socket.pyx\u001b[0m in \u001b[0;36mzmq.backend.cython.socket.Socket.recv\u001b[0;34m()\u001b[0m\n",
            "\u001b[0;32mzmq/backend/cython/socket.pyx\u001b[0m in \u001b[0;36mzmq.backend.cython.socket._recv_copy\u001b[0;34m()\u001b[0m\n",
            "\u001b[0;32m/usr/local/lib/python3.7/dist-packages/zmq/backend/cython/checkrc.pxd\u001b[0m in \u001b[0;36mzmq.backend.cython.checkrc._check_rc\u001b[0;34m()\u001b[0m\n",
            "\u001b[0;31mKeyboardInterrupt\u001b[0m: ",
            "\nDuring handling of the above exception, another exception occurred:\n",
            "\u001b[0;31mKeyboardInterrupt\u001b[0m                         Traceback (most recent call last)",
            "\u001b[0;32m<ipython-input-109-e7360d474549>\u001b[0m in \u001b[0;36m<module>\u001b[0;34m()\u001b[0m\n\u001b[1;32m     47\u001b[0m     \u001b[0mprint\u001b[0m\u001b[0;34m(\u001b[0m\u001b[0;34m\"\\nYou're done annotating!\"\u001b[0m\u001b[0;34m.\u001b[0m\u001b[0mupper\u001b[0m\u001b[0;34m(\u001b[0m\u001b[0;34m)\u001b[0m\u001b[0;34m)\u001b[0m\u001b[0;34m\u001b[0m\u001b[0;34m\u001b[0m\u001b[0m\n\u001b[1;32m     48\u001b[0m \u001b[0;34m\u001b[0m\u001b[0m\n\u001b[0;32m---> 49\u001b[0;31m \u001b[0mannotate_mentions\u001b[0m\u001b[0;34m(\u001b[0m\u001b[0mjson_filename\u001b[0m\u001b[0;34m)\u001b[0m\u001b[0;34m\u001b[0m\u001b[0;34m\u001b[0m\u001b[0m\n\u001b[0m",
            "\u001b[0;32m<ipython-input-109-e7360d474549>\u001b[0m in \u001b[0;36mannotate_mentions\u001b[0;34m(json_filename)\u001b[0m\n\u001b[1;32m     37\u001b[0m \u001b[0;34m\u001b[0m\u001b[0m\n\u001b[1;32m     38\u001b[0m           \u001b[0;32mwhile\u001b[0m \u001b[0;32mTrue\u001b[0m\u001b[0;34m:\u001b[0m\u001b[0;34m\u001b[0m\u001b[0;34m\u001b[0m\u001b[0m\n\u001b[0;32m---> 39\u001b[0;31m             \u001b[0mmention\u001b[0m \u001b[0;34m=\u001b[0m \u001b[0minput\u001b[0m\u001b[0;34m(\u001b[0m\u001b[0;34m)\u001b[0m\u001b[0;34m\u001b[0m\u001b[0;34m\u001b[0m\u001b[0m\n\u001b[0m\u001b[1;32m     40\u001b[0m             \u001b[0;32mif\u001b[0m \u001b[0mmention\u001b[0m \u001b[0;34m==\u001b[0m \u001b[0;34m\"\"\u001b[0m\u001b[0;34m:\u001b[0m\u001b[0;34m\u001b[0m\u001b[0;34m\u001b[0m\u001b[0m\n\u001b[1;32m     41\u001b[0m               \u001b[0;32mbreak\u001b[0m\u001b[0;34m\u001b[0m\u001b[0;34m\u001b[0m\u001b[0m\n",
            "\u001b[0;32m/usr/local/lib/python3.7/dist-packages/ipykernel/kernelbase.py\u001b[0m in \u001b[0;36mraw_input\u001b[0;34m(self, prompt)\u001b[0m\n\u001b[1;32m    702\u001b[0m             \u001b[0mself\u001b[0m\u001b[0;34m.\u001b[0m\u001b[0m_parent_ident\u001b[0m\u001b[0;34m,\u001b[0m\u001b[0;34m\u001b[0m\u001b[0;34m\u001b[0m\u001b[0m\n\u001b[1;32m    703\u001b[0m             \u001b[0mself\u001b[0m\u001b[0;34m.\u001b[0m\u001b[0m_parent_header\u001b[0m\u001b[0;34m,\u001b[0m\u001b[0;34m\u001b[0m\u001b[0;34m\u001b[0m\u001b[0m\n\u001b[0;32m--> 704\u001b[0;31m             \u001b[0mpassword\u001b[0m\u001b[0;34m=\u001b[0m\u001b[0;32mFalse\u001b[0m\u001b[0;34m,\u001b[0m\u001b[0;34m\u001b[0m\u001b[0;34m\u001b[0m\u001b[0m\n\u001b[0m\u001b[1;32m    705\u001b[0m         )\n\u001b[1;32m    706\u001b[0m \u001b[0;34m\u001b[0m\u001b[0m\n",
            "\u001b[0;32m/usr/local/lib/python3.7/dist-packages/ipykernel/kernelbase.py\u001b[0m in \u001b[0;36m_input_request\u001b[0;34m(self, prompt, ident, parent, password)\u001b[0m\n\u001b[1;32m    732\u001b[0m             \u001b[0;32mexcept\u001b[0m \u001b[0mKeyboardInterrupt\u001b[0m\u001b[0;34m:\u001b[0m\u001b[0;34m\u001b[0m\u001b[0;34m\u001b[0m\u001b[0m\n\u001b[1;32m    733\u001b[0m                 \u001b[0;31m# re-raise KeyboardInterrupt, to truncate traceback\u001b[0m\u001b[0;34m\u001b[0m\u001b[0;34m\u001b[0m\u001b[0;34m\u001b[0m\u001b[0m\n\u001b[0;32m--> 734\u001b[0;31m                 \u001b[0;32mraise\u001b[0m \u001b[0mKeyboardInterrupt\u001b[0m\u001b[0;34m\u001b[0m\u001b[0;34m\u001b[0m\u001b[0m\n\u001b[0m\u001b[1;32m    735\u001b[0m             \u001b[0;32melse\u001b[0m\u001b[0;34m:\u001b[0m\u001b[0;34m\u001b[0m\u001b[0;34m\u001b[0m\u001b[0m\n\u001b[1;32m    736\u001b[0m                 \u001b[0;32mbreak\u001b[0m\u001b[0;34m\u001b[0m\u001b[0;34m\u001b[0m\u001b[0m\n",
            "\u001b[0;31mKeyboardInterrupt\u001b[0m: "
          ]
        }
      ]
    },
    {
      "cell_type": "code",
      "source": [
        "print(json.dumps(data, indent=4, sort_keys=True))"
      ],
      "metadata": {
        "id": "7CxEPNxzR67U"
      },
      "execution_count": null,
      "outputs": []
    },
    {
      "cell_type": "code",
      "source": [
        ""
      ],
      "metadata": {
        "id": "Hua3hJmAn2iY"
      },
      "execution_count": null,
      "outputs": []
    }
  ]
}