{
 "cells": [
  {
   "cell_type": "markdown",
   "id": "791e515ebd9602ba",
   "metadata": {
    "collapsed": false
   },
   "source": [
    "# HW4: Building an AI Game Master\n",
    "\n",
    "*Author: Andrew Zhu (andrz@seas.upenn.edu)*\n",
    "\n",
    "In this homework, we'll use Kani to build a simple Game Master (GM) for the [Mausritter TTRPG](https://losing-games.itch.io/mausritter). Your GM will help walk you through creating a mouse and rolling dice to overcome challenges in the game. Along the way, you'll learn the basics of the [Kani library](https://kani.readthedocs.io/en/latest/), function calling with LLMs, and how a LLM can use structured information to act as a game state manager.\n",
    "\n",
    "We won't implement more complex systems like combat or spellcasting in this homework, but extending this system to make a more comprehensive GM (e.g. adding inventory tracking, combat, spellcasting, structured tracking of NPCs, ...) would make for a great class final project.\n",
    "\n",
    "## What You'll Need\n",
    "\n",
    "- A copy of the [Mausritter rules](https://losing-games.itch.io/mausritter) (available for free on itch.io)\n",
    "- Your [Helicone key](https://www.helicone.ai/developer)\n",
    "- Recommended: the [Kani documentation](https://kani.readthedocs.io/en/latest/)\n",
    "- Optional: the [d20 documentation](https://d20.readthedocs.io/en/latest/start.html)"
   ]
  },
  {
   "cell_type": "markdown",
   "id": "8e8767ce421fb978",
   "metadata": {
    "collapsed": false
   },
   "source": [
    "# Part 0: Setup\n",
    "\n",
    "*Reference: [Installation (Kani Documentation)](https://kani.readthedocs.io/en/latest/install.html)*\n",
    "\n",
    "First, let's install the libraries we're using and configure Kani to use the Helicone proxy. Kani requires Python 3.10 or higher - if you encounter an error saying \"No matching distribution found\", you may need to upgrade your Python version.\n",
    "\n",
    "## Virtual Environment\n",
    "\n",
    "Before we get started, I recommend setting up a virtual environment for this homework. To set up a virtual environment, use the following terminal commands:\n",
    "\n",
    "Mac/Linux:\n",
    "```shell\n",
    "python3.10 -m venv ./venv\n",
    "./venv/bin/activate\n",
    "pip install jupyter\n",
    "```\n",
    "\n",
    "Windows:\n",
    "```shell\n",
    "python3.10 -m venv venv\n",
    "venv\\Scripts\\activate.bat\n",
    "pip install jupyter\n",
    "```\n",
    "\n",
    "You may need to restart your IDE after creating a new virtual environment for it to detect the interpreter. Now, when we install dependencies, it won't affect the global environment.\n",
    "\n",
    "## Line Wrapping\n",
    "\n",
    "If you're using VSCode, you may want to enable word wrap for your notebook so long outputs on a single line automatically fold to multiple lines. You can find the wordwrap option by clicking on the gear icon in the upper right hand corner of your .ipynb file, then click \"Customize Notebook Layout\", then scroll down to the bottom of the settings and select \"Notebook Output Word Wrap\"."
   ]
  },
  {
   "cell_type": "code",
   "execution_count": null,
   "id": "5020e9a26106b8c9",
   "metadata": {
    "collapsed": false
   },
   "outputs": [],
   "source": [
    "# Install dependencies\n",
    "!pip install -q d20 'kani[openai]' openai"
   ]
  },
  {
   "cell_type": "markdown",
   "source": [
    "We'll use GPT-4 as our LLM of choice, so we'll configure it as our *engine* (a Kani concept used to provide a standard interface to a LLM).\n",
    "\n",
    "<div>\n",
    "<img src=\"https://kani.readthedocs.io/en/latest/_images/concepts-figure.png\" width=\"700\"/>\n",
    "</div>\n",
    "\n",
    "To save you money with all of your prompting to GPT-4, you can use the Helicone account for the class. You should set your Helicone API Key (which you can find [here](https://www.helicone.ai/developer)) on the terminal with the command `export HELICONE_API_KEY=sk-helicone-cp-###########`. If you're using VS Code, you can launch it from your terminal with the `code` command and prefix it with this export statement on the same line. For example:\n",
    "\n",
    "```\n",
    "cd your/homework/dir\n",
    "source venv/bin/activate\n",
    "HELICONE_API_KEY=sk-helicone-cp-###########  code .\n",
    "```\n",
    "\n",
    "Alternatively, you can enter it by running the next cell. For more information on using the Helicone proxy, see [this Ed post](https://edstem.org/us/courses/50468/discussion/4413041).\n",
    "\n",
    "We'll use the `engine` global throughout the rest of this homework."
   ],
   "metadata": {
    "collapsed": false
   },
   "id": "994e8b365eb35c24"
  },
  {
   "cell_type": "code",
   "outputs": [],
   "source": [
    "import os\n",
    "from getpass import getpass\n",
    "\n",
    "# Set up your Helicone API key here\n",
    "if \"HELICONE_API_KEY\" not in os.environ:\n",
    "    print(\"You didn't set your Helicone key to the HELICONE_API_KEY env var on the command line.\")\n",
    "    os.environ[\"HELICONE_API_KEY\"] = getpass(\"Please enter your Helicone API Key now: \")"
   ],
   "metadata": {
    "collapsed": false
   },
   "id": "a0ea074a6d84580d"
  },
  {
   "cell_type": "code",
   "execution_count": null,
   "id": "ab8f01b567722ed3",
   "metadata": {
    "collapsed": false
   },
   "outputs": [],
   "source": [
    "# Set up a GPT-4 engine using the Helicone proxy\n",
    "from kani.engines.openai import OpenAIEngine\n",
    "\n",
    "engine = OpenAIEngine(api_key=os.environ[\"HELICONE_API_KEY\"], model=\"gpt-4\", api_base=\"https://oai.hconeai.com/v1\")"
   ]
  },
  {
   "cell_type": "markdown",
   "id": "a131c0e4a28c3c87",
   "metadata": {
    "collapsed": false
   },
   "source": [
    "# Part 1: Dice Rolling & Function Calling\n",
    "\n",
    "First, let's get familiar with the libraries we're going to use. \n",
    "\n",
    "## 1.1: Dice Rolling\n",
    "\n",
    "To implement dice rolling, we'll use `d20`, a Python dice library I wrote for D&D. This library parses RPG dice notation and rolls the specified dice. For this homework, we'll use its output as Markdown, but if you're interested in a deeper dive into the library, the output is a [structured eval tree](https://d20.readthedocs.io/en/latest/expression.html).\n",
    "\n",
    "Mausritter uses standard RPG dice notation throughout.\n",
    "\n",
    "For example:\n",
    "- `d20` means: Roll a single 20-sided die\n",
    "- `1d8` means: Roll a single 8-sided die\n",
    "- `3d6` means: Roll three 6-sided dice, add them together\n",
    "\n",
    "In certain circumstances, you'll need to roll some dice and keep only the N highest (e.g. 4d6, keep highest 3). `d20` expresses this in \"keep-highest\" notation:\n",
    "\n",
    "- `4d6kh3` means: Roll four six-sided dice, add the highest three together\n",
    "- `2d20kl1` means: Roll two d20s, keep the lower (\"disadvantage\" in D&D, \"advantage\" in Mausritter)\n",
    "\n",
    "For more examples, check out [the documentation](https://d20.readthedocs.io/en/latest/start.html#examples). Try running this cell a couple times to see what the result of these rolls are! Feel free to add more rolls to experiment, too."
   ]
  },
  {
   "cell_type": "code",
   "execution_count": null,
   "id": "5bb9adaa0fb329e2",
   "metadata": {
    "collapsed": false
   },
   "outputs": [],
   "source": [
    "from d20 import roll\n",
    "\n",
    "print(roll(\"d20\"))\n",
    "print(roll(\"1d8\"))\n",
    "print(roll(\"3d6\"))\n",
    "print(roll(\"4d6kh3\"))\n",
    "print(roll(\"2d20kl1\"))"
   ]
  },
  {
   "cell_type": "code",
   "execution_count": null,
   "id": "a3c73a3997007b5f",
   "metadata": {
    "collapsed": false
   },
   "outputs": [],
   "source": [
    "# d20 can also handle basic math:\n",
    "print(roll(\"2d6 * 3\"))\n",
    "print(roll(\"1d6 * 10 + 1d6\"))"
   ]
  },
  {
   "cell_type": "markdown",
   "id": "83c9efda75a85b2a",
   "metadata": {
    "collapsed": false
   },
   "source": [
    "The `roll()` function returns a `RollResult` object, which contains the stringified roll (`RollResult.result`), its numeric total (`RollResult.total`), and the eval tree. You can use this, for example, to roll stats for a mouse!\n",
    "\n",
    "Mausritter defines your mouse's stats as such:\n",
    "\n",
    "> For each attribute, in order, roll 3d6. Keep the two highest dice results for a value between 2—12.\n",
    "\n",
    "To make sure you understand how to use d20, let's this into a roll statement for one attribute, and print the result and final rolled total here."
   ]
  },
  {
   "cell_type": "code",
   "execution_count": null,
   "id": "63329b3318909969",
   "metadata": {
    "collapsed": false
   },
   "outputs": [],
   "source": [
    "# TODO: roll one attribute and print its roll and value\n",
    "attr_result = roll(\"...\")\n",
    "print(...)\n",
    "print(...)"
   ]
  },
  {
   "cell_type": "markdown",
   "id": "1135d9a9bbe5ed9",
   "metadata": {
    "collapsed": false
   },
   "source": [
    "## 1.2: Function Calling\n",
    "\n",
    "*Reference: [Function Calling (Kani Documentation)](https://kani.readthedocs.io/en/latest/function_calling.html)*\n",
    "\n",
    "Now, let's give a LLM the ability to roll dice! With Kani, you can write functions in Python and expose them to the model with just one line of code: the `@ai_function` decorator.\n",
    "\n",
    "To create a kani with function calling, make a subclass of Kani and write your functions as methods. In order for a language model to effectively know what our AI functions do, we need to document them. We do this inline in the function: through type annotations and the docstring.\n",
    "\n",
    "The allowed types are:\n",
    "\n",
    "- Python primitive types (`None`, `bool`, `str`, `int`, `float`)\n",
    "- an enum (`enum.Enum`)\n",
    "- a list or dict of the above types (e.g. `list[str]`, `dict[str, int]`, `list[SomeEnum]`)\n",
    "\n",
    "When the AI calls into the function, kani validates the AI’s requested parameters and guarantees that the passed parameters are of the annotated type by the time they reach your code.\n",
    "\n",
    "By default, the function’s description will be taken from its docstring, and name from the source.\n",
    "\n",
    "To specify the descriptions of parameters, you can provide an AIParam annotation using a `typing.Annotated` type annotation.\n",
    "\n",
    "For example, you might annotate a parameter `timezone: str` with an example, like `timezone: Annotated[str, AIParam(\"The IANA time zone, e.g. America/New_York\")]`.\n",
    "\n",
    "Let's use this to expose the `roll()` function to GPT-4. Your method should take in the dice as a string, and return the resulting Markdown roll to the model."
   ]
  },
  {
   "cell_type": "code",
   "execution_count": null,
   "id": "cc56804cb49a12fe",
   "metadata": {
    "collapsed": false
   },
   "outputs": [],
   "source": [
    "from kani import Kani, ai_function, ChatMessage\n",
    "\n",
    "\n",
    "class DiceKani(Kani):\n",
    "    @ai_function()\n",
    "    def roll(\n",
    "        self,\n",
    "        # TODO: add a parameter to this method to tell the model what to pass to it\n",
    "    ):\n",
    "        \"\"\"\n",
    "        TODO: Add documentation to this method to tell the model how to use it\n",
    "        HINT: Try giving the model examples, or telling it to use RPG notation\n",
    "        \"\"\"\n",
    "        # TODO: roll the dice provided by the model and return the result to it\n",
    "        result = ...\n",
    "        return result"
   ]
  },
  {
   "cell_type": "markdown",
   "id": "39af92887a663385",
   "metadata": {
    "collapsed": false
   },
   "source": [
    "Now, let's create an instance of your Kani with dice rolling and ask it to roll dice. In addition to standard queries like \"roll me 4d6,\" an LLM can translate more complex queries from natural language to RPG dice syntax. Try asking it to roll an attribute for a mouse using Mausritter's natural language description, or even something that relies on background knowledge, like damage for a fireball spell.\n",
    "\n",
    "To exit the chat session, send the word `!stop`."
   ]
  },
  {
   "cell_type": "code",
   "execution_count": null,
   "id": "6db44f10e7f1556d",
   "metadata": {
    "collapsed": false
   },
   "outputs": [],
   "source": [
    "from kani import chat_in_terminal\n",
    "\n",
    "dice_ai = DiceKani(engine)\n",
    "chat_in_terminal(dice_ai, stopword=\"!stop\", verbose=True)"
   ]
  },
  {
   "cell_type": "markdown",
   "id": "4dfb7cc59b9bc713",
   "metadata": {
    "collapsed": false
   },
   "source": [
    "Easy, right? You can add more functions easily by defining more methods in your Kani subclass, and implement complex logic in the function body too. Let's use this to do something a little more complex: creating a character.\n",
    "\n",
    "# Part 2: Character Creation\n",
    "\n",
    "*Reference: Mausritter rulebook, pg. 8; [Function Calling (Kani Documentation)](https://kani.readthedocs.io/en/latest/function_calling.html)*\n",
    "\n",
    "Before we get started playing Mausritter, you need to make a mouse! Luckily, making a mouse is easy: just roll for stats, background, and details. We'll record the equipment your mouse starts with in this homework, but won't implement a full structured inventory system (unless you are doing an extension).\n",
    "\n",
    "## 2.1: Character Creator Agent\n",
    "\n",
    "Let's build an AI agent to help walk us through character creation. Since character creation is fairly algorithmic, it's possible to write a character generator (like the one at https://mausritter.com/mouse/) without the use of an LLM at all - but in this homework, we'll use GPT-4 to parse the rules and output a mouse, ready to go.\n",
    "\n",
    "First, let's define the goal: your agent should output a `Mouse` as defined here. Each of the structured character attributes matches those defined in the Mausritter rules, and we'll also add a LLM-generated prose description of your mouse.\n"
   ]
  },
  {
   "cell_type": "code",
   "execution_count": null,
   "id": "1b93ab58328bfa23",
   "metadata": {
    "collapsed": false
   },
   "outputs": [],
   "source": [
    "import dataclasses\n",
    "from dataclasses import dataclass\n",
    "\n",
    "\n",
    "@dataclass\n",
    "class Mouse:\n",
    "    # structured character attributes\n",
    "    strength: int\n",
    "    dexterity: int\n",
    "    will: int\n",
    "    hp: int\n",
    "    pips: int\n",
    "    background: str\n",
    "    birthsign: str\n",
    "    disposition: str\n",
    "    coat: str\n",
    "    physical_detail: str\n",
    "    name: str\n",
    "\n",
    "    # LLM-generated\n",
    "    description: str = \"\"\n",
    "\n",
    "\n",
    "# Here's an example Mouse:\n",
    "horatio = Mouse(\n",
    "    name=\"Horatio Seedfall\",\n",
    "    background=\"Ale brewer\",\n",
    "    strength=11,\n",
    "    dexterity=10,\n",
    "    will=8,\n",
    "    hp=2,\n",
    "    birthsign=\"Wheel\",\n",
    "    disposition=\"Industrious / Unimaginative\",\n",
    "    coat=\"Chocolate, flecked\",\n",
    "    physical_detail=\"Tiny body\",\n",
    "    pips=3,\n",
    "    description=(\n",
    "        'Horatio Seedfall, more commonly known as \"Ale Brewer\" in his local mouse village, is a pint-sized powerhouse.'\n",
    "        \" His fur, a rich chocolate hue speckled with an array of lighter flecks, is reminiscent of the fine, roasted\"\n",
    "        \" barley he uses in his brewing. His small size might deceive the unassuming observer, but beneath that tiny\"\n",
    "        \" body of his lies a heart as tenacious as a bear's.\"\n",
    "    ),\n",
    ")"
   ]
  },
  {
   "cell_type": "markdown",
   "id": "588c07de64bbbd9b",
   "metadata": {
    "collapsed": false
   },
   "source": [
    "Now, we'll define a subclass of the `DiceKani` we made in part 1. This means that this Kani will also have access to roll dice!\n",
    "\n",
    "You have a lot of freedom on how to implement the mouse creator here. Maybe you'll add functions to roll on each of the tables in the rulebook? Maybe you'll generate your mouse's background and other story attributes using the tables only for inspiration? Maybe you'll be able to simply prompt GPT-4 with the mouse creation instructions?\n",
    "\n",
    "Remember, we aren't tracking inventory in this homework in the structured JSON (unless you are doing an extension), so you don't need to generate structured data regarding items. **You should have the LLM write down what items come with your mouse's background in their prose description, though.**\n",
    "\n",
    "Regardless of the approach you choose, your Kani should call the provided `make_mouse` function at least once. This function shows how you can use function calling to make GPT-4 output a fairly large amount of structured data by presenting the desired data format as function parameters."
   ]
  },
  {
   "cell_type": "code",
   "execution_count": null,
   "id": "8b4ef19bb9e7daca",
   "metadata": {
    "collapsed": false
   },
   "outputs": [],
   "source": [
    "class MouseCreatorKani(DiceKani):\n",
    "    def __init__(self, *args, **kwargs):\n",
    "        super().__init__(*args, **kwargs)\n",
    "        self.mouse = None\n",
    "\n",
    "    # TODO: add additional ai_functions here if needed\n",
    "    # e.g. roll_attribute, lookup_background, roll_birthsign, generate_description, etc.\n",
    "\n",
    "    # your Kani should call this at least once and output a valid mouse!\n",
    "    # this parses the parameters GPT-4 generates and passes them to the Mouse constructor,\n",
    "    # then saves them to an instance attribute so we can use the created Mouse later\n",
    "    @ai_function()\n",
    "    def make_mouse(\n",
    "        self,\n",
    "        # TODO: Modify the types of the parameters of this method to add model prompting if needed\n",
    "        strength: int,\n",
    "        dexterity: int,\n",
    "        will: int,\n",
    "        hp: int,\n",
    "        pips: int,\n",
    "        background: str,\n",
    "        birthsign: str,\n",
    "        disposition: str,\n",
    "        coat: str,\n",
    "        physical_detail: str,\n",
    "        name: str,\n",
    "        description: str,\n",
    "    ):\n",
    "        \"\"\"\n",
    "        TODO: Add documentation to this method to tell the model how to use it\n",
    "        \"\"\"\n",
    "        self.mouse = Mouse(\n",
    "            strength=strength,\n",
    "            dexterity=dexterity,\n",
    "            will=will,\n",
    "            hp=hp,\n",
    "            pips=pips,\n",
    "            background=background,\n",
    "            birthsign=birthsign,\n",
    "            disposition=disposition,\n",
    "            coat=coat,\n",
    "            physical_detail=physical_detail,\n",
    "            name=name,\n",
    "            description=description,\n",
    "        )\n",
    "        # TODO: Tell GPT-4 that you successfully created or updated the mouse\n",
    "        return \"...\""
   ]
  },
  {
   "cell_type": "markdown",
   "id": "cc9c4a2c6257b777",
   "metadata": {
    "collapsed": false
   },
   "source": [
    "You can add additional prompting here to tell the agent how to use your provided functions (e.g. a high-level flow)."
   ]
  },
  {
   "cell_type": "code",
   "execution_count": null,
   "id": "5b4fd94daf2d689",
   "metadata": {
    "collapsed": false
   },
   "outputs": [],
   "source": [
    "# TODO: instruct GPT-4 on how to call the functions you provided to it to create a mouse.\n",
    "# Not sure where to start? Try giving it the whole mouse creation rules\n",
    "MOUSE_CREATOR_PROMPT = \"\"\"\n",
    "...\n",
    "\"\"\""
   ]
  },
  {
   "cell_type": "markdown",
   "id": "a6e8fae0809710db",
   "metadata": {
    "collapsed": false
   },
   "source": [
    "Finally, chat with your agent and make a mouse! We'll use your mouse in the last part to play a small game of Mausritter."
   ]
  },
  {
   "cell_type": "code",
   "execution_count": null,
   "id": "e5814a3541956d0a",
   "metadata": {
    "collapsed": false
   },
   "outputs": [],
   "source": [
    "# Run this cell to reset the state of your mouse creator\n",
    "mouse_creator_ai = MouseCreatorKani(engine, always_included_messages=[ChatMessage.user(MOUSE_CREATOR_PROMPT)])"
   ]
  },
  {
   "cell_type": "code",
   "execution_count": null,
   "id": "39d2722739d214f",
   "metadata": {
    "collapsed": false
   },
   "outputs": [],
   "source": [
    "import time\n",
    "\n",
    "# You can rerun this cell to continue conversation with your mouse creator\n",
    "# Send \"!stop\" when you are done making your mouse\n",
    "chat_in_terminal(mouse_creator_ai, stopword=\"!stop\", verbose=True)\n",
    "mouse_creator_ai.save(f\"creator-{int(time.time())}.json\")"
   ]
  },
  {
   "cell_type": "markdown",
   "id": "e1ac04b2315f2356",
   "metadata": {
    "collapsed": false
   },
   "source": [
    "Let's retrieve your mouse and print them here, to make sure everything saved correctly. Let's also save it to a JSON file in case you rerun this notebook and want to continue from here."
   ]
  },
  {
   "cell_type": "code",
   "execution_count": null,
   "id": "47960aa9efa3a764",
   "metadata": {
    "collapsed": false
   },
   "outputs": [],
   "source": [
    "import json\n",
    "\n",
    "my_mouse = mouse_creator_ai.mouse\n",
    "mouse_dict = dataclasses.asdict(my_mouse)\n",
    "\n",
    "with open(\"my-character.json\", \"w\") as f:\n",
    "    json.dump(mouse_dict, f, indent=2)\n",
    "\n",
    "mouse_dict"
   ]
  },
  {
   "cell_type": "code",
   "outputs": [],
   "source": [
    "# To load a saved mouse, run this cell\n",
    "with open(\"my-character.json\") as f:\n",
    "    mouse_dict = json.load(f)\n",
    "my_mouse = Mouse(**mouse_dict)"
   ],
   "metadata": {
    "collapsed": false
   },
   "id": "e649a84ae54913c3"
  },
  {
   "cell_type": "markdown",
   "id": "5087318f77b16778",
   "metadata": {
    "collapsed": false
   },
   "source": [
    "If all goes well, you now have a mouse to play with! In the cell below, write down your high-level approach to the character creator -- e.g. did you give the model flexible control over the process or strict step-by-step instructions -- and any insights you learned while iterating on the agent.\n",
    "\n",
    "Some things you could mention: Do you think a player who's never played a TTRPG before could create a mouse using your character creator by chatting with your agent and asking questions where they don't understand? How might you implement this agent in part of a larger system?\n",
    "\n",
    "In the next part, we'll make a Kani that can roll checks and saves, and play a small game of Mausritter."
   ]
  },
  {
   "cell_type": "code",
   "execution_count": null,
   "id": "e9a87ad4a671c3b8",
   "metadata": {
    "collapsed": false
   },
   "outputs": [],
   "source": [
    "CHARACTER_CREATOR_INSIGHTS = \"\"\"\n",
    "TODO: Add your thoughts here\n",
    "\"\"\""
   ]
  },
  {
   "cell_type": "markdown",
   "source": [
    "## 2.2: Use DALL-E to generate a character portrait\n",
    "\n",
    "*Reference: [Images (OpenAI Documentation)](https://platform.openai.com/docs/api-reference/images)*\n",
    "\n",
    "Now we've generated a structured representation of your mouse and a prose description of what they look like, but can we turn this collection of attributes into an image? Let's use DALL-E 3 to generate a portrait of your mouse!\n",
    "\n",
    "You'll need to use your personal OpenAI account for this, as Helicone cannot proxy image generation requests. It costs $0.04-$0.12 to generate one image with DALL-E 3, depending on the resolution and quality settings (https://openai.com/pricing). Run the next cell to set up your personal OpenAI API key."
   ],
   "metadata": {
    "collapsed": false
   },
   "id": "d1a8967dc3470f3b"
  },
  {
   "cell_type": "code",
   "outputs": [],
   "source": [
    "if \"OPENAI_API_KEY\" not in os.environ:\n",
    "    print(\"You didn't set your OpenAI key to the OPENAI_API_KEY env var on the command line.\")\n",
    "    os.environ[\"OPENAI_API_KEY\"] = getpass(\"Please enter your OpenAI API Key now: \")"
   ],
   "metadata": {
    "collapsed": false
   },
   "id": "69247e7885aa5327",
   "execution_count": null
  },
  {
   "cell_type": "code",
   "outputs": [],
   "source": [
    "import httpx\n",
    "from openai import OpenAI\n",
    "\n",
    "# create the OpenAI client\n",
    "dalle_client = OpenAI()\n",
    "http = httpx.Client()\n",
    "\n",
    "# make a folder to save generated images\n",
    "os.makedirs(\"dalle\", exist_ok=True)"
   ],
   "metadata": {
    "collapsed": false
   },
   "id": "2214fe30be0e587f"
  },
  {
   "cell_type": "markdown",
   "source": [
    "This code cell defines what you'll need to call the DALL-E API. It provides the `generate_image(prompt)` function which will call the Generate Image endpoint and download the generated image.\n",
    "\n",
    "DALL-E 3 will also revise the prompt you provide to it by default, augmenting it with more synthetic details like we did in HW3. This can often help the model generate higher-fidelity images, but can also introduce weird hallucinations into the final image. The `generate_image` function will print out both the original prompt and its revision as sent to the image generation model."
   ],
   "metadata": {
    "collapsed": false
   },
   "id": "666fb2c01bd5f055"
  },
  {
   "cell_type": "code",
   "outputs": [],
   "source": [
    "import re\n",
    "from IPython.display import Image, display\n",
    "\n",
    "\n",
    "def make_safe_filename(name, ext=\".png\"):\n",
    "    \"\"\"Ensure that a filename is safe to save to disk (replace any non-alphanumeric characters with an underscore).\"\"\"\n",
    "    name = re.sub(r\"[^a-zA-Z0-9-]+\", \"_\", name)\n",
    "    name = name[:100]\n",
    "    return f\"{name}{ext}\"\n",
    "\n",
    "\n",
    "def generate_image(prompt):\n",
    "    \"\"\"Generate an image, save it to disk, and display it.\n",
    "\n",
    "    Returns a dict {\"image_path\": \"...\", \"original_prompt\": \"...\", \"revised_prompt\": \"...\"}.\n",
    "    \"\"\"\n",
    "\n",
    "    # generate the image using the OpenAI API\n",
    "    resp = dalle_client.images.generate(\n",
    "        prompt=prompt,\n",
    "        model=\"dall-e-3\",\n",
    "        response_format=\"url\",\n",
    "        quality=\"hd\",  # feel free to change to \"standard\" for some cost savings\n",
    "        size=\"1024x1024\",  # also try \"1024x1792\" for portrait or \"1792x1024\" for landscape\n",
    "        style=\"vivid\",  # \"vivid\" or \"natural\"\n",
    "    )\n",
    "    image = resp.data[0]\n",
    "\n",
    "    # download the generated image from URL (expires after 60m)\n",
    "    fp = f\"dalle/{make_safe_filename(image.revised_prompt)}\"\n",
    "    with open(fp, \"wb\") as f:\n",
    "        with http.stream(\"GET\", image.url) as r:\n",
    "            for data in r.iter_bytes():\n",
    "                f.write(data)\n",
    "\n",
    "    # show the prompt, DALL-E rewrite, and the image\n",
    "    print(\"Original prompt:\", prompt)\n",
    "    print()\n",
    "    print(\"Revised prompt:\", image.revised_prompt)\n",
    "    print()\n",
    "    print(f\"Saved to {fp}\")\n",
    "    display(Image(fp, width=500, height=500))\n",
    "\n",
    "    return {\"image_path\": fp, \"original_prompt\": prompt, \"revised_prompt\": image.revised_prompt}"
   ],
   "metadata": {
    "collapsed": false
   },
   "id": "8b370ebfdf8f7c2"
  },
  {
   "cell_type": "markdown",
   "source": [
    "Now it's up to you to generate an image for your mouse you created in part 2.1. You could manually write a prompt, create a template based off the structured attributes you have available, or create a new Kani agent to write prompts for you! Whichever you choose, please describe your approach below.\n",
    "\n",
    "Feel free to modify the commented parameters in the `dalle_client.images.generate` call above."
   ],
   "metadata": {
    "collapsed": false
   },
   "id": "98083e7e6b4369ee"
  },
  {
   "cell_type": "code",
   "outputs": [],
   "source": [
    "# TODO: Use generate_image() to create a portrait for your mouse"
   ],
   "metadata": {
    "collapsed": false
   },
   "id": "50d475100a9dfb7"
  },
  {
   "cell_type": "code",
   "outputs": [],
   "source": [
    "# TODO: What approach did you use to create prompts for DALL-E? What strengths and weaknesses does this approach have? If you tried multiple approaches, how do they compare?\n",
    "DALLE_APPROACHES = \"\"\"\n",
    "...\n",
    "\"\"\""
   ],
   "metadata": {
    "collapsed": false
   },
   "id": "85bdb811ffb32694"
  },
  {
   "cell_type": "markdown",
   "id": "9af6e426be720d8",
   "metadata": {
    "collapsed": false
   },
   "source": [
    "# Part 3: Playing the Game\n",
    "\n",
    "*Reference: Mausritter rulebook, pg. 12 & pg. 18*\n",
    "\n",
    "Finally, let's make a GM Kani! If you're familiar with [AI Dungeon](https://aidungeon.com/), the concept here is similar: the model will act as our GM, defining the world and challenges in it. Unlike AI Dungeon, though, we have a character that we created and the ability to roll based off that character sheet!\n",
    "\n",
    "Let's implement Saves (Mausritter p. 12):\n",
    "\n",
    "> When you describe your mouse doing something risky where the outcome is uncertain and failure has consequences, the GM will ask you to make a save against either STR, DEX or WIL.\n",
    "> To make a save, roll a d20. If the result is less than or equal to the relevant attribute, your mouse succeeds, and suffers no consequences. If the result is over the attribute, your mouse fails, and suffers the consequences described by the GM.\n",
    "\n",
    "Again, we'll make a Kani that subclasses our DiceKani in part 1. You should implement the `roll_save` method that takes in the stat and if the roll is at advantage or disadvantage, and returns whether or not the save was successful."
   ]
  },
  {
   "cell_type": "code",
   "execution_count": null,
   "id": "ea08aab5ed7cf9ad",
   "metadata": {
    "collapsed": false
   },
   "outputs": [],
   "source": [
    "class MausritterKani(DiceKani):\n",
    "    # This Kani should reference your mouse - let's pass it in the constructor.\n",
    "    def __init__(self, *args, mouse: Mouse, **kwargs):\n",
    "        super().__init__(*args, **kwargs)\n",
    "        self.mouse = mouse\n",
    "\n",
    "    @ai_function()\n",
    "    def roll_save(\n",
    "        self,\n",
    "        # TODO: add necessary parameters\n",
    "    ):\n",
    "        \"\"\"TODO: describe this method for the LLM\"\"\"\n",
    "        # TODO: roll a save for the given stat, compare it to your mouse's stats, and tell the LLM if you succeed or fail\n",
    "        return ..."
   ]
  },
  {
   "cell_type": "code",
   "execution_count": null,
   "id": "47220185387c2096",
   "metadata": {
    "collapsed": false
   },
   "outputs": [],
   "source": [
    "# TODO: instruct GPT-4 on how to call the functions you provided to it and high-level instructions to run the game.\n",
    "# You should also include information on the character you created so the GM can reference it.\n",
    "# Not sure where to start? Try telling it to introduce the world first.\n",
    "# You might also want to look at the play example on pg. 18 of the Mausritter rulebook.\n",
    "GM_PROMPT = \"\"\"\n",
    "...\n",
    "\"\"\""
   ]
  },
  {
   "cell_type": "code",
   "execution_count": null,
   "id": "2b47248e09b99957",
   "metadata": {
    "collapsed": false
   },
   "outputs": [],
   "source": [
    "# Run this cell to reset the state of your game\n",
    "# You can also add existing chat_history here if you'd like\n",
    "gm_ai = MausritterKani(engine, mouse=my_mouse, system_prompt=GM_PROMPT)"
   ]
  },
  {
   "cell_type": "markdown",
   "id": "48b343e4a2d32832",
   "metadata": {
    "collapsed": false
   },
   "source": [
    "Now, explore the world created by your model! When you're done, send `!stop`. The game transcript will be automatically saved to `gm.json`."
   ]
  },
  {
   "cell_type": "code",
   "execution_count": null,
   "id": "c08e4546ff1f8854",
   "metadata": {
    "collapsed": false
   },
   "outputs": [],
   "source": [
    "# You can rerun this cell to continue the game\n",
    "# Send \"!stop\" when you are done making your mouse\n",
    "chat_in_terminal(gm_ai, stopword=\"!stop\", verbose=True)\n",
    "gm_ai.save(f\"gm-{int(time.time())}.json\")"
   ]
  },
  {
   "cell_type": "markdown",
   "id": "25dc6287e4a92663",
   "metadata": {
    "collapsed": false
   },
   "source": [
    "## Structureless Comparison\n",
    "\n",
    "Cool, isn't it? But is it really *better* to provide LLMs with this structured information and access to tools?\n",
    "\n",
    "To answer this question, let's try playing without structure: only prompt GPT-4 to act as the GM WITHOUT access to your character sheet or dice rolling."
   ]
  },
  {
   "cell_type": "code",
   "execution_count": null,
   "id": "9e8aceb6984ac39d",
   "metadata": {
    "collapsed": false
   },
   "outputs": [],
   "source": [
    "# TODO: instruct GPT-4 on how to act as a Mausritter GM.\n",
    "# You should NOT include information on function calling, but may tell it about your character (your choice).\n",
    "GM_PROMPT_STRUCTURELESS = \"\"\"\n",
    "...\n",
    "\"\"\""
   ]
  },
  {
   "cell_type": "code",
   "execution_count": null,
   "id": "a493d056e08a9f5b",
   "metadata": {
    "collapsed": false
   },
   "outputs": [],
   "source": [
    "# We'll use an unmodified Kani here -- it won't have access to dice rolling.\n",
    "gm_ai_structureless = Kani(engine, system_prompt=GM_PROMPT_STRUCTURELESS)"
   ]
  },
  {
   "cell_type": "code",
   "execution_count": null,
   "id": "9b0183d91aadbd92",
   "metadata": {
    "collapsed": false
   },
   "outputs": [],
   "source": [
    "# You can rerun this cell to continue the game\n",
    "# Send \"!stop\" when you are done making your mouse\n",
    "chat_in_terminal(gm_ai_structureless, stopword=\"!stop\", verbose=True)\n",
    "gm_ai_structureless.save(f\"gm-structureless-{int(time.time())}.json\")"
   ]
  },
  {
   "cell_type": "markdown",
   "id": "b97a7bece1d20dbe",
   "metadata": {
    "collapsed": false
   },
   "source": [
    "Did you notice any significant difference in the gameplay in the short term? How about in the long term? Why do you think this might be? Could you think of any other functions you could expose to the GM to improve its story coherence over multiple play sessions? Write down your thoughts here."
   ]
  },
  {
   "cell_type": "code",
   "execution_count": null,
   "id": "a627b3c440b70724",
   "metadata": {
    "collapsed": false
   },
   "outputs": [],
   "source": [
    "AI_GM_THOUGHTS = \"\"\"\n",
    "TODO: Write your thoughts here.\n",
    "\"\"\""
   ]
  },
  {
   "cell_type": "markdown",
   "id": "8101aab5b275ed0",
   "metadata": {
    "collapsed": false
   },
   "source": [
    "That's it for HW4! Hopefully you've gained an understanding of how structured game state can influence LLMs, and how to use Kani with function calling to give LLMs powerful capabilities. These skills will come in handy as you begin working on your final projects!\n",
    "\n",
    "## What you should submit\n",
    "\n",
    "You should submit to Gradescope:\n",
    "- this notebook with all TODOs and free-response sections completed\n",
    "- the latest saved transcripts of your character creator agent and play (with a structured and unstructured AI GM)\n",
    "- the image(s) you generated of your character\n",
    "\n",
    "# Extension Ideas (for groups of 3+)\n",
    "\n",
    "- Implement more of the Mausritter mechanics (e.g. inventory, NPCs, spells, or combat)\n",
    "- Give your AI GM the ability to call `generate_image` to visualize the game as it's played"
   ]
  }
 ],
 "metadata": {
  "kernelspec": {
   "display_name": "Python 3 (ipykernel)",
   "language": "python",
   "name": "python3"
  },
  "language_info": {
   "codemirror_mode": {
    "name": "ipython",
    "version": 3
   },
   "file_extension": ".py",
   "mimetype": "text/x-python",
   "name": "python",
   "nbconvert_exporter": "python",
   "pygments_lexer": "ipython3",
   "version": "3.10.11"
  }
 },
 "nbformat": 4,
 "nbformat_minor": 5
}
