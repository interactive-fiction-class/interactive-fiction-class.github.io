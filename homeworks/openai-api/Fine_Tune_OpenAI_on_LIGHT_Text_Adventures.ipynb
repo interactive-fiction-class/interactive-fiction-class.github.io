{
  "nbformat": 4,
  "nbformat_minor": 0,
  "metadata": {
    "colab": {
      "name": "Fine-Tune OpenAI on LIGHT Text Adventures.ipynb",
      "provenance": [],
      "collapsed_sections": []
    },
    "kernelspec": {
      "name": "python3",
      "display_name": "Python 3"
    },
    "language_info": {
      "name": "python"
    }
  },
  "cells": [
    {
      "cell_type": "markdown",
      "metadata": {
        "id": "rnu0al-r2-xn"
      },
      "source": [
        "## Data for Learning to Speak and Act in a Fantasy Text Adventure Game\n",
        " \n",
        "\n",
        "Facebook AI Research released a dataset for their paper [Learning to Speak and Act in a Fantasy Text Adventure Game](https://arxiv.org/abs/1903.03094).\n",
        "\n",
        "Here's paper's abstract:\n",
        "\n",
        "> We introduce a large-scale crowdsourced text adventure game as a research platform for studying grounded dialogue. In it, agents can perceive, emote, and act while conducting dialogue with other agents. Models and humans can both act as characters within the game. We describe the results of training state-of-the-art generative and retrieval models in this setting. We show that in addition to using past dialogue, these models are able to effectively use the state of the underlying world to condition their predictions. In particular, we show that grounding on the details of the local environment, including location descriptions, and the objects (and their affordances) and characters (and their previous actions) present within it allows better predictions of agent behavior and dialogue. We analyze the ingredients necessary for successful grounding in this setting, and how each of these factors relate to agents that can talk and act successfully.\n",
        "\n",
        "Their data is called the LIGHT dataset (Learning in Interactive Games with Humans and Text).  It contains 663 locations, 3462 objects and 1755 characters.  I have divided this data into training/dev/test splits.\n"
      ]
    },
    {
      "cell_type": "markdown",
      "metadata": {
        "id": "5wAmCcXly0dF"
      },
      "source": [
        "## Load the data\n",
        "\n",
        "The LIGHT data was released as part of the Facebook's ParlAI system. I extracted the data into several JSON files:\n",
        "* ```light_environment_train.json``` contains information about the locations, objects, and characters in the text-adventure games.  \n",
        "* ```light_dialogue_data.json``` contains sample conversations between pairs of characters.   We'll use this later in the semester. \n",
        "\n"
      ]
    },
    {
      "cell_type": "code",
      "source": [
        "!wget https://raw.githubusercontent.com/interactive-fiction-class/interactive-fiction-class-data/master/light_dialogue/light_environment_train.json"
      ],
      "metadata": {
        "colab": {
          "base_uri": "https://localhost:8080/"
        },
        "id": "n7Koe3N-o34j",
        "outputId": "02cc7774-568f-4ce1-aadb-35e09bcd302e"
      },
      "execution_count": 47,
      "outputs": [
        {
          "output_type": "stream",
          "name": "stdout",
          "text": [
            "--2022-01-22 13:40:26--  https://raw.githubusercontent.com/interactive-fiction-class/interactive-fiction-class-data/master/light_dialogue/light_environment_train.json\n",
            "Resolving raw.githubusercontent.com (raw.githubusercontent.com)... 185.199.108.133, 185.199.109.133, 185.199.110.133, ...\n",
            "Connecting to raw.githubusercontent.com (raw.githubusercontent.com)|185.199.108.133|:443... connected.\n",
            "HTTP request sent, awaiting response... 200 OK\n",
            "Length: 3541467 (3.4M) [text/plain]\n",
            "Saving to: ‘light_environment_train.json.1’\n",
            "\n",
            "light_environment_t 100%[===================>]   3.38M  --.-KB/s    in 0.04s   \n",
            "\n",
            "2022-01-22 13:40:27 (80.2 MB/s) - ‘light_environment_train.json.1’ saved [3541467/3541467]\n",
            "\n"
          ]
        }
      ]
    },
    {
      "cell_type": "code",
      "metadata": {
        "id": "IGKKGBqBqEmu"
      },
      "source": [
        "import sys\n",
        "import os\n",
        "import json\n",
        "\n",
        "json_filename = 'light_environment_train.json'\n",
        "\n",
        "f = open(json_filename)\n",
        "light_environment = json.load(f)\n"
      ],
      "execution_count": 48,
      "outputs": []
    },
    {
      "cell_type": "markdown",
      "metadata": {
        "id": "hHv2CUS8ev1W"
      },
      "source": [
        "# LIGHT Environment Data\n",
        "\n",
        "This section of the Python Notebook will walk you through the LIGHT environment data to show you the different elements of the JSON file.  We will use different pieces of these to fine-tune GPT3 in order to generate new locations and objects for our own text adventure games."
      ]
    },
    {
      "cell_type": "markdown",
      "metadata": {
        "id": "E0xV_dEgxWzs"
      },
      "source": [
        "\n",
        "### Categories\n",
        "\n",
        "The locations in LIGHT environment are grouped by categories. \n",
        "\n",
        "```\n",
        "categories =  light_environment['categories']\n",
        "\n",
        "categories\n",
        "\n",
        " {'11': 'Graveyard',\n",
        " '12': 'Wasteland',\n",
        " '13': 'Abandoned',\n",
        " '14': 'Mountain',\n",
        " '15': 'Cave',\n",
        " '16': 'Tavern',\n",
        " '17': 'Jungle',\n",
        " '18': 'Trail',\n",
        " '19': 'Town',\n",
        " '2': 'Forest',\n",
        " '20': 'Dungeon',\n",
        " '21': 'Inside Cottage',\n",
        " ... }\n",
        "```\n"
      ]
    },
    {
      "cell_type": "markdown",
      "source": [
        "I split the LIGHT environment data into training/dev/test splits based on cateogries.  Here are the categories that ended up in the training partition."
      ],
      "metadata": {
        "id": "mZ23DinPbaAT"
      }
    },
    {
      "cell_type": "code",
      "metadata": {
        "id": "uKAK1k3-zB0G",
        "colab": {
          "base_uri": "https://localhost:8080/"
        },
        "outputId": "d3f8c32a-ad7e-46fd-926b-8ad0dfe91eb1"
      },
      "source": [
        "def get_categories(light_environment):\n",
        "  return light_environment['categories'].values()\n",
        "categories = get_categories(light_environment)\n",
        "\n",
        "print(\"\\n\".join(categories))"
      ],
      "execution_count": 49,
      "outputs": [
        {
          "output_type": "stream",
          "name": "stdout",
          "text": [
            "Forest\n",
            "Shore\n",
            "Countryside\n",
            "Port\n",
            "Swamp\n",
            "Lake\n",
            "Graveyard\n",
            "Abandoned\n",
            "Cave\n",
            "Trail\n",
            "Dungeon\n",
            "Outside Cottage\n",
            "Inside Castle\n",
            "Outside Castle\n",
            "Inside Church\n",
            "Outside Church\n",
            "Inside Temple\n",
            "Outside Temple\n",
            "Inside Tower\n",
            "Outside Tower\n",
            "Inside Palace\n",
            "Outside Palace\n",
            "Farm\n",
            "city in the clouds\n",
            "magical realm\n",
            "netherworld\n",
            "supernatural\n",
            "underwater aquapolis\n"
          ]
        }
      ]
    },
    {
      "cell_type": "markdown",
      "metadata": {
        "id": "RSp7_DmMzCq1"
      },
      "source": [
        "\n",
        "### Rooms\n",
        "\n",
        "In text-adventure games, locations or settings are often called \"rooms\".  Rooms have a primary description of the location, a secondary description of the location with its background information, connections to neighboring rooms, and they can contain objects or non-player characters. \n",
        "\n",
        "Here's what the data structure looks like for a particular room in LIGHT (room number 62, 'An Unfinished Mausoleum', part of the 'Graveyard' category.\n",
        "\n",
        "```\n",
        "rooms = light_environment['rooms']\n",
        "rooms['62']\n",
        "\n",
        "{'background': \"Bright white stone was all the fad for funerary architecture, once upon a time. It's difficult to understand why someone would abandon such a large and expensive undertaking. If they didn't have the money to finish it, they could have sold the stone, surely - or the mausoleum itself. Maybe they just haven't needed it yet? A bit odd, though, given how old it is. Maybe the gravedigger remembers... if he's sober.\",\n",
        " 'category': 'Graveyard',\n",
        " 'description': 'Two-and-a-half walls of the finest, whitest stone stand here, weathered by the passing of countless seasons. There is no roof, nor sign that there ever was one. All indications are that the work was abruptly abandoned. There is no door, nor markings on the walls. Nor is there any indication that any coffin has ever lain here... yet.',\n",
        " 'ex_characters': [204, 75, 156, 720],\n",
        " 'ex_objects': [1791, 1792, 439],\n",
        " 'in_characters': [203, 203],\n",
        " 'in_objects': [1790],\n",
        " 'neighbors': [108, 109],\n",
        " 'room_id': 62,\n",
        " 'setting': 'An Unfinished Mausoleum'}\n",
        "```\n",
        "\n",
        "The **in_objects** and **in_characters** are people and things that are explictly mentioned  listed in the description or the backstory.  The **ex_characters** and **ex_objects** are objects that are possibly present but not mentioned directly. These characters and objects are referenced by a numeric ID which are stored in a seperate part of the LIGHT environment file.\n",
        "\n"
      ]
    },
    {
      "cell_type": "markdown",
      "source": [
        "Here are the rooms that are in the 'Graveyard' category. "
      ],
      "metadata": {
        "id": "j8VHLHJ5c_c4"
      }
    },
    {
      "cell_type": "code",
      "metadata": {
        "id": "-413XOx7zkHS",
        "colab": {
          "base_uri": "https://localhost:8080/"
        },
        "outputId": "59c0d37f-6b60-4210-eecc-2d694bd6d741"
      },
      "source": [
        "from collections import defaultdict\n",
        "\n",
        "rooms_by_id = light_environment['rooms']\n",
        "\n",
        "rooms_by_category = defaultdict(set)\n",
        "for room_id in rooms_by_id:\n",
        "  category = light_environment['rooms'][room_id]['category']\n",
        "  rooms_by_category[category].add(room_id)\n",
        "\n",
        "def get_room_name(room_id, rooms_by_id=rooms_by_id):\n",
        "  return rooms_by_id[room_id]['setting']\n",
        "\n",
        "def print_rooms_for_category(category, rooms_by_category, rooms_by_id):\n",
        "  rooms = rooms_by_category[category]\n",
        "  print(category.capitalize())\n",
        "  for room_id in rooms:\n",
        "    print('\\t', room_id, '-', get_room_name(room_id))\n",
        "\n",
        "print_rooms_for_category('Graveyard', rooms_by_category, rooms_by_id)\n",
        "\n"
      ],
      "execution_count": 50,
      "outputs": [
        {
          "output_type": "stream",
          "name": "stdout",
          "text": [
            "Graveyard\n",
            "\t 162 - Reception area\n",
            "\t 702 - Main street\n",
            "\t 431 - Abandoned workers shed\n",
            "\t 462 - Dead Tree\n",
            "\t 62 - An Unfinished Mausoleum\n",
            "\t 661 - Main graveyard\n",
            "\t 277 - Graveyard\n",
            "\t 100 - Old Crypt\n",
            "\t 144 - Cemetery\n",
            "\t 158 - the fountain\n",
            "\t 340 - A cursed grave\n",
            "\t 386 - Tombstones of the Kings\n"
          ]
        }
      ]
    },
    {
      "cell_type": "markdown",
      "metadata": {
        "id": "BkX5-AC15eGe"
      },
      "source": [
        "### Neighbors\n",
        "\n",
        "Rooms are connected to other rooms.  The LIGHT dataset stores the connections in a variable called ```light_environment['neighbors']```.  Here is an example of what is information is stored about these connections.\n",
        "\n",
        "```\n",
        " '108': {'connection': 'walking carefully between fallen headstones',\n",
        "  'destination': 'Fresh Grave',\n",
        "  'direction': 'West',\n",
        "  'inverse_id': None,\n",
        "  'room_id': 62},\n",
        " '109': {'connection': 'following a dirt trail behind the mausoleum',\n",
        "  'destination': 'Dead Tree',\n",
        "  'direction': 'South',\n",
        "  'inverse_id': None,\n",
        "  'room_id': 62},\n",
        "```\n",
        "\n",
        "These can be thought of as arcs in a directed graph, where the rooms are nodes, and these elements are the arcs that connect a pair of nodes.  The head of the arc (the ***to node***) is specified by the ```destination``` field (a description rather than an ID), and tail of the arc (the ***from node***) is specified by the ```room_id```."
      ]
    },
    {
      "cell_type": "code",
      "metadata": {
        "id": "OQdZLCexhn_i",
        "colab": {
          "base_uri": "https://localhost:8080/"
        },
        "outputId": "36f21bd4-870b-4489-8569-e56cf4d63354"
      },
      "source": [
        "arcs = light_environment['neighbors']\n",
        "\n",
        "# Create a dictionary that maps room names ('setting') to IDs\n",
        "room_names_to_id = {room['setting']:room_id for (room_id,room) in rooms_by_id.items()}\n",
        "\n",
        "\n",
        "def make_connections(arcs):\n",
        "#  direction, connected_location, travel_description\n",
        "  for arc_id, arc in arcs.items():\n",
        "    try:\n",
        "      source_id = str(arc['room_id'])\n",
        "      target_id = str(room_names_to_id[arc['destination']])\n",
        "      direction = arc['direction']\n",
        "      travel_description = arc['connection']\n",
        "      source_name = get_room_name(source_id)\n",
        "      target_name = get_room_name(target_id)\n",
        "      # Print out the room connections in the Graveyard\n",
        "      if source_id in rooms_by_category['Graveyard']:\n",
        "        print('====')\n",
        "        print(source_name, '-->', target_name)\n",
        "        print(direction)\n",
        "        print(travel_description)\n",
        "    except:\n",
        "      pass\n",
        "\n",
        "make_connections(arcs)"
      ],
      "execution_count": 51,
      "outputs": [
        {
          "output_type": "stream",
          "name": "stdout",
          "text": [
            "====\n",
            "An Unfinished Mausoleum --> Dead Tree\n",
            "South\n",
            "following a dirt trail behind the mausoleum\n",
            "====\n",
            "Old Crypt --> Abandoned workers shed\n",
            "South\n",
            "walking down the cobbled path\n",
            "====\n",
            "Cemetery --> Main street\n",
            "West\n",
            "following the cobblestone path\n",
            "====\n",
            "Reception area --> Main graveyard\n",
            "East\n",
            "walking\n",
            "====\n",
            "Tombstones of the Kings --> Church\n",
            "North\n",
            "exiting the graveyard\n",
            "====\n",
            "Abandoned workers shed --> Old Crypt\n",
            "North\n",
            "walking down the cobbled path\n",
            "====\n",
            "Main street --> Cemetery\n",
            "South\n",
            "traveling the road south\n",
            "====\n",
            "Main street --> Cemetery\n",
            "East\n",
            "following the cobblestone path\n"
          ]
        }
      ]
    },
    {
      "cell_type": "markdown",
      "metadata": {
        "id": "vTAI9BCezkoV"
      },
      "source": [
        "\n",
        "### Characters \n",
        "\n",
        "\n",
        "Characters have a description, a persona (a first person description of who they are and what their motivations might be), a character type (person, creature or object), a location (```in_room_id```) and an an inventory (```carrying_objects```)\n",
        "\n",
        "The Gravedigger character is listed in the Unfinished Mausoleum's ``in_characters`` variable.  The ``in_characters`` are characters that are explictly mentioned in the location's ``description`` or ``background`` variables.  In this case, the Gravedigger is mentioned in the Unfinished Mausoleum's ``background variahle``. \n",
        "```\n",
        "light_environment['characters']['203']\n",
        "\n",
        "{'base_form': ['gravedigger'],\n",
        " 'carrying_objects': [890],\n",
        " 'char_type': 'person',\n",
        " 'character_id': 203,\n",
        " 'corrected_name': 'gravedigger',\n",
        " 'desc': 'You might want to talk to the gravedigger, specially if your looking for a friend, he might be odd but you will find a friend in him.',\n",
        " 'ex_room_ids': [100, 349],\n",
        " 'in_room_ids': [62],\n",
        " 'is_plural': 0,\n",
        " 'name': 'gravedigger',\n",
        " 'orig_room_id': 349,\n",
        " 'personas': [\"I am low paid labor in this town. I do a job that many people shun because of my contact with death. I am very lonely and wish I had someone to talk to who isn't dead.\"],\n",
        " 'wearing_objects': [],\n",
        " 'wielding_objects': []}\n",
        "\n",
        " ```\n",
        " Here are the ``ex_characters`` from the Unfinished Mausoleum.  They are not explicitly mentioned in the room's description or background, but the annotators thought that these characters were the kinds of characters that might be found there.\n",
        "\n",
        "```\n",
        "for id in \"204, 75, 156, 720\".split(','):\n",
        "  print(light_environment['characters'][id.strip()]['corrected_name'])\n",
        "\n",
        "thief\n",
        "peasant\n",
        "mouse\n",
        "bat\n",
        "```\n"
      ]
    },
    {
      "cell_type": "code",
      "metadata": {
        "id": "jhNB2BxSULN-",
        "colab": {
          "base_uri": "https://localhost:8080/"
        },
        "outputId": "85698fdb-37da-49d3-b30d-2040aa2f91e2"
      },
      "source": [
        "for id in \"204, 75, 156, 720\".split(','):\n",
        "  print(light_environment['characters'][id.strip()]['corrected_name'])"
      ],
      "execution_count": 52,
      "outputs": [
        {
          "output_type": "stream",
          "name": "stdout",
          "text": [
            "thief\n",
            "peasant\n",
            "mouse\n",
            "bat\n"
          ]
        }
      ]
    },
    {
      "cell_type": "markdown",
      "source": [
        "Here is the Gravedigger character.  Characters have descriptions, name, and personas.  We'll use personas later in the semester when we look at generating dialogue for characters."
      ],
      "metadata": {
        "id": "-qsJdAUle2Iz"
      }
    },
    {
      "cell_type": "code",
      "metadata": {
        "id": "hM83nrldUkE_",
        "colab": {
          "base_uri": "https://localhost:8080/"
        },
        "outputId": "46863b6f-b9f4-404b-c80f-3eb532d57ec4"
      },
      "source": [
        "light_environment['characters']['203']"
      ],
      "execution_count": 53,
      "outputs": [
        {
          "output_type": "execute_result",
          "data": {
            "text/plain": [
              "{'base_form': ['gravedigger'],\n",
              " 'carrying_objects': [890],\n",
              " 'char_type': 'person',\n",
              " 'character_id': 203,\n",
              " 'corrected_name': 'gravedigger',\n",
              " 'desc': 'You might want to talk to the gravedigger, specially if your looking for a friend, he might be odd but you will find a friend in him.',\n",
              " 'ex_room_ids': [100, 349],\n",
              " 'in_room_ids': [62],\n",
              " 'is_plural': 0,\n",
              " 'name': 'gravedigger',\n",
              " 'orig_room_id': 349,\n",
              " 'personas': [\"I am low paid labor in this town. I do a job that many people shun because of my contact with death. I am very lonely and wish I had someone to talk to who isn't dead.\"],\n",
              " 'wearing_objects': [],\n",
              " 'wielding_objects': []}"
            ]
          },
          "metadata": {},
          "execution_count": 53
        }
      ]
    },
    {
      "cell_type": "code",
      "metadata": {
        "id": "JSWb1_uL3E_D",
        "colab": {
          "base_uri": "https://localhost:8080/"
        },
        "outputId": "d9ccc898-22b6-4d51-e006-743c4413166a"
      },
      "source": [
        "characters_by_id = light_environment['characters']\n",
        "characters_by_id['203']\n",
        "\n",
        "from collections import Counter\n",
        "\n",
        "def count_character_types(characters_by_id):\n",
        "  character_types = Counter()\n",
        "  for character_id in characters_by_id:\n",
        "    character = characters_by_id[character_id]\n",
        "    char_type = character['char_type']\n",
        "    character_types[char_type] += 1\n",
        "  return character_types\n",
        "\n",
        "character_types = count_character_types(characters_by_id)\n",
        "print(character_types)\n"
      ],
      "execution_count": 54,
      "outputs": [
        {
          "output_type": "stream",
          "name": "stdout",
          "text": [
            "Counter({'person': 1028, 'creature': 304, 'object': 38})\n"
          ]
        }
      ]
    },
    {
      "cell_type": "markdown",
      "metadata": {
        "id": "nnaQ5xNb7kHT"
      },
      "source": [
        "### Objects\n",
        "\n",
        "Objects are inanimate things in the game.  They have descriptions, locations, and a set of properties that could be used to govern how a player interacts with them.  The properties of objects in the light dataset are \n",
        "* is_container\n",
        "* is_drink\n",
        "* is_food\n",
        "* is_gettable\n",
        "* is_plural\n",
        "* is_surface\n",
        "* is_weapon\n",
        "* is_wearable\n",
        "\n",
        "These properties have numeric values associated with them.  The values seem to be something like 0.0 = false, 1.0 = true, 0.5 = possibly. \n",
        "\n",
        "Here is an example object:\n",
        "```\n",
        "light_environment['objects']['1188']\n",
        "\n",
        " {'base_form': ['sword', 'Sword'],\n",
        " 'desc_entries': 2,\n",
        " 'descriptions': ['The sword is very old, you would assume it had once belonged to a legendary warrior.',\n",
        "  \"The sword's legend is known by everyone, it is famous throughout the land.\"],\n",
        " 'ex_room_ids': [],\n",
        " 'holding_character_ids': [],\n",
        " 'in_room_ids': [12],\n",
        " 'is_container': 0.0,\n",
        " 'is_drink': 0.0,\n",
        " 'is_food': 0.0,\n",
        " 'is_gettable': 1.0,\n",
        " 'is_plural': 1.0,\n",
        " 'is_surface': 0.0,\n",
        " 'is_weapon': 1.0,\n",
        " 'is_wearable': 0.0,\n",
        " 'link_entries': 1,\n",
        " 'name': 'Legendary swords',\n",
        " 'object_id': 1188}\n",
        " ```"
      ]
    },
    {
      "cell_type": "code",
      "metadata": {
        "id": "pLgt0GMWVtgB",
        "colab": {
          "base_uri": "https://localhost:8080/"
        },
        "outputId": "31057b90-f514-4890-cb82-e0b8941eb31d"
      },
      "source": [
        "light_environment['objects']['1188']"
      ],
      "execution_count": 55,
      "outputs": [
        {
          "output_type": "execute_result",
          "data": {
            "text/plain": [
              "{'base_form': ['sword', 'Sword'],\n",
              " 'desc_entries': 2,\n",
              " 'descriptions': ['The sword is very old, you would assume it had once belonged to a legendary warrior.',\n",
              "  \"The sword's legend is known by everyone, it is famous throughout the land.\"],\n",
              " 'ex_room_ids': [],\n",
              " 'holding_character_ids': [],\n",
              " 'in_room_ids': [12],\n",
              " 'is_container': 0.0,\n",
              " 'is_drink': 0.0,\n",
              " 'is_food': 0.0,\n",
              " 'is_gettable': 1.0,\n",
              " 'is_plural': 1.0,\n",
              " 'is_surface': 0.0,\n",
              " 'is_weapon': 1.0,\n",
              " 'is_wearable': 0.0,\n",
              " 'link_entries': 1,\n",
              " 'name': 'Legendary swords',\n",
              " 'object_id': 1188}"
            ]
          },
          "metadata": {},
          "execution_count": 55
        }
      ]
    },
    {
      "cell_type": "code",
      "metadata": {
        "id": "ArAgbSFwhjrD",
        "colab": {
          "base_uri": "https://localhost:8080/"
        },
        "outputId": "7ef22264-79ae-459a-b81f-3cc249260283"
      },
      "source": [
        "obj = light_environment['objects']['1188']\n",
        "print(obj['name'])\n",
        "print(obj['object_id'])\n",
        "for label, value in obj.items():\n",
        "  if label.startswith('is_') and value == 1.0:\n",
        "    print(label, value)"
      ],
      "execution_count": 56,
      "outputs": [
        {
          "output_type": "stream",
          "name": "stdout",
          "text": [
            "Legendary swords\n",
            "1188\n",
            "is_gettable 1.0\n",
            "is_weapon 1.0\n",
            "is_plural 1.0\n"
          ]
        }
      ]
    },
    {
      "cell_type": "code",
      "metadata": {
        "id": "O3iObAs6gVWs",
        "colab": {
          "base_uri": "https://localhost:8080/"
        },
        "outputId": "2713bff1-7041-45dc-da89-655bc25ce85e"
      },
      "source": [
        "objects_by_id = light_environment['objects']\n",
        "\n",
        "def sort_objects_by_property(objects_by_id):\n",
        "  objects_by_property = defaultdict(set)\n",
        "  for object_id, obj in objects_by_id.items(): \n",
        "    name = obj['name']\n",
        "    for label, value in obj.items():\n",
        "      if label.startswith('is_') and value == 1:\n",
        "        objects_by_property[label].add(object_id)\n",
        "  return objects_by_property\n",
        "\n",
        "objects_by_property = sort_objects_by_property(objects_by_id)\n",
        "\n",
        "# print 20 objects for each property\n",
        "for prop in objects_by_property:\n",
        "  print(prop)\n",
        "  for counter, object_id in enumerate(objects_by_property[prop]):\n",
        "    if counter < 20:\n",
        "      obj_name = objects_by_id[object_id]['name']\n",
        "      print('\\t', obj_name)\n"
      ],
      "execution_count": 57,
      "outputs": [
        {
          "output_type": "stream",
          "name": "stdout",
          "text": [
            "is_gettable\n",
            "\t dog\n",
            "\t glitter\n",
            "\t silver\n",
            "\t rustic tools\n",
            "\t clothes\n",
            "\t an armor set\n",
            "\t Gold\n",
            "\t floor\n",
            "\t lantern\n",
            "\t igneous rock\n",
            "\t pine cones\n",
            "\t rug\n",
            "\t silks\n",
            "\t hay bails\n",
            "\t golden crown\n",
            "\t dress\n",
            "\t White cloth and drapes\n",
            "\t towering pine trees\n",
            "\t Shields\n",
            "\t A cross\n",
            "is_plural\n",
            "\t staircases\n",
            "\t snapping turtles\n",
            "\t quarters for the horse caretaker(s)\n",
            "\t clothes\n",
            "\t rustic tools\n",
            "\t painted walls\n",
            "\t trunks\n",
            "\t pine cones\n",
            "\t Paintings of Gods\n",
            "\t silks\n",
            "\t clinging vines\n",
            "\t fruit trees\n",
            "\t hay bails\n",
            "\t oak pews\n",
            "\t White cloth and drapes\n",
            "\t towering pine trees\n",
            "\t Shields\n",
            "\t bassinets\n",
            "\t paintings\n",
            "\t wildflowers\n",
            "is_weapon\n",
            "\t rustic tools\n",
            "\t Many books\n",
            "\t gift\n",
            "\t wooden crucifix decorations\n",
            "\t Ivory spikes\n",
            "\t old sword\n",
            "\t igneous rock\n",
            "\t footstool\n",
            "\t rusted helmet\n",
            "\t pen\n",
            "\t Shields\n",
            "\t Hand carved stone\n",
            "\t metal meal tray\n",
            "\t Pirate swords\n",
            "\t bible\n",
            "\t lamps\n",
            "\t a spear\n",
            "\t compass\n",
            "\t magical items\n",
            "\t Swords\n",
            "is_surface\n",
            "\t stool\n",
            "\t velvet cushion\n",
            "\t shelf\n",
            "\t hall\n",
            "\t Ivory spikes\n",
            "\t wooden pews\n",
            "\t ship\n",
            "\t a bed\n",
            "\t wood walls\n",
            "\t footstool\n",
            "\t a wardrobe\n",
            "\t silks\n",
            "\t carpets\n",
            "\t seat\n",
            "\t oak pews\n",
            "\t rocking chair\n",
            "\t frost window\n",
            "\t metal meal tray\n",
            "\t hole\n",
            "\t wine glasses\n",
            "is_container\n",
            "\t a well\n",
            "\t flowerpots\n",
            "\t structure\n",
            "\t floor\n",
            "\t candle holders\n",
            "\t glade\n",
            "\t a wardrobe\n",
            "\t gifts\n",
            "\t well\n",
            "\t mysterious tent\n",
            "\t bassinets\n",
            "\t stream\n",
            "\t tithe plate\n",
            "\t guards toilet basin\n",
            "\t water wells\n",
            "\t oak table\n",
            "\t barrels for crops\n",
            "\t huge cast iron pot\n",
            "\t observatory\n",
            "\t a chest of drawers\n",
            "is_wearable\n",
            "\t Furs\n",
            "\t clothes\n",
            "\t A leather cloth\n",
            "\t bell\n",
            "\t an armor set\n",
            "\t fairy wings\n",
            "\t rusted helmet\n",
            "\t silks\n",
            "\t life vests\n",
            "\t golden crown\n",
            "\t dress\n",
            "\t Chain mail\n",
            "\t jewelry\n",
            "\t A cross\n",
            "\t treasures\n",
            "\t some clothes\n",
            "\t shackles\n",
            "\t rusted helmets\n",
            "\t fish wrap ( or butcher paper)\n",
            "\t Protective Gear\n",
            "is_drink\n",
            "\t bottle of wine\n",
            "\t bottles of liquor\n",
            "\t water\n",
            "\t flasks\n",
            "\t gurgling water\n",
            "\t ingredients\n",
            "\t red wine\n",
            "\t potion supplies\n",
            "\t dripping water\n",
            "\t wine\n",
            "\t milk\n",
            "\t body of water\n",
            "\t drinks\n",
            "\t a jug of water\n",
            "\t beer\n",
            "\t small lake\n",
            "\t babbling brook\n",
            "\t teapot\n",
            "\t lake\n",
            "\t fancy dinners\n",
            "is_food\n",
            "\t low grass\n",
            "\t plant matter\n",
            "\t grass\n",
            "\t The plants besides the trees, like bushes and grass.\n",
            "\t seeds\n",
            "\t worms\n",
            "\t the remains\n",
            "\t ingredients\n",
            "\t A wide variety of grains, vegetables and fruits\n",
            "\t eggs\n",
            "\t plants\n",
            "\t vegetable or plant\n",
            "\t wildlife\n",
            "\t morsel\n",
            "\t citrus fruit\n",
            "\t various plants\n",
            "\t crackers\n",
            "\t sea turtles\n",
            "\t mushrooms\n",
            "\t candy\n"
          ]
        }
      ]
    },
    {
      "cell_type": "markdown",
      "source": [
        "# Format Data for Fine-Tuning \n",
        "\n",
        "Below, I show how to create data to fine-tune OpenAI.  The OpenAI API documentation has a [guide to fine-tuning models](https://beta.openai.com/docs/guides/fine-tuning) that you should read.   The basic format of fine-tuning data is a JSONL file (one JSON object per line) with two key-value pairs: `prompt:` and `completion:`.\n",
        "\n",
        "```\n",
        "{\"prompt\": \"<prompt text>\", \"completion\": \"<ideal generated text>\"}\n",
        "{\"prompt\": \"<prompt text>\", \"completion\": \"<ideal generated text>\"}\n",
        "{\"prompt\": \"<prompt text>\", \"completion\": \"<ideal generated text>\"}\n",
        "...\n",
        "```\n",
        "\n",
        "In the code below, I'll extract a prompt that contains the `Category` and `Setting` variables from a LIGHT Environment room, and I'll have the completion be the room's `Description`."
      ],
      "metadata": {
        "id": "Z0Qd3JFuvEnE"
      }
    },
    {
      "cell_type": "code",
      "source": [
        "\n",
        "def get_room_description(room_id, rooms_by_id, light_environment):\n",
        "  \"\"\"\n",
        "  This generates a prompt and a completion which can be used to fine-tune OpenAI.\n",
        "  This version just gnnerates \n",
        "  \"\"\"\n",
        "  prompt = \"\"\n",
        "  completion = \"\"\n",
        "  prompt += \"Category: {category}\\n\".format(category=rooms_by_id[room_id]['category'].capitalize())\n",
        "  prompt += \"Setting: {setting}\\n\".format(setting=rooms_by_id[room_id]['setting'].capitalize())\n",
        "  completion += \"Description: {description}\\n\".format(description=rooms_by_id[room_id]['description'])\n",
        "  completion += \"###\\n\"\n",
        "\n",
        "  return prompt, completion\n",
        "\n",
        "\n",
        "def create_location_finetuning_data(filename='fine_tuning_location_descriptions.jsonl'):\n",
        "  fine_tuning_data = []\n",
        "  for category in categories:\n",
        "    rooms = rooms_by_category[category]\n",
        "    for room_id in rooms:\n",
        "      data = {}\n",
        "      prompt, completion = get_room_description(room_id, rooms_by_id, light_environment)\n",
        "      data['prompt'] = prompt\n",
        "      data['completion'] = completion\n",
        "      print(prompt, end=\"\")\n",
        "      print(completion)\n",
        "      fine_tuning_data.append(data)\n",
        "\n",
        "  with open(filename, 'w') as out:\n",
        "    for data in fine_tuning_data:\n",
        "        out.write(json.dumps(data))\n",
        "        out.write('\\n')\n",
        "\n",
        "create_location_finetuning_data()"
      ],
      "metadata": {
        "id": "4kIr8uDwvHB_"
      },
      "execution_count": 58,
      "outputs": []
    },
    {
      "cell_type": "markdown",
      "source": [
        "# Fine-tune GPT3 with the OpenAI API\n",
        "\n",
        "Next, we'll perform fine-tuning with this data using OpenAI. "
      ],
      "metadata": {
        "id": "hMNG-k-d8QcY"
      }
    },
    {
      "cell_type": "code",
      "source": [
        "%%capture\n",
        "!pip install --upgrade openai\n",
        "!pip install jsonlines"
      ],
      "metadata": {
        "id": "t2Ey3u_z8UWD"
      },
      "execution_count": 59,
      "outputs": []
    },
    {
      "cell_type": "markdown",
      "source": [
        "Once you've got access to the OpenAI API, you can find your OpenAI API key [here](https://beta.openai.com/account/api-keys)."
      ],
      "metadata": {
        "id": "heS8eLx_8jDV"
      }
    },
    {
      "cell_type": "code",
      "source": [
        "import os\n",
        "import openai\n",
        "\n",
        "print('Enter OpenAI API key:')\n",
        "openai.api_key = input()\n",
        "\n",
        "os.environ['OPENAI_API_KEY']=openai.api_key"
      ],
      "metadata": {
        "id": "EvQbYWU_8aIF"
      },
      "execution_count": null,
      "outputs": []
    },
    {
      "cell_type": "code",
      "source": [
        "!head fine_tuning_location_descriptions.jsonl"
      ],
      "metadata": {
        "id": "4TJ2vnq_9jI7",
        "colab": {
          "base_uri": "https://localhost:8080/"
        },
        "outputId": "206fb769-116a-4a0f-b1f7-8b7e214a8953"
      },
      "execution_count": 61,
      "outputs": [
        {
          "output_type": "stream",
          "name": "stdout",
          "text": [
            "{\"prompt\": \"Category: Forest\\nSetting: Pine tree graveyard\\n\", \"completion\": \"Description: Once known as a forest of solitude, the entrance to the pine trees is now a bleak and dreary graveyard.  Dead grass and moss fill the ground along with crawling critters that mark fear in the mind among the he who venture here.  Tombstones so old many of the names are no longer eligible.  Dense fog surrounds the area, thick tree tops blotting out the sunlight, and an eerie silence fills the air.  Cold it feels, the air, but the ground is soft and warm.  Sound can not enter, no escape this dwelling.\\n###\\n\"}\n",
            "{\"prompt\": \"Category: Forest\\nSetting: A wooded magical village\\n\", \"completion\": \"Description: The village lay hidden in a secret grotto that is set in a sort of valley between trees. The village is populated by child-like peoples who wear clothes made of various plant matter such as large leaves and vines. The homes are made of wood, and seemingly blend into the green dense backdrop.\\n###\\n\"}\n",
            "{\"prompt\": \"Category: Forest\\nSetting: Forbidden forest\\n\", \"completion\": \"Description: The forbidden forest is a dark and very scary place. The trees are covered in spider web nets and huge spiders. The forest echoes sounds of witches' laughs and creepy crawly animals.  There is a brisk breeze that runs through the trees that will put chills down your spine.\\n###\\n\"}\n",
            "{\"prompt\": \"Category: Forest\\nSetting: The clearing\\n\", \"completion\": \"Description: the clearing is surrounded by old pine trees where knights used to practice swinging their swords. There are haystacks where they take wenches and pay them a sickle.\\n###\\n\"}\n",
            "{\"prompt\": \"Category: Forest\\nSetting: Mysterious forest outskirts\\n\", \"completion\": \"Description: The forest is a dark and mysterious place, where few but the bravest hunters dare wander. The trees loom over you, obscuring any sort of sunlight. Despite this, it is a valuable food and lumber resource for the nearby castle's inhabitants, for the trees are tall and thick and a plentiful amount of deer wander about within.\\n###\\n\"}\n",
            "{\"prompt\": \"Category: Forest\\nSetting: A room hidden in the dense canopy\\n\", \"completion\": \"Description: Its a large room with types of beings you have never seen before. There is a counter and a person who greets people suprise when you arrive because you are not one of them. The room has an unfamiliar feel to it. with doors leading to walkways, other buildings, an entire city\\n###\\n\"}\n",
            "{\"prompt\": \"Category: Forest\\nSetting: Riverbed\\n\", \"completion\": \"Description: With clear air and the sound of gurgling water near it, the river bed is silty and muddy. The river rushes by the land as more and more dirt separates from the land. The land of the riverbed slick with mud and filled with bugs and worms/\\n###\\n\"}\n",
            "{\"prompt\": \"Category: Forest\\nSetting: South forest\\n\", \"completion\": \"Description: The forest is lined with tall trees but has a long walkway for travelers. I the middle of the forest is a long river surrounded by tall grass with clear blue waters and lots of colorful fish.\\n###\\n\"}\n",
            "{\"prompt\": \"Category: Forest\\nSetting: The stream\\n\", \"completion\": \"Description: The stream is always going. The water moves quickly in some places and slowly in other places. There is a dry spot on each side of the water. In some areas you will see animals drinking the water. There are also fish swimming around in the deeper parts of the stream.\\n###\\n\"}\n",
            "{\"prompt\": \"Category: Forest\\nSetting: Picnic area\\n\", \"completion\": \"Description: In this picnic area, there is a wide clearing with some cut down tree stumps made for people to sit and enjoy their lunch.  There's also a small pond nearby where people can feed fish and watch turtles sunbathe.\\n###\\n\"}\n"
          ]
        }
      ]
    },
    {
      "cell_type": "markdown",
      "source": [
        "Next, we'll make the fine tuning API call via the command line.  Here the -m argument gives the model.  There are 4 sizes of GPT3 models.  They go in alphabetical order from smallest to largest.\n",
        "* Ada \n",
        "* Baddage\n",
        "* Currie\n",
        "* Davinci\n",
        "\n",
        "The models as the model sizes increase, so does their quality and their cost.  Davinci is the highest quality and highest cost model.  I recommend starting by fine-tuning smaller models to debug your code first so that you don't rack up costs.\n",
        "\n",
        "Fine-tuning curie costs about $0.50 for this data.\n"
      ],
      "metadata": {
        "id": "7n2Alv9S6L2l"
      }
    },
    {
      "cell_type": "code",
      "source": [
        "!openai api fine_tunes.create -t fine_tuning_location_descriptions.jsonl -m curie\n"
      ],
      "metadata": {
        "id": "3n7F3ZBT9tZc"
      },
      "execution_count": null,
      "outputs": []
    },
    {
      "cell_type": "markdown",
      "source": [
        "You should copy down the fine-tune numbers which look like this:\n",
        "\n",
        "```\n",
        "Created fine-tune: ft-VzQpTwfnWAzDXNKgPTFtiZg2\n",
        "\n",
        "[2022-01-21 23:22:47] Uploaded model: curie:ft-ccb-lab-members-2022-01-21-23-22-46\n",
        "```\n",
        "\n",
        "If you forget to write it down, you can list your fine-tuned runs and models this way. These model names aren't mneumonic, so it is probably a good idea to make a note on what your model's inputs and outputs are. "
      ],
      "metadata": {
        "id": "OrTwGsYNE-ze"
      }
    },
    {
      "cell_type": "code",
      "source": [
        "!openai api fine_tunes.list"
      ],
      "metadata": {
        "id": "aJAe-fDq_ea1"
      },
      "execution_count": null,
      "outputs": []
    },
    {
      "cell_type": "markdown",
      "source": [
        "You can run your fine tuned model in the OpenAI Playground.  After the model is finished finetuning you'll find it in the Engine dropdown menu.  \n",
        "\n",
        "You'll need to give the inputs that we used as the \"prompt\" in our training data.  In this case we gave it a `Category:` and a `Location:` name.  You can also add the `Description:` part of the completion if you want. You should also set the stop sequence to be `###`. For example, we could type this input into the playground:\n",
        "\n",
        "```\n",
        "Category: Dark Forest\n",
        "Location: Winter's Glade\n",
        "Description:\n",
        "```\n",
        "If you press the \"Generate\" then your fine tuned model will output something like:\n",
        "\n",
        "> The forest at night is not a place one would willingly set foot in. It is cold and dark and seems to go on forever. Trees loom over you, blocking out the light of the moon and stars. The only sound is the occasional howl of a wolf and the occasional splashing of water.\n",
        "\n",
        "If you don't like the description, you can press the \"Regerate\" button to get other outputs like:\n",
        "\n",
        "> The winter's glade is a dark and eerie place. It is home to many animals, but little else. The trees are barren and the ground is covered in snow.\n",
        "\n",
        "Or\n",
        "\n",
        "> The dark forest is a place where not even a ray of light can pierce the tangled web of branches overhead. Needles from vast numbers of trees protrude at awkward angles, their branches thin and frail, more like twigs than the strong trunks they resemble. Between the branches, a darkness deeper than night reigns. It is from this darkness that the trees themselves appear as ghosts, for the branches do not embrace the earth so much as merely touch it. The tips of the branches move slightly with every breath taken by the trees, and the dark forest seems to breathe along with them.\n",
        "\n",
        "Or \n",
        "\n",
        "> The forest has now turned white.  The trees are barren and dead, their branches thin and broken.  There's a light dusting of snow on the ground, and it looks as if the forest is trying to erase all traces of life from the earth.\n"
      ],
      "metadata": {
        "id": "RHxQfGmalByo"
      }
    },
    {
      "cell_type": "markdown",
      "source": [
        "You can press the \"Code\" button to get a snippet of code that you can adapt into your own Python programs.  \n",
        "\n",
        "```\n",
        "import os\n",
        "import openai\n",
        "\n",
        "openai.api_key = os.getenv(\"OPENAI_API_KEY\")\n",
        "\n",
        "response = openai.Completion.create(\n",
        "  model=\"curie:ft-ccb-lab-members-2022-01-21-23-22-46\",\n",
        "  prompt=\"Category: Dark Forest\\nLocation: Winter's Glade\\nDescription:\",\n",
        "  temperature=0.7,\n",
        "  max_tokens=64,\n",
        "  top_p=1,\n",
        "  frequency_penalty=0,\n",
        "  presence_penalty=0,\n",
        "  stop=[\"###\"]\n",
        ")\n",
        "```\n",
        "\n",
        "Here's an example of how to write a function using the code that the OpenAI API provides."
      ],
      "metadata": {
        "id": "Z9Gl-9VUqm4l"
      }
    },
    {
      "cell_type": "code",
      "source": [
        "def get_location_description(category, location_name, finetuned_model):\n",
        "  response = openai.Completion.create(\n",
        "      model=finetuned_model,\n",
        "      prompt=\"Category: {category}\\nLocation: {location}\\nDescription:\".format(\n",
        "          category=category.capitalize(),\n",
        "          location=location_name.capitalize()\n",
        "      ),\n",
        "      temperature=0.7,\n",
        "      max_tokens=64,\n",
        "      top_p=1,\n",
        "      frequency_penalty=0,\n",
        "      presence_penalty=0,\n",
        "      stop=[\"###\"]\n",
        "      )\n",
        "  return response['choices'][0]['text']\n",
        "\n",
        "# Replace with your model's name\n",
        "finetuned_model = \"curie:ft-ccb-lab-members-2022-01-21-23-22-46\"\n",
        "category = \"Dark Forest\"\n",
        "location_name = \"Winter's Glade\"\n",
        "\n",
        "descripton = get_location_description(category, location_name, finetuned_model)\n",
        "print(descripton)"
      ],
      "metadata": {
        "colab": {
          "base_uri": "https://localhost:8080/"
        },
        "id": "tMQLCQ0Jlxnw",
        "outputId": "9bcc2951-1782-4848-f146-b8f7874e10ba"
      },
      "execution_count": 64,
      "outputs": [
        {
          "output_type": "stream",
          "name": "stdout",
          "text": [
            " The dark glade is a place of deep dark shadows and unfamiliar shapes. tall trees loom overhead, dark and mysterious. many wild animals call this place home and they quickly scare away any human that dares to venture here.\n",
            "\n"
          ]
        }
      ]
    },
    {
      "cell_type": "markdown",
      "source": [
        "# TODO: Fine-Tune Additional Models for Text Adventure Games\n",
        "\n",
        "In this assignment, we'll ask you to fine-tune models to perform the following tasks:\n",
        "1. Describe a location (I've given you this code.  You can adapt it for other models)\n",
        "- inputs: category, location name\n",
        "- output: location description \n",
        "2. List the items that are at a location\n",
        "- inputs: category, location name, location description, number of items\n",
        "- output: list of item names\n",
        "3. Describe an item\n",
        "- inputs: category, location name, location description, item name\n",
        "- output: item description \n",
        "4. Get an item's properties\n",
        "- inputs: item name, item description, property (e.g. gettable)\n",
        "- output: True or False if the item has that property\n",
        "5. List connections from the current location\n",
        "- inputs: category, location name, location description, and optionally a partial list of existing connections (direction, location name) tuples \n",
        "- output: a list of (direction, location name) tuples\n"
      ],
      "metadata": {
        "id": "YuWn-VH5uRCE"
      }
    },
    {
      "cell_type": "code",
      "source": [
        "def get_location_description(category, location_name, finetuned_model):\n",
        "  pass"
      ],
      "metadata": {
        "id": "4qEdumuRuxWv"
      },
      "execution_count": 65,
      "outputs": []
    },
    {
      "cell_type": "code",
      "source": [
        "def get_items_at_location(category, location_name, location_description, finetuned_model):\n",
        "  pass"
      ],
      "metadata": {
        "id": "bMOLyAz3ADnR"
      },
      "execution_count": 66,
      "outputs": []
    },
    {
      "cell_type": "code",
      "source": [
        "def get_item_description(category, item_name, finetuned_model, location_name=\"\", location_description=\"\", ):\n",
        "  pass"
      ],
      "metadata": {
        "id": "Mi9uPwW-AF6Y"
      },
      "execution_count": 67,
      "outputs": []
    },
    {
      "cell_type": "code",
      "source": [
        "def get_item_property(property_name, item_name, item_description, finetuned_model, property_description=\"\"):\n",
        "  if property_name == \"is_gettable\":\n",
        "    return is_gettable(item_name, item_description, finetuned_model)\n",
        "  elif property_name == \"is_weapon\":\n",
        "    return is_weapon(item_name, item_description, finetuned_model)\n",
        "  elif property_name == \"is_surface\":\n",
        "    return is_surface(item_name, item_description, finetuned_model)\n",
        "  elif property_name == \"is_container\":\n",
        "    return is_container(item_name, item_description, finetuned_model)\n",
        "  elif property_name == \"is_wearable\":\n",
        "    return is_gettable(item_name, item_description, finetuned_model)\n",
        "  elif property_name == \"is_drink\":\n",
        "    return is_gettable(item_name, item_description, finetuned_model)\n",
        "  elif property_name == \"is_food\":\n",
        "    return is_gettable(item_name, item_description, finetuned_model)\n",
        "  else:\n",
        "    pass\n",
        "\n",
        "def is_gettable(item_name, item_description, finetuned_model, property_description=\"A player can pick this item up and add it to their inventory.\"):\n",
        "  pass\n",
        "\n",
        "def is_weapon(item_name, item_description, finetuned_model, property_description=\"This item can be used as a weapon.\"):\n",
        "  pass\n",
        "\n",
        "def is_surface(item_name, item_description, finetuned_model, property_description=\"Another item can be placed on top of this item.\"):\n",
        "  pass\n",
        "\n",
        "def is_container(item_name, item_description, finetuned_model, property_description=\"Other items can be stored inside of this item.\"):\n",
        "  pass\n",
        "\n",
        "def is_wearable(item_name, item_description, finetuned_model, property_description=\"This item can be worn as an item of cloting.\"):\n",
        "  pass\n",
        "\n",
        "def is_drink(item_name, item_description, finetuned_model, property_description=\"This item is a liquid that can be drunk.\"):\n",
        "  pass\n",
        "\n",
        "def is_food(item_name, item_description, finetuned_model, property_description=\"This item can be eaten.\"):\n",
        "  pass"
      ],
      "metadata": {
        "id": "RmeckHBZAINo"
      },
      "execution_count": 68,
      "outputs": []
    },
    {
      "cell_type": "code",
      "source": [
        "def get_connections(category, location_name, location_description, finetuned_model, current_connections=[]):\n",
        "  pass"
      ],
      "metadata": {
        "id": "rFSeiBlAAJRb"
      },
      "execution_count": 69,
      "outputs": []
    }
  ]
}