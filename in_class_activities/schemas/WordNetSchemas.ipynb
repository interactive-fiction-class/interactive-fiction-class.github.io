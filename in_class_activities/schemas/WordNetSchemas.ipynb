{
  "cells": [
    {
      "cell_type": "markdown",
      "metadata": {
        "id": "view-in-github",
        "colab_type": "text"
      },
      "source": [
        "<a href=\"https://colab.research.google.com/github/interactive-fiction-class/interactive-fiction-class.github.io/blob/master/in_class_activities/schemas/WordNetSchemas.ipynb\" target=\"_parent\"><img src=\"https://colab.research.google.com/assets/colab-badge.svg\" alt=\"Open In Colab\"/></a>"
      ]
    },
    {
      "cell_type": "markdown",
      "source": [
        "# In-Class Activity: WordNet Schemas\n",
        "\n",
        "In this assignment, you will be getting hands-on experience with working with WordNet and manipulating the data.\n",
        "\n",
        "In the problems below, pretend that you (or, rather, your agent) are in the middle of playing a text adventure game. Different characters are asking for various items, but you don't have the exact items. You will be using WordNet to form schemas of your inventory items and going your representations to find the most similar item."
      ],
      "metadata": {
        "id": "C-L4o-OnpMNU"
      }
    },
    {
      "cell_type": "markdown",
      "metadata": {
        "id": "vuI9RGzJ94X9"
      },
      "source": [
        "# WordNet\n",
        "\n",
        "\n",
        "Below is an example of how WordNet functions. Dog is a hyponym (offspring) of canine, which is a hyponym of carnivore. So canine is a hypernym (ancestor) of dog.\n",
        "![See text above](https://drive.google.com/uc?id=1qhhg-CtXzN8yDcdQCx7ydkEnKYVX4AUj)\n",
        "\n",
        "Each word has multiple dictionary entries with different meanings. Each one is called a \"Synset\" and is given a tag. For example, Synset('dog.n.01') where dog is the word, \"n\" is the part of speech (noun), and 01 is the definition number (this refers to the definition for the animal _dog_).\n",
        "\n",
        "\n",
        "You can play with it online here: http://wordnetweb.princeton.edu/perl/webwn\n",
        "\n",
        "\n",
        "### Citation:\n",
        "```\n",
        "@article{miller1995wordnet,\n",
        "  title={WordNet: a lexical database for English},\n",
        "  author={Miller, George A.},\n",
        "  journal={Communications of the ACM},\n",
        "  volume={38},\n",
        "  number={11},\n",
        "  pages={39--41},\n",
        "  year={1995},\n",
        "  publisher={ACM New York, NY, USA}\n",
        "}\n",
        "```"
      ]
    },
    {
      "cell_type": "markdown",
      "metadata": {
        "id": "r1LjnvrV-LbA"
      },
      "source": [
        "### Using WordNet: NLTK\n",
        "\n",
        "# Follow [this link](https://www.nltk.org/howto/wordnet.html) to a tutorial on using NLTK for WordNet."
      ]
    },
    {
      "cell_type": "code",
      "execution_count": null,
      "metadata": {
        "id": "ZRW2AnLULBWS"
      },
      "outputs": [],
      "source": [
        "import nltk\n",
        "nltk.download('wordnet')"
      ]
    },
    {
      "cell_type": "markdown",
      "source": [
        "## The Task: Create a schema for your inventory\n",
        "\n",
        "In the problems below, an NPC is asking for a particular item, but you don't have anything in your inventory with that name.\n",
        "\n",
        "For each item in your inventory, I'd like you to create a schema---some way of formalizing the information. And you will write code to look through each schema to see which inventory item is appropriate to use in the scenario by comparing the information in the schemas to the request."
      ],
      "metadata": {
        "id": "6FW4byB3sh4-"
      }
    },
    {
      "cell_type": "markdown",
      "source": [
        "Admittedly, this isn't the fastest way of comparing words, since you can just do the following, but I want you to practice making schemas!"
      ],
      "metadata": {
        "id": "SVuK1Bs_tNp4"
      }
    },
    {
      "cell_type": "code",
      "source": [
        "# The quick way to do it\n",
        "dog = wn.synsets('dog')\n",
        "cat = wn.synsets('cat')[0]\n",
        "print(dog) #see all possible definitions of \"dog\"\n",
        "dog = dog[0] #select the first one\n",
        "print(dog.path_similarity(cat, simulate_root=False)) #find similarity between the two words"
      ],
      "metadata": {
        "id": "9fKS6_yQtMpi"
      },
      "execution_count": null,
      "outputs": []
    },
    {
      "cell_type": "markdown",
      "source": [
        "Fill out the code below. Keep the WordNet online demo open to help you figure out what you should be saving.\n",
        "\n",
        "### Problem 1"
      ],
      "metadata": {
        "id": "gqG8A1UWykjs"
      }
    },
    {
      "cell_type": "code",
      "execution_count": 1,
      "metadata": {
        "id": "BeqBj9iZ-A-6",
        "colab": {
          "base_uri": "https://localhost:8080/",
          "height": 130
        },
        "outputId": "efb07e3f-b2e6-4961-cc57-8c60b2a29f57"
      },
      "outputs": [
        {
          "output_type": "error",
          "ename": "IndentationError",
          "evalue": "ignored",
          "traceback": [
            "\u001b[0;36m  File \u001b[0;32m\"<ipython-input-1-5db3d3ecae06>\"\u001b[0;36m, line \u001b[0;32m9\u001b[0m\n\u001b[0;31m    def compareItem(item):\u001b[0m\n\u001b[0m      ^\u001b[0m\n\u001b[0;31mIndentationError\u001b[0m\u001b[0;31m:\u001b[0m expected an indented block\n"
          ]
        }
      ],
      "source": [
        "from nltk.corpus import wordnet as wn\n",
        "\n",
        "class InvItem:\n",
        "  def __init__(self,name):\n",
        "    self.name = name\n",
        "    #TODO: fill inv_facts with information from Wordnet relevant to your schema\n",
        "    # Store hypernyms, hyponymns, part meronym, or whatever you need to find the answer\n",
        "    \n",
        "\n",
        "  def compareItem(item):\n",
        "    #TODO: compare \"item\" to this inventory item object\n",
        "    return 0, None #TODO: return distance, path\n",
        "\n",
        "# your inventory\n",
        "inventory = [\"tuna\", \"glasses\", \"salmon\", \"fish\", \"sushi\", \"shoe\"]\n",
        "npc_request = \"sockeye\"\n",
        "npc_synset = None #TODO: look up the synset for the request\n",
        "\n",
        "# create a representation of each of these items\n",
        "inv_schema = {}\n",
        "distances = []\n",
        "for i in inventory:\n",
        "  inv_item = InvItem(i)\n",
        "  dist, path = inv_item.compareItem(npc_synset)\n",
        "  distances.append((dist, path, inv_item))\n",
        "  inv_schema[i] = inv_item\n",
        "\n",
        "print(min(distances, key=lambda x: x[0]))\n",
        "#TODO: print the closest inventory item and what part of the schema was used to compare it"
      ]
    },
    {
      "cell_type": "markdown",
      "source": [
        "### Problem 2"
      ],
      "metadata": {
        "id": "YZ_dL3jQyrPx"
      }
    },
    {
      "cell_type": "code",
      "source": [
        "class InvItem:\n",
        "  def __init__(self,name):\n",
        "    self.name = name\n",
        "    #TODO: fill inv_facts with information from Wordnet relevant to your schema\n",
        "    # Store hypernyms, hyponymns, part meronym, or whatever you need to find the answer\n",
        "    \n",
        "\n",
        "  def compareItem(item):\n",
        "    #TODO: compare \"item\" to this inventory item object\n",
        "    return 0, None #TODO: return distance, path\n",
        "\n",
        "# your inventory\n",
        "inventory = [\"oranges\", \"lipstick\", \"tree\", \"garden\", \"sap\", \"diagram\"]\n",
        "npc_request = \"stick\"\n",
        "npc_synset = None #TODO: look up the synset for the request\n",
        "\n",
        "# create a representation of each of these items\n",
        "inv_schema = {}\n",
        "distances = []\n",
        "for i in inventory:\n",
        "  inv_item = InvItem(i)\n",
        "  dist, path = inv_item.compareItem(npc_synset)\n",
        "  distances.append((dist, path, inv_item))\n",
        "  inv_schema[i] = inv_item\n",
        "\n",
        "print(min(distances, key=lambda x: x[0]))\n",
        "#TODO: print the closest inventory item and what part of the schema was used to compare it"
      ],
      "metadata": {
        "id": "0q22vfQfu_U5",
        "colab": {
          "base_uri": "https://localhost:8080/"
        },
        "outputId": "d19cbcd8-4ae2-4ab7-a345-168f1c693bec"
      },
      "execution_count": 5,
      "outputs": [
        {
          "output_type": "stream",
          "name": "stdout",
          "text": [
            "(1, 'hi', 'hi')\n"
          ]
        }
      ]
    }
  ],
  "metadata": {
    "colab": {
      "collapsed_sections": [],
      "name": "WordNetSchemas",
      "provenance": [],
      "include_colab_link": true
    },
    "kernelspec": {
      "display_name": "Python 3",
      "name": "python3"
    }
  },
  "nbformat": 4,
  "nbformat_minor": 0
}