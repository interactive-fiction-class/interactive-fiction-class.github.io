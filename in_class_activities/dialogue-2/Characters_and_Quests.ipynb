{
  "cells": [
    {
      "cell_type": "markdown",
      "metadata": {
        "id": "rnu0al-r2-xn"
      },
      "source": [
        "## Generating Characters and Quests\n",
        " \n",
        "For this in-class exercise, we will use the LIGHT data to try to generate interesting Non-Player Characters.  We'll do the following generation exercises:\n",
        "1. Given a location, generate possible characters who might be found there.\n",
        "2. For each character, we'll generate a name, a persona, and a quest.\n",
        "\n",
        "To generate quests, we'll use a new set of data from the Facebook AI Group that developed the LIGHT data that we used in previous assignments.\n",
        "\n",
        "You can find a description of their quest data in the paper [How to Motivate Your Dragon: Teaching Goal-Driven Agents to Speak and Act in Fantasy Worlds](https://arxiv.org/abs/2010.00685).  Here is the abstract for the paper.\n",
        "\n",
        "> We seek to create agents that both act and communicate with other agents in pursuit of a goal. Towards this end, we extend LIGHT (Urbanek et al., 2019)–a large-scale crowd-sourced fantasy text-game—with a dataset of “quests”. These contain natural language motivations paired with in-game goals and human demonstrations; completing a quest might require dialogue or actions (or both). We introduce a reinforcement learning system that (1) incorporates large-scale language modeling-based and commonsense reasoning-based pre-training to imbue the agent with relevant priors; and (2) leverages a factorized action space of action commands and dialogue, balancing between the two. We conduct zero-shot evaluations using held-out human expert demonstrations, showing that our agents are able to act consistently and talk naturally with respect to their motivations.\n",
        "\n",
        "The thing that I find exciting about this work as compared to the in-class exercise we did last week is that it will potentially allow us to add **goals** to characters to help guide their dialogue, rather than just have them perform chit-chat.\n"
      ]
    },
    {
      "cell_type": "markdown",
      "metadata": {
        "id": "5wAmCcXly0dF"
      },
      "source": [
        "## Load the data\n",
        "\n",
        "The LIGHT data was released as part of the Facebook's ParlAI system. I extracted the data into several JSON files:\n",
        "* ```light_environment_train.json``` contains information about the locations, objects, and characters in the text-adventure games.  \n",
        "* ```light_dialogue_data.json``` contains sample conversations between pairs of characters.  \n",
        "* ```light_quest_data.jsonl``` contains question data (one quest per line in JSON format).\n",
        "\n"
      ]
    },
    {
      "cell_type": "markdown",
      "source": [
        "## Load the LIGHT Quest Data"
      ],
      "metadata": {
        "id": "zXMzMnGwmyGc"
      }
    },
    {
      "cell_type": "code",
      "source": [
        "!wget https://raw.githubusercontent.com/interactive-fiction-class/interactive-fiction-class-data/master/light_dialogue/light_quests.jsonl"
      ],
      "metadata": {
        "id": "m7wKBR54m2Yo"
      },
      "execution_count": null,
      "outputs": []
    },
    {
      "cell_type": "code",
      "execution_count": 27,
      "metadata": {
        "colab": {
          "base_uri": "https://localhost:8080/"
        },
        "id": "n7Koe3N-o34j",
        "outputId": "ba339bed-d146-4ffb-a55e-0b4ce1f0057d"
      },
      "outputs": [
        {
          "output_type": "stream",
          "name": "stdout",
          "text": [
            "{\n",
            "    \"character\": \"The King Visiting The Shipyard\",\n",
            "    \"persona\": \"I am the King. I rule this land, and all power is mine to hold.  My kingship is a divine right passed down from my father to me, and it will be passed down to my son someday. I live in luxury, but I am also at risk from other rulers who may want to take over my kingdom. A king must be a man of war, always prepared to defend his land.\",\n",
            "    \"description\": \"You are in the Royal Shipyard.\\nA massive shipyard with different Five dry docks. each dry dock has several wooden cranes and rope works. The dry docks are made of stone and the water gate is all harden wood.\\nThere's a dock, a water gate is all harden wood, a rope work, a water gate, two cranes, a Fishing ships, and a rope here.\\nThe thief is here.\\n\\nYou are carrying nothing.\",\n",
            "    \"goal\": \"get rope work\",\n",
            "    \"short_motivation\": \"I plan to inspect the rope work\",\n",
            "    \"mid_motivation\": \"I plan to instruct the Chief Naval Engineer to build me a new warship\",\n",
            "    \"long_motivation\": \"I plan to attack an enemy kingdom with my new warship\",\n",
            "    \"timeline\": [\n",
            "        {\n",
            "            \"label\": \"15 minutes ago\",\n",
            "            \"action\": \"hug foreman of Royal Shipyard\"\n",
            "        },\n",
            "        {\n",
            "            \"label\": \"10 minutes ago\",\n",
            "            \"action\": \"wear coveralls\"\n",
            "        },\n",
            "        {\n",
            "            \"label\": \"5 minutes ago\",\n",
            "            \"action\": \"follow foreman of Royal Shipyard\"\n",
            "        },\n",
            "        {\n",
            "            \"label\": \"10 minutes from now\",\n",
            "            \"action\": \"go Chief Naval Engineer's office\"\n",
            "        },\n",
            "        {\n",
            "            \"label\": \"1 hour from now\",\n",
            "            \"action\": \"give orders to Chief Naval Engineer\"\n",
            "        },\n",
            "        {\n",
            "            \"label\": \"8 hours from now\",\n",
            "            \"action\": \"go castle\"\n",
            "        }\n",
            "    ]\n",
            "}\n"
          ]
        }
      ],
      "source": [
        "import sys\n",
        "import os\n",
        "import json\n",
        "from collections import defaultdict\n",
        "\n",
        "jsonl_filename = 'light_quests.jsonl'\n",
        "\n",
        "quests = []\n",
        "with open(jsonl_filename) as f:\n",
        "    for line in f:\n",
        "        quest = json.loads(line)\n",
        "        quests.append(quest)\n",
        "\n",
        "# Print out an example quest\n",
        "print(json.dumps(quests[10], indent=4))\n"
      ]
    },
    {
      "cell_type": "markdown",
      "source": [
        "# Load the LIGHT Environment Data"
      ],
      "metadata": {
        "id": "so2assCmnIhQ"
      }
    },
    {
      "cell_type": "code",
      "source": [
        "!wget https://raw.githubusercontent.com/interactive-fiction-class/interactive-fiction-class-data/master/light_dialogue/light_environment_train.json"
      ],
      "metadata": {
        "id": "7QFNXS0snG9J"
      },
      "execution_count": null,
      "outputs": []
    },
    {
      "cell_type": "code",
      "source": [
        "import sys\n",
        "import os\n",
        "import json\n",
        "from collections import defaultdict\n",
        "\n",
        "\n",
        "json_filename = 'light_environment_train.json'\n",
        "\n",
        "f = open(json_filename)\n",
        "light_environment = json.load(f)\n",
        "\n",
        "def get_categories(light_environment):\n",
        "  return light_environment['categories'].values()\n",
        "categories = get_categories(light_environment)\n",
        "\n",
        "def get_room_name(room_id, rooms_by_id):\n",
        "  return rooms_by_id[room_id]['setting']\n",
        "\n",
        "def print_rooms_for_category(category, rooms_by_category, rooms_by_id):\n",
        "  rooms = rooms_by_category[category]\n",
        "  print(category.capitalize())\n",
        "  for room_id in rooms:\n",
        "    print('\\t', room_id, '-', get_room_name(room_id))\n",
        "\n",
        "\n",
        "def sort_objects_by_property(objects_by_id):\n",
        "  objects_by_property = defaultdict(set)\n",
        "  for object_id, obj in objects_by_id.items(): \n",
        "    name = obj['name']\n",
        "    for label, value in obj.items():\n",
        "      if label.startswith('is_') and value == 1:\n",
        "        objects_by_property[label].add(object_id)\n",
        "  return objects_by_property\n",
        "\n",
        "\n",
        "rooms_by_id = light_environment['rooms']\n",
        "rooms_by_category = defaultdict(set)\n",
        "for room_id in rooms_by_id:\n",
        "  category = light_environment['rooms'][room_id]['category']\n",
        "  rooms_by_category[category].add(room_id)\n",
        "objects_by_id = light_environment['objects']\n",
        "objects_by_property = sort_objects_by_property(objects_by_id)\n",
        "\n"
      ],
      "metadata": {
        "id": "MWLM6_6OnLYs"
      },
      "execution_count": 17,
      "outputs": []
    },
    {
      "cell_type": "markdown",
      "metadata": {
        "id": "vTAI9BCezkoV"
      },
      "source": [
        "\n",
        "### Characters in LIGHT \n",
        "\n",
        "\n",
        "Characters have a description, a persona (a first person description of who they are and what their motivations might be), a character type (person, creature or object), a location (```in_room_id```) and an an inventory (```carrying_objects```)\n",
        "\n",
        "The Gravedigger character is listed in the Unfinished Mausoleum's ``in_characters`` variable.  The ``in_characters`` are characters that are explictly mentioned in the location's ``description`` or ``background`` variables. \n",
        "```\n",
        "light_environment['characters']['203']\n",
        "\n",
        "{'base_form': ['gravedigger'],\n",
        " 'carrying_objects': [890],\n",
        " 'char_type': 'person',\n",
        " 'character_id': 203,\n",
        " 'corrected_name': 'gravedigger',\n",
        " 'desc': 'You might want to talk to the gravedigger, specially if your looking for a friend, he might be odd but you will find a friend in him.',\n",
        " 'ex_room_ids': [100, 349],\n",
        " 'in_room_ids': [62],\n",
        " 'is_plural': 0,\n",
        " 'name': 'gravedigger',\n",
        " 'orig_room_id': 349,\n",
        " 'personas': [\"I am low paid labor in this town. I do a job that many people shun because of my contact with death. I am very lonely and wish I had someone to talk to who isn't dead.\"],\n",
        " 'wearing_objects': [],\n",
        " 'wielding_objects': []}\n",
        " ```\n"
      ]
    },
    {
      "cell_type": "code",
      "execution_count": 18,
      "metadata": {
        "colab": {
          "base_uri": "https://localhost:8080/"
        },
        "id": "hM83nrldUkE_",
        "outputId": "aa8257ac-1874-48c8-bf41-222b1a821625"
      },
      "outputs": [
        {
          "output_type": "execute_result",
          "data": {
            "text/plain": [
              "{'base_form': ['gravedigger'],\n",
              " 'carrying_objects': [890],\n",
              " 'char_type': 'person',\n",
              " 'character_id': 203,\n",
              " 'corrected_name': 'gravedigger',\n",
              " 'desc': 'You might want to talk to the gravedigger, specially if your looking for a friend, he might be odd but you will find a friend in him.',\n",
              " 'ex_room_ids': [100, 349],\n",
              " 'in_room_ids': [62],\n",
              " 'is_plural': 0,\n",
              " 'name': 'gravedigger',\n",
              " 'orig_room_id': 349,\n",
              " 'personas': [\"I am low paid labor in this town. I do a job that many people shun because of my contact with death. I am very lonely and wish I had someone to talk to who isn't dead.\"],\n",
              " 'wearing_objects': [],\n",
              " 'wielding_objects': []}"
            ]
          },
          "metadata": {},
          "execution_count": 18
        }
      ],
      "source": [
        "light_environment['characters']['203']"
      ]
    },
    {
      "cell_type": "code",
      "source": [
        "room_id = light_environment['characters']['203']['in_room_ids'][0]\n",
        "room = rooms_by_id[str(room_id)]\n",
        "# Print out the room JSON\n",
        "print(json.dumps(room, indent=4))"
      ],
      "metadata": {
        "colab": {
          "base_uri": "https://localhost:8080/"
        },
        "id": "y1EzslQxS6rU",
        "outputId": "fcb67a89-6379-41a8-b05a-8cec4a3d5f3e"
      },
      "execution_count": 20,
      "outputs": [
        {
          "output_type": "stream",
          "name": "stdout",
          "text": [
            "{\n",
            "    \"category\": \"Graveyard\",\n",
            "    \"setting\": \"An Unfinished Mausoleum\",\n",
            "    \"description\": \"Two-and-a-half walls of the finest, whitest stone stand here, weathered by the passing of countless seasons. There is no roof, nor sign that there ever was one. All indications are that the work was abruptly abandoned. There is no door, nor markings on the walls. Nor is there any indication that any coffin has ever lain here... yet.\",\n",
            "    \"background\": \"Bright white stone was all the fad for funerary architecture, once upon a time. It's difficult to understand why someone would abandon such a large and expensive undertaking. If they didn't have the money to finish it, they could have sold the stone, surely - or the mausoleum itself. Maybe they just haven't needed it yet? A bit odd, though, given how old it is. Maybe the gravedigger remembers... if he's sober.\",\n",
            "    \"neighbors\": [\n",
            "        108,\n",
            "        109\n",
            "    ],\n",
            "    \"in_characters\": [\n",
            "        203,\n",
            "        203\n",
            "    ],\n",
            "    \"ex_characters\": [\n",
            "        204,\n",
            "        75,\n",
            "        156,\n",
            "        720\n",
            "    ],\n",
            "    \"in_objects\": [\n",
            "        1790\n",
            "    ],\n",
            "    \"ex_objects\": [\n",
            "        1791,\n",
            "        1792,\n",
            "        439\n",
            "    ],\n",
            "    \"room_id\": 62\n",
            "}\n"
          ]
        }
      ]
    },
    {
      "cell_type": "markdown",
      "source": [
        "Here are some examples of characters’ names and their personas.\n",
        "\n"
      ],
      "metadata": {
        "id": "txI658MSrgA8"
      }
    },
    {
      "cell_type": "code",
      "source": [
        "for character_id in list(light_environment['characters'])[10:20]:\n",
        "  character = light_environment['characters'][character_id]\n",
        "  name = character['corrected_name']\n",
        "  persona = character['personas'][0]\n",
        "  \n",
        "  print(name.title(), '-', persona)\n"
      ],
      "metadata": {
        "colab": {
          "base_uri": "https://localhost:8080/"
        },
        "id": "VT_QVfQZgc7_",
        "outputId": "4a4f9bc1-04ca-4b33-981d-96112dec4126"
      },
      "execution_count": null,
      "outputs": [
        {
          "output_type": "stream",
          "name": "stdout",
          "text": [
            "Witches - I only mastered one spell in witch school. I can speak with inanimate objects. I use this spell in espionage. I work for the government.\n",
            "Queen - I am second in command under the king. I have a great power of authority. I am worshiped and seen as a wise and beautiful leader.\n",
            "King - I am a king of the whole empire. I give rules and pursuit them. I am brave and fearless.\n",
            "Dragon - I am a dragon living in the mountains. I enjoy hoarding treasure. I terrorize the local populace for fun.\n",
            "Knight - I am a knight. I come from a lower-ranking noble family. I serve under the king, as my father did before me. In times of war, I fight on horseback.\n",
            "Faeries - I giggle as I toss about my hair.  Some of the male faeries take notice and give chase.  How I love to tease them!  For they will never catch me.\n",
            "Talking Cat - I am a talking cat. I can speak to humans. I have scared many, many children.\n",
            "A Rat - I stick to the edge, nose up and ready for any morsels that may drop my way. Or sometimes they don't, but I often don't know until my jaws are upon it. A hunk of moldy crust, the edge of a dropped hymnbook, it is all fair game.\n",
            "A Spider - I am a black widow spider.  I am spinning my web.  I hope to catch something delicious.  I will sit and wait until something is caught in my web.  Then it is game over for them.\n",
            "Ghosts - I am a ghost that haunts a castle. I do not recall how I came to exist. I make noises when I sense someone in my vicinity.\n"
          ]
        }
      ]
    },
    {
      "cell_type": "markdown",
      "metadata": {
        "id": "gItmZV9vU1Co"
      },
      "source": [
        "# Dialogue Data in LIGHT\n"
      ]
    },
    {
      "cell_type": "markdown",
      "source": [
        "Here is how to access the dialogues in the LIGHT dataset."
      ],
      "metadata": {
        "id": "Uyz5J4A6zwgE"
      }
    },
    {
      "cell_type": "code",
      "execution_count": null,
      "metadata": {
        "id": "R2MaOFcsU5PN",
        "colab": {
          "base_uri": "https://localhost:8080/"
        },
        "outputId": "895c4fea-507b-45b6-b2b4-09db288c30bc"
      },
      "outputs": [
        {
          "output_type": "stream",
          "name": "stdout",
          "text": [
            "--2022-03-24 16:39:07--  https://raw.githubusercontent.com/interactive-fiction-class/interactive-fiction-class-data/master/light_dialogue/light_dialogue_data_train.json.gz\n",
            "Resolving raw.githubusercontent.com (raw.githubusercontent.com)... 185.199.109.133, 185.199.108.133, 185.199.110.133, ...\n",
            "Connecting to raw.githubusercontent.com (raw.githubusercontent.com)|185.199.109.133|:443... connected.\n",
            "HTTP request sent, awaiting response... 200 OK\n",
            "Length: 15425057 (15M) [application/octet-stream]\n",
            "Saving to: ‘light_dialogue_data_train.json.gz’\n",
            "\n",
            "light_dialogue_data 100%[===================>]  14.71M  --.-KB/s    in 0.1s    \n",
            "\n",
            "2022-03-24 16:39:07 (136 MB/s) - ‘light_dialogue_data_train.json.gz’ saved [15425057/15425057]\n",
            "\n"
          ]
        }
      ],
      "source": [
        "!wget https://raw.githubusercontent.com/interactive-fiction-class/interactive-fiction-class-data/master/light_dialogue/light_dialogue_data_train.json.gz\n",
        "!gunzip light_dialogue_data_train.json.gz"
      ]
    },
    {
      "cell_type": "code",
      "execution_count": null,
      "metadata": {
        "id": "G5UmnCQ1U_lA"
      },
      "outputs": [],
      "source": [
        "import json\n",
        "light_dialogue_json_filename = 'light_dialogue_data_train.json'\n",
        "f = open(light_dialogue_json_filename)\n",
        "light_dialogues = json.load(f)"
      ]
    },
    {
      "cell_type": "code",
      "execution_count": null,
      "metadata": {
        "id": "V2Y9q6HPzETO"
      },
      "outputs": [],
      "source": [
        "def get_dialogue_description(dialogue):\n",
        "  \"\"\"\n",
        "  Constructs a string representation of the dialogue.\n",
        "  \"\"\"\n",
        "  agents = dialogue[\"agents\"] # A list of dictionaries with keys \"name\" and \"persona\"\n",
        "  setting = dialogue[\"setting\"] # A dictionary with keys \"name\", \"category\", \"description\", \"background\"\n",
        "  context = dialogue[\"context\"][0] # A second-person description of the set-up (maybe presented to Turkers?)\n",
        "  object_descriptions = dialogue[\"all_descriptions\"]\n",
        "\n",
        "  # These lists comprise the turns of the conversation\n",
        "  character_order = dialogue[\"character\"]\n",
        "  speech = dialogue[\"speech\"]\n",
        "  emotes = dialogue[\"emote\"]\n",
        "  actions = dialogue[\"action\"]\n",
        "\n",
        "  turns = []\n",
        "  for i, _ in enumerate(character_order):\n",
        "    turns.append((character_order[i], speech[i], emotes[i], actions[i]))\n",
        "\n",
        "  # Setting description\n",
        "  setting_str = \"{setting} - {description}\\n\".format(setting=setting[\"name\"], description=setting[\"description\"])\n",
        "  # Name and personas of the characters\n",
        "  characters = []\n",
        "  for agent in agents:\n",
        "    name = agent[\"name\"].title()\n",
        "    persona = persona=agent[\"persona\"]\n",
        "    characters.append((name, persona))\n",
        "  # Conversation \n",
        "  dialogue_str = \"\"\n",
        "  for character, line, emote, action in turns:\n",
        "    dialogue_str += '{character}: \"{line}\"\\n'.format(character=character.capitalize(), line=line.capitalize().strip())\n",
        "    if emote:\n",
        "      dialogue_str += \"{character}: Gestures - {emote}\\n\".format(character=character.capitalize(), emote=emote.capitalize().strip())\n",
        "    if action:\n",
        "      dialogue_str += \"{character}: Stage Direction - {action}\\n\".format(character=character.capitalize(), action=action.capitalize().strip())\n",
        "  return setting_str, characters, dialogue_str\n"
      ]
    },
    {
      "cell_type": "markdown",
      "metadata": {
        "id": "poyFB9V2WYmZ"
      },
      "source": [
        "# TODO: Character Generation\n",
        "\n"
      ]
    },
    {
      "cell_type": "markdown",
      "source": [
        "Let's start today by generating characters for a location.\n",
        "\n",
        "Given a location, generate a character that could be at that location.  The character should have\n",
        "1. A name\n",
        "2. A persona written in the first person"
      ],
      "metadata": {
        "id": "cLt5R04bvvwd"
      }
    },
    {
      "cell_type": "code",
      "execution_count": null,
      "metadata": {
        "id": "Hivr6J-3WuV_"
      },
      "outputs": [],
      "source": [
        "%%capture\n",
        "!pip install --upgrade openai\n",
        "!pip install jsonlines"
      ]
    },
    {
      "cell_type": "markdown",
      "metadata": {
        "id": "Z8RFaAaEW-oI"
      },
      "source": [
        "You can find your OpenAI API key [here](https://beta.openai.com/account/api-keys).\n"
      ]
    },
    {
      "cell_type": "code",
      "execution_count": null,
      "metadata": {
        "id": "OdtifP-QW8GK"
      },
      "outputs": [],
      "source": [
        "import os\n",
        "import openai\n",
        "\n",
        "print('Enter OpenAI API key:')\n",
        "openai.api_key = input()\n",
        "\n",
        "os.environ['OPENAI_API_KEY']=openai.api_key"
      ]
    },
    {
      "cell_type": "markdown",
      "metadata": {
        "id": "Z0Qd3JFuvEnE"
      },
      "source": [
        "# TODO: Format Data for Fine-Tuning \n",
        "\n",
        "Below, I show how to create data to fine-tune OpenAI.  The OpenAI API documentation has a [guide to fine-tuning models](https://beta.openai.com/docs/guides/fine-tuning) that you should read.   The basic format of fine-tuning data is a JSONL file (one JSON object per line) with two key-value pairs: `prompt:` and `completion:`.\n",
        "\n",
        "```\n",
        "{\"prompt\": \"<prompt text>\", \"completion\": \"<ideal generated text>\"}\n",
        "{\"prompt\": \"<prompt text>\", \"completion\": \"<ideal generated text>\"}\n",
        "{\"prompt\": \"<prompt text>\", \"completion\": \"<ideal generated text>\"}\n",
        "...\n",
        "```\n",
        "\n",
        "In the code below, I'll extract a prompt that contains the `Category` and `Setting` variables from a LIGHT Environment room, and I'll have the completion be the room's `Description`."
      ]
    },
    {
      "cell_type": "code",
      "execution_count": null,
      "metadata": {
        "id": "4kIr8uDwvHB_"
      },
      "outputs": [],
      "source": [
        "\n",
        "# Print out the room JSON\n",
        "print(json.dumps(room, indent=4))\n",
        "\n",
        "def create_character_finetuning_data(filename, light_environment, max_characters=100):\n",
        "  fine_tuning_data = []\n",
        "  counter = 0\n",
        "  for character_id in light_environment['characters']:\n",
        "    counter += 1\n",
        "    if counter > max_characters:\n",
        "      break\n",
        "      \n",
        "    character = light_environment['characters'][character_id]\n",
        "    name = character['corrected_name']\n",
        "    persona = character['personas'][0]\n",
        "    room_json = rooms_by_id[str(character['in_room_ids'][0])]\n",
        "\n",
        "    data = {}\n",
        "    data['prompt'] = TODO\n",
        "    data['completion'] = TODO\n",
        "    fine_tuning_data.append(data)\n",
        "\n",
        "  with open(filename, 'w') as out:\n",
        "    for data in fine_tuning_data:\n",
        "        out.write(json.dumps(data))\n",
        "        out.write('\\n')\n",
        "\n",
        "jsonl_filename='fine_tune_LIGHT_characters.jsonl'\n",
        "create_character_finetuning_data(jsonl_filename, light_environment)"
      ]
    },
    {
      "cell_type": "markdown",
      "metadata": {
        "id": "hMNG-k-d8QcY"
      },
      "source": [
        "### Fine-tune GPT3 with the OpenAI API\n",
        "\n",
        "Next, we'll perform fine-tuning with this data using OpenAI. "
      ]
    },
    {
      "cell_type": "code",
      "execution_count": null,
      "metadata": {
        "id": "4TJ2vnq_9jI7"
      },
      "outputs": [],
      "source": [
        "!head '{jsonl_filename}'\n",
        "!wc -lw '{jsonl_filename}'"
      ]
    },
    {
      "cell_type": "markdown",
      "metadata": {
        "id": "7n2Alv9S6L2l"
      },
      "source": [
        "Next, we'll make the fine tuning API call via the command line.  Here the -m argument gives the model.  There are 4 sizes of GPT3 models.  They go in alphabetical order from smallest to largest.\n",
        "* Ada \n",
        "* Baddage\n",
        "* Currie\n",
        "* Davinci\n",
        "\n",
        "The models as the model sizes increase, so does their quality and their cost.  Davinci is the highest quality and highest cost model.  I recommend starting by fine-tuning smaller models to debug your code first so that you don't rack up costs.\n",
        "\n",
        "Fine-tuning curie on 1000 dialogues costs about $6.50.\n"
      ]
    },
    {
      "cell_type": "code",
      "execution_count": null,
      "metadata": {
        "id": "3n7F3ZBT9tZc"
      },
      "outputs": [],
      "source": [
        "!openai api fine_tunes.create -t '{jsonl_filename}' -m curie\n",
        "#!openai api fine_tunes.create -t '{jsonl_filename}' -m davinci\n"
      ]
    },
    {
      "cell_type": "code",
      "execution_count": null,
      "metadata": {
        "id": "iCabze9Rl5u1"
      },
      "outputs": [],
      "source": [
        "#!openai api fine_tunes.cancel -i ft-NwXfffYxfrc3BIqYACBSSDFG"
      ]
    },
    {
      "cell_type": "markdown",
      "metadata": {
        "id": "OrTwGsYNE-ze"
      },
      "source": [
        "You should copy down the fine-tune numbers which look like this:\n",
        "\n",
        "```\n",
        "Created fine-tune: ft-VzQpTwfnWAzDXNKgPTFtiZg2\n",
        "\n",
        "[2022-01-21 23:22:47] Uploaded model: curie:ft-ccb-lab-members-2022-01-21-23-22-46\n",
        "```\n",
        "\n",
        "If you forget to write it down, you can list your fine-tuned runs and models this way. These model names aren't mneumonic, so it is probably a good idea to make a note on what your model's inputs and outputs are. "
      ]
    },
    {
      "cell_type": "code",
      "execution_count": null,
      "metadata": {
        "id": "aJAe-fDq_ea1"
      },
      "outputs": [],
      "source": [
        "!openai api fine_tunes.list"
      ]
    },
    {
      "cell_type": "markdown",
      "metadata": {
        "id": "RHxQfGmalByo"
      },
      "source": [
        "You can run your fine tuned model in the OpenAI Playground.  After the model is finished finetuning you'll find it in the Engine dropdown menu.  \n"
      ]
    },
    {
      "cell_type": "code",
      "source": [
        ""
      ],
      "metadata": {
        "id": "rjGjZ9p-qmV1"
      },
      "execution_count": null,
      "outputs": []
    },
    {
      "cell_type": "markdown",
      "source": [
        "# TODO - Generate Motivations for Characters\n",
        "\n",
        "Given a character (name and person) and their current location description from the Quest File, generate a list of 3 motivations for the character (short term, mid-term, and long-term motivation).\n",
        "\n",
        "Example input:\n",
        "```\n",
        "    \"character\": \"The King Visiting The Shipyard\",\n",
        "    \"persona\": \"I am the King. I rule this land, and all power is mine to hold.  My kingship is a divine right passed down from my father to me, and it will be passed down to my son someday. I live in luxury, but I am also at risk from other rulers who may want to take over my kingdom. A king must be a man of war, always prepared to defend his land.\",\n",
        "    \"description\": \"You are in the Royal Shipyard.\\nA massive shipyard with different Five dry docks. each dry dock has several wooden cranes and rope works. The dry docks are made of stone and the water gate is all harden wood.\\nThere's a dock, a water gate is all harden wood, a rope work, a water gate, two cranes, a Fishing ships, and a rope here.\\nThe thief is here.\\n\\nYou are carrying nothing.\",\n",
        "```\n",
        "\n",
        "Example output: \n",
        "```\n",
        "    \"short_motivation\": \"I plan to inspect the rope work\",\n",
        "    \"mid_motivation\": \"I plan to instruct the Chief Naval Engineer to build me a new warship\",\n",
        "    \"long_motivation\": \"I plan to attack an enemy kingdom with my new warship\",\n",
        "```"
      ],
      "metadata": {
        "id": "E7vpL1Aiqmwr"
      }
    },
    {
      "cell_type": "code",
      "source": [
        "#TODO - fine tune a model here"
      ],
      "metadata": {
        "id": "Dv3zDXqVra4x"
      },
      "execution_count": null,
      "outputs": []
    },
    {
      "cell_type": "markdown",
      "source": [
        "# TODO - Conversations with Motivations\n",
        "\n",
        "Use your code from last week on generating conversations.  Now instead of inputting the setting, the characters' names and their personas, incorporate a motivation for character too.  \n",
        "\n",
        "There are several ways that you could do this.  For instance, you could append their motivation to their persona. \n",
        "\n",
        "Does the conversation change with the motivation?  How could you automatically detect whether the character reached their goal? "
      ],
      "metadata": {
        "id": "bPZrkEIqrgX1"
      }
    },
    {
      "cell_type": "code",
      "source": [
        ""
      ],
      "metadata": {
        "id": "MiITYapmr0-3"
      },
      "execution_count": null,
      "outputs": []
    },
    {
      "cell_type": "markdown",
      "source": [
        "# Optional TODO\n",
        "\n",
        "There are lots of other cool things you could try with the quest data:\n",
        "* Given a short term motivation, predict the immediate goal from a set of possible goals. Input: ` \"short_motivation\": \"I plan to inspect the rope work\",` output - pick `\"goal\": \"get rope work\",` out of a list of several possible goals. \n",
        "* Given an unordered set of motivations, put them in order short-term, near-term, long-term.\n",
        "* Generate a story from the timeline data for each quest. "
      ],
      "metadata": {
        "id": "P5b8czWwsV6p"
      }
    }
  ],
  "metadata": {
    "colab": {
      "collapsed_sections": [],
      "name": "Characters_and_Quests.ipynb",
      "provenance": []
    },
    "kernelspec": {
      "display_name": "Python 3",
      "name": "python3"
    },
    "language_info": {
      "name": "python"
    }
  },
  "nbformat": 4,
  "nbformat_minor": 0
}