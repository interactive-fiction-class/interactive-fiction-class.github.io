{
  "cells": [
    {
      "cell_type": "markdown",
      "metadata": {
        "id": "rnu0al-r2-xn"
      },
      "source": [
        "## Data for Learning to Speak and Act in a Fantasy Text Adventure Game\n",
        " \n",
        "\n",
        "We previously used the LIGHT dataset(Learning in Interactive Games with Humans and Text) from the Facebook AI Research paper [Learning to Speak and Act in a Fantasy Text Adventure Game](https://arxiv.org/abs/1903.03094).  In our previous homework, we used its locations and object descriptions.\n",
        "\n",
        "Here we will use a different part of the data which contains characters with first person \"persona\" descriptions, plus dialogues between pairs of characters.\n"
      ]
    },
    {
      "cell_type": "markdown",
      "metadata": {
        "id": "5wAmCcXly0dF"
      },
      "source": [
        "## Load the data\n",
        "\n",
        "The LIGHT data was released as part of the Facebook's ParlAI system. I extracted the data into several JSON files:\n",
        "* ```light_environment_train.json``` contains information about the locations, objects, and characters in the text-adventure games.  \n",
        "* ```light_dialogue_data.json``` contains sample conversations between pairs of characters.   We'll use this later in the semester. \n",
        "\n"
      ]
    },
    {
      "cell_type": "code",
      "execution_count": 16,
      "metadata": {
        "colab": {
          "base_uri": "https://localhost:8080/"
        },
        "id": "n7Koe3N-o34j",
        "outputId": "7066a91e-90f5-4657-9153-ed9c489a85e0"
      },
      "outputs": [
        {
          "output_type": "stream",
          "name": "stdout",
          "text": [
            "--2022-03-24 16:39:06--  https://raw.githubusercontent.com/interactive-fiction-class/interactive-fiction-class-data/master/light_dialogue/light_environment_train.json\n",
            "Resolving raw.githubusercontent.com (raw.githubusercontent.com)... 185.199.108.133, 185.199.110.133, 185.199.109.133, ...\n",
            "Connecting to raw.githubusercontent.com (raw.githubusercontent.com)|185.199.108.133|:443... connected.\n",
            "HTTP request sent, awaiting response... 200 OK\n",
            "Length: 3541467 (3.4M) [text/plain]\n",
            "Saving to: ‘light_environment_train.json.1’\n",
            "\n",
            "light_environment_t 100%[===================>]   3.38M  --.-KB/s    in 0.07s   \n",
            "\n",
            "2022-03-24 16:39:07 (51.5 MB/s) - ‘light_environment_train.json.1’ saved [3541467/3541467]\n",
            "\n"
          ]
        }
      ],
      "source": [
        "!wget https://raw.githubusercontent.com/interactive-fiction-class/interactive-fiction-class-data/master/light_dialogue/light_environment_train.json"
      ]
    },
    {
      "cell_type": "code",
      "execution_count": 17,
      "metadata": {
        "id": "IGKKGBqBqEmu"
      },
      "outputs": [],
      "source": [
        "import sys\n",
        "import os\n",
        "import json\n",
        "from collections import defaultdict\n",
        "\n",
        "\n",
        "json_filename = 'light_environment_train.json'\n",
        "\n",
        "f = open(json_filename)\n",
        "light_environment = json.load(f)\n",
        "\n",
        "def get_categories(light_environment):\n",
        "  return light_environment['categories'].values()\n",
        "categories = get_categories(light_environment)\n",
        "\n",
        "def get_room_name(room_id, rooms_by_id):\n",
        "  return rooms_by_id[room_id]['setting']\n",
        "\n",
        "def print_rooms_for_category(category, rooms_by_category, rooms_by_id):\n",
        "  rooms = rooms_by_category[category]\n",
        "  print(category.capitalize())\n",
        "  for room_id in rooms:\n",
        "    print('\\t', room_id, '-', get_room_name(room_id))\n",
        "\n",
        "\n",
        "def sort_objects_by_property(objects_by_id):\n",
        "  objects_by_property = defaultdict(set)\n",
        "  for object_id, obj in objects_by_id.items(): \n",
        "    name = obj['name']\n",
        "    for label, value in obj.items():\n",
        "      if label.startswith('is_') and value == 1:\n",
        "        objects_by_property[label].add(object_id)\n",
        "  return objects_by_property\n",
        "\n",
        "\n",
        "rooms_by_id = light_environment['rooms']\n",
        "rooms_by_category = defaultdict(set)\n",
        "for room_id in rooms_by_id:\n",
        "  category = light_environment['rooms'][room_id]['category']\n",
        "  rooms_by_category[category].add(room_id)\n",
        "objects_by_id = light_environment['objects']\n",
        "objects_by_property = sort_objects_by_property(objects_by_id)\n",
        "\n"
      ]
    },
    {
      "cell_type": "markdown",
      "metadata": {
        "id": "vTAI9BCezkoV"
      },
      "source": [
        "\n",
        "# Characters in LIGHT \n",
        "\n",
        "\n",
        "Characters have a description, a persona (a first person description of who they are and what their motivations might be), a character type (person, creature or object), a location (```in_room_id```) and an an inventory (```carrying_objects```)\n",
        "\n",
        "The Gravedigger character is listed in the Unfinished Mausoleum's ``in_characters`` variable.  The ``in_characters`` are characters that are explictly mentioned in the location's ``description`` or ``background`` variables. \n",
        "```\n",
        "light_environment['characters']['203']\n",
        "\n",
        "{'base_form': ['gravedigger'],\n",
        " 'carrying_objects': [890],\n",
        " 'char_type': 'person',\n",
        " 'character_id': 203,\n",
        " 'corrected_name': 'gravedigger',\n",
        " 'desc': 'You might want to talk to the gravedigger, specially if your looking for a friend, he might be odd but you will find a friend in him.',\n",
        " 'ex_room_ids': [100, 349],\n",
        " 'in_room_ids': [62],\n",
        " 'is_plural': 0,\n",
        " 'name': 'gravedigger',\n",
        " 'orig_room_id': 349,\n",
        " 'personas': [\"I am low paid labor in this town. I do a job that many people shun because of my contact with death. I am very lonely and wish I had someone to talk to who isn't dead.\"],\n",
        " 'wearing_objects': [],\n",
        " 'wielding_objects': []}\n",
        " ```\n"
      ]
    },
    {
      "cell_type": "code",
      "execution_count": 18,
      "metadata": {
        "colab": {
          "base_uri": "https://localhost:8080/"
        },
        "id": "hM83nrldUkE_",
        "outputId": "f8eea0e8-5369-45f6-9b63-c6c5db8de638"
      },
      "outputs": [
        {
          "output_type": "execute_result",
          "data": {
            "text/plain": [
              "{'base_form': ['gravedigger'],\n",
              " 'carrying_objects': [890],\n",
              " 'char_type': 'person',\n",
              " 'character_id': 203,\n",
              " 'corrected_name': 'gravedigger',\n",
              " 'desc': 'You might want to talk to the gravedigger, specially if your looking for a friend, he might be odd but you will find a friend in him.',\n",
              " 'ex_room_ids': [100, 349],\n",
              " 'in_room_ids': [62],\n",
              " 'is_plural': 0,\n",
              " 'name': 'gravedigger',\n",
              " 'orig_room_id': 349,\n",
              " 'personas': [\"I am low paid labor in this town. I do a job that many people shun because of my contact with death. I am very lonely and wish I had someone to talk to who isn't dead.\"],\n",
              " 'wearing_objects': [],\n",
              " 'wielding_objects': []}"
            ]
          },
          "metadata": {},
          "execution_count": 18
        }
      ],
      "source": [
        "light_environment['characters']['203']"
      ]
    },
    {
      "cell_type": "markdown",
      "source": [
        "Here are some examples of characters’ names and their personas.\n",
        "\n"
      ],
      "metadata": {
        "id": "txI658MSrgA8"
      }
    },
    {
      "cell_type": "code",
      "source": [
        "for character_id in list(light_environment['characters'])[10:20]:\n",
        "  character = light_environment['characters'][character_id]\n",
        "  name = character['corrected_name']\n",
        "  persona = character['personas'][0]\n",
        "  \n",
        "  print(name.title(), '-', persona)\n"
      ],
      "metadata": {
        "colab": {
          "base_uri": "https://localhost:8080/"
        },
        "id": "VT_QVfQZgc7_",
        "outputId": "4a4f9bc1-04ca-4b33-981d-96112dec4126"
      },
      "execution_count": 19,
      "outputs": [
        {
          "output_type": "stream",
          "name": "stdout",
          "text": [
            "Witches - I only mastered one spell in witch school. I can speak with inanimate objects. I use this spell in espionage. I work for the government.\n",
            "Queen - I am second in command under the king. I have a great power of authority. I am worshiped and seen as a wise and beautiful leader.\n",
            "King - I am a king of the whole empire. I give rules and pursuit them. I am brave and fearless.\n",
            "Dragon - I am a dragon living in the mountains. I enjoy hoarding treasure. I terrorize the local populace for fun.\n",
            "Knight - I am a knight. I come from a lower-ranking noble family. I serve under the king, as my father did before me. In times of war, I fight on horseback.\n",
            "Faeries - I giggle as I toss about my hair.  Some of the male faeries take notice and give chase.  How I love to tease them!  For they will never catch me.\n",
            "Talking Cat - I am a talking cat. I can speak to humans. I have scared many, many children.\n",
            "A Rat - I stick to the edge, nose up and ready for any morsels that may drop my way. Or sometimes they don't, but I often don't know until my jaws are upon it. A hunk of moldy crust, the edge of a dropped hymnbook, it is all fair game.\n",
            "A Spider - I am a black widow spider.  I am spinning my web.  I hope to catch something delicious.  I will sit and wait until something is caught in my web.  Then it is game over for them.\n",
            "Ghosts - I am a ghost that haunts a castle. I do not recall how I came to exist. I make noises when I sense someone in my vicinity.\n"
          ]
        }
      ]
    },
    {
      "cell_type": "markdown",
      "metadata": {
        "id": "gItmZV9vU1Co"
      },
      "source": [
        "# Dialogue Data in LIGHT\n"
      ]
    },
    {
      "cell_type": "markdown",
      "source": [
        "Here is how to access the dialogues in the LIGHT dataset."
      ],
      "metadata": {
        "id": "Uyz5J4A6zwgE"
      }
    },
    {
      "cell_type": "code",
      "execution_count": 20,
      "metadata": {
        "id": "R2MaOFcsU5PN",
        "colab": {
          "base_uri": "https://localhost:8080/"
        },
        "outputId": "895c4fea-507b-45b6-b2b4-09db288c30bc"
      },
      "outputs": [
        {
          "output_type": "stream",
          "name": "stdout",
          "text": [
            "--2022-03-24 16:39:07--  https://raw.githubusercontent.com/interactive-fiction-class/interactive-fiction-class-data/master/light_dialogue/light_dialogue_data_train.json.gz\n",
            "Resolving raw.githubusercontent.com (raw.githubusercontent.com)... 185.199.109.133, 185.199.108.133, 185.199.110.133, ...\n",
            "Connecting to raw.githubusercontent.com (raw.githubusercontent.com)|185.199.109.133|:443... connected.\n",
            "HTTP request sent, awaiting response... 200 OK\n",
            "Length: 15425057 (15M) [application/octet-stream]\n",
            "Saving to: ‘light_dialogue_data_train.json.gz’\n",
            "\n",
            "light_dialogue_data 100%[===================>]  14.71M  --.-KB/s    in 0.1s    \n",
            "\n",
            "2022-03-24 16:39:07 (136 MB/s) - ‘light_dialogue_data_train.json.gz’ saved [15425057/15425057]\n",
            "\n"
          ]
        }
      ],
      "source": [
        "!wget https://raw.githubusercontent.com/interactive-fiction-class/interactive-fiction-class-data/master/light_dialogue/light_dialogue_data_train.json.gz\n",
        "!gunzip light_dialogue_data_train.json.gz"
      ]
    },
    {
      "cell_type": "code",
      "execution_count": 21,
      "metadata": {
        "id": "G5UmnCQ1U_lA"
      },
      "outputs": [],
      "source": [
        "import json\n",
        "light_dialogue_json_filename = 'light_dialogue_data_train.json'\n",
        "f = open(light_dialogue_json_filename)\n",
        "light_dialogues = json.load(f)"
      ]
    },
    {
      "cell_type": "code",
      "execution_count": 33,
      "metadata": {
        "id": "V2Y9q6HPzETO"
      },
      "outputs": [],
      "source": [
        "def get_dialogue_description(dialogue):\n",
        "  \"\"\"\n",
        "  Constructs a string representation of the dialogue.\n",
        "  \"\"\"\n",
        "  agents = dialogue[\"agents\"] # A list of dictionaries with keys \"name\" and \"persona\"\n",
        "  setting = dialogue[\"setting\"] # A dictionary with keys \"name\", \"category\", \"description\", \"background\"\n",
        "  context = dialogue[\"context\"][0] # A second-person description of the set-up (maybe presented to Turkers?)\n",
        "  object_descriptions = dialogue[\"all_descriptions\"]\n",
        "\n",
        "  # These lists comprise the turns of the conversation\n",
        "  character_order = dialogue[\"character\"]\n",
        "  speech = dialogue[\"speech\"]\n",
        "  emotes = dialogue[\"emote\"]\n",
        "  actions = dialogue[\"action\"]\n",
        "\n",
        "  turns = []\n",
        "  for i, _ in enumerate(character_order):\n",
        "    turns.append((character_order[i], speech[i], emotes[i], actions[i]))\n",
        "\n",
        "  # Setting description\n",
        "  setting_str = \"{setting} - {description}\\n\".format(setting=setting[\"name\"], description=setting[\"description\"])\n",
        "  # Name and personas of the characters\n",
        "  characters = []\n",
        "  for agent in agents:\n",
        "    name = agent[\"name\"].title()\n",
        "    persona = persona=agent[\"persona\"]\n",
        "    characters.append((name, persona))\n",
        "  # Conversation \n",
        "  dialogue_str = \"\"\n",
        "  for character, line, emote, action in turns:\n",
        "    dialogue_str += '{character}: \"{line}\"\\n'.format(character=character.capitalize(), line=line.capitalize().strip())\n",
        "    if emote:\n",
        "      dialogue_str += \"{character}: Gestures - {emote}\\n\".format(character=character.capitalize(), emote=emote.capitalize().strip())\n",
        "    if action:\n",
        "      dialogue_str += \"{character}: Stage Direction - {action}\\n\".format(character=character.capitalize(), action=action.capitalize().strip())\n",
        "  return setting_str, characters, dialogue_str\n"
      ]
    },
    {
      "cell_type": "code",
      "execution_count": 34,
      "metadata": {
        "colab": {
          "base_uri": "https://localhost:8080/"
        },
        "id": "K8ghEOBtVf-C",
        "outputId": "0a09ba64-fc49-466d-a655-da43e6b12ccf"
      },
      "outputs": [
        {
          "output_type": "stream",
          "name": "stdout",
          "text": [
            "Setting:\n",
            "* Watchtower - The tower is the largest section of the castle. It contains an observatory for nighttime scouting, but is also used by the wise men to study the stars. Armed guardsmen are always to be found keeping watch.\n",
            "\n",
            "Characters:\n",
            "* Court Wizard - I am an advisor of anything magical. I sell spells to those who need them. I am wealthy and hold an important place in political life\n",
            "* Soldier - I came from the fertile valley when I was conscripted. The king needed strong farmer's sons to fight in the war. I am very unhappy here in the cold, damp, rainy north. I miss my friends and my dog. I hope to go back to my father's farm when the war ends.\n",
            "\n",
            "Conversation:\n",
            "Court wizard: \"A quiet night this evening...\"\n",
            "Soldier: \"Yes it is\"\n",
            "Court wizard: \"Have any else come up this eve? i had hoped for a quiet night to examine the stars\"\n",
            "Court wizard: Gestures - Ponder\n",
            "Soldier: \"Yes, a few came through, but it is a cold night for me, i am used to warmer weather\"\n",
            "Soldier: Gestures - Nod\n",
            "Court wizard: \"Well, you are but a common soldier.  no doubt you are used to such a lot.  thankfully i have my spells to keep me warm.\"\n",
            "Court wizard: Gestures - Sigh\n",
            "Soldier: \"I am a soldier doing my job\"\n",
            "Soldier: Gestures - Grin\n",
            "Court wizard: \"Yes... well... very well then.  see that you do!  no slacking off while your betters are about.\"\n",
            "Soldier: \"No sir\"\n",
            "Court wizard: \"When, for example, was this horn last tested?  it looks dented.  how can we be sure it will work?\"\n",
            "Soldier: \"A year ago, test it out or cause a need to use it\"\n",
            "Court wizard: \"Mayhap i will speak to the king about such lackness.  or perhaps i can sell him a spell that will serve just as well.\"\n",
            "Court wizard: Gestures - Frown\n",
            "Soldier: \"Good idea, i agree, go do that\"\n",
            "Soldier: Stage Direction - Hug court wizard\n",
            "Court wizard: \"Get off of me, you fool!  who gave you permission to touch me!\"\n",
            "Court wizard: Stage Direction - Hit soldier\n",
            "Soldier: \"To the jail with you\"\n",
            "Soldier: Stage Direction - Hit court wizard\n",
            "\n",
            "===\n",
            "\n",
            "Setting:\n",
            "* Port Tavern - The port tavern is the shadiest of all the shady bars in the city. Every night, on its grimy stools at the wooden bar, you can find some of the slimiest sailors in the world. The walls are of peeling blue paint and are always dripping with condensation. Women of ill-repute line one wall, old men on the verge of passing out line another. The floor is littered with trash, barnacles, and bodily fluids. Tending the bar is a small, round man with a bushy mustache.\n",
            "\n",
            "Characters:\n",
            "* Thief - I am a thief that lives near the village. I pickpocket villagers and loot their homes when while they are away. I hate to fight and I am very fast to flee from danger.\n",
            "* Person - I am very hungry and very sick. I ended up homeless because I refused to do what my family wanted and was disowned. I look for scraps to feed my empty belly, while others look down on me.\n",
            "\n",
            "Conversation:\n",
            "Thief: \"Hey, you orc, get out of here.\"\n",
            "Person: \"I'm no orc. i'm just a homeless man\"\n",
            "Thief: \"I'm sorry, i thought you were someone else. can i buy you a beer?\"\n",
            "Person: \"That would be so kind. i am so hungry and have been feeling sick.\"\n",
            "Person: Stage Direction - Hug thief\n",
            "Thief: \"Oh, i don't have enough money to do that. sorry, i need to leave.\"\n",
            "Person: \"I should have known even a thief would look down on me.\"\n",
            "Thief: \"I have to go.\"\n",
            "Person: \"What's that in your pocket?\"\n",
            "Thief: \"It's a book i like to read sometimes.\"\n",
            "Person: \"Who did you steal it from?\"\n",
            "Thief: \"I didn't steal it from anyone. listen, i don't want a fight.\"\n",
            "Person: \"Neither do i. i'm just desperate for a bite to eat.\"\n",
            "Thief: \"Sorry.\"\n",
            "Thief: Gestures - Shrug\n",
            "Person: \"Where are you going?\"\n",
            "\n",
            "===\n",
            "\n",
            "Setting:\n",
            "* Prison room - Up at the top of the tower, among the gray clouds, is the prison room. The room is round, with a circumference of about 15 feet. The walls are barren and made of stone; only one barred window gives a view out onto the vast landscape. A small bed and a dirty wooden bucket are the only decorations. The desolate princess spends day and night laying on that small bed, wondering where things went wrong\n",
            "\n",
            "Characters:\n",
            "* Witch - Halloween is my favorite time of the year.  My familiar is a cat named Helix.  I have a spell book that is 300 years old.  I search the forest for herbs and berries for my potions.\n",
            "* Fairy - I'm a fairy that lives in the forest. I like to fly around with my siblings and play games. I try to hide from humans. If they find me, I'll grant their wishes.\n",
            "\n",
            "Conversation:\n",
            "Witch: \"What brought you to this desolate place?\"\n",
            "Fairy: \"I've got no desire to be here. i was taken against my will. i haven't even given a wish yet.\"\n",
            "Witch: \"It is cold here. i'm sorry to hear of how things have turned out for you.\"\n",
            "Witch: Stage Direction - Hug fairy\n",
            "Fairy: \"Thank you...but what about the princess over there?\"\n",
            "Fairy: Gestures - Blush\n",
            "Witch: \"I wonder if i can use my spell book to cheer her up. there must be a spell in there for that. without access to the world outside to get the ingredients for my potions, we might struggle.\"\n",
            "Fairy: \"Can you do anything with this? fire and wax? that's gotta be something.\"\n",
            "Fairy: Stage Direction - Get lantern\n",
            "Witch: \"Perhaps, but many of the charms require berries and herbs. it doesn't hurt to try. you mentioned about your wish, can you grant one to anyone?\"\n",
            "Fairy: \"Only humans. and you'd have to find me first! it's no fair that i'm locked in here,\"\n",
            "Witch: \"It is a sorry state of affairs, as the look on the princess' face testifies. at least i have felix. he is my familiar. still he has only has that dirty old bucket to scratch his back on, and that isn't good for his health.\"\n",
            "Witch: Gestures - Frown\n",
            "Fairy: \"Still, there's got to be a way out of here. i've got a family, i can't leave them behind! but this lantern isn't helping, i gotta let it down. speaking of, can that cat fit through the bars? maybe we could float him down somehow.\"\n",
            "Fairy: Stage Direction - Put lantern in small bed\n",
            "Witch: \"Can the dirty wooden bucket help?\"\n",
            "Witch: Stage Direction - Get dirty wooden bucket\n",
            "Fairy: \"Maybe. maybe we could fit the cat in it and lower the bucket down somehow. could you use magic or something?\"\n",
            "Witch: \"Here you go, if i give you the bucket then i can see you. then could i catch you and get the wish?\"\n",
            "Witch: Stage Direction - Give dirty wooden bucket to fairy\n",
            "Fairy: \"Yeah, that's an idea. you close your eyes or something and i'll hide in the bucket somewhere. if you can find me, i think i can give you a wish.\"\n",
            "Fairy: Gestures - Grin\n",
            "\n",
            "===\n",
            "\n",
            "Setting:\n",
            "* Dungeon - Dark and gloomy, the dungeon is the ugly underbelly of the castle. A few torches line the black stone walls, throwing a meager light on the iron bars of the cells. The air is damp and still; the only disruptions are the occasional anguished moans and cries from the prisoners.\n",
            "\n",
            "Characters:\n",
            "* Guard - I am one of the royal guards. I protect the castle and my king from threats. No one will enter the castle on my watch.\n",
            "* Prisoner - I am a prisoner at the current point in my life. I was thrown in here for the wrong things and none of the guards will help me or let me explain my side. There is no way for me to fight this. I guess my only choice is to try and break out. I have a family I need to take care of.\n",
            "\n",
            "Conversation:\n",
            "Guard: \"You, prisoner. the king wishes to see you.\"\n",
            "Guard: Gestures - Frown\n",
            "Prisoner: \"What for?\"\n",
            "Guard: \"The king wishes to make a deal with you. beyond me why he cares for a prisoner.\"\n",
            "Prisoner: \"Thank heavens, i thought i would never see my family again.\"\n",
            "Guard: \"Don't be so hasty. the king might ask more of you than you think.\"\n",
            "Prisoner: \"At least i'll have a chance to explain myself.\"\n",
            "Guard: \"You do that. but remember you were put in the dungeon for good cause.\"\n",
            "Prisoner: \"I was placed here by mistake. they have me mixed up with another man!\"\n",
            "Guard: \"They all tell me that. but this isn't my decision.\"\n",
            "Prisoner: \"I understand. you are only doing your job.\"\n",
            "Guard: \"At least you are cooperating. i'll mention that.\"\n",
            "Guard: Gestures - Nod\n",
            "Prisoner: \"What have i been accused of doing?\"\n",
            "Guard: \"You are accused of disobeying a direct order by the queen. as rigid as she is.\"\n",
            "Prisoner: \"I don't remember being ordered by the queen to do anything.\"\n",
            "Prisoner: Gestures - Ponder\n",
            "\n",
            "===\n",
            "\n",
            "Setting:\n",
            "* Master Bedroom - The master bedroom is the most lavish and beautiful room in the entire palace. On the ceiling is a painting made by the most famous artist in the palace, the floors are made of the most expensive marble, and gold-stitched tapestries line the walls. The mattress was made by the sleeping monks of the hidden mountains, the bed frame is made of solid god.\n",
            "\n",
            "Characters:\n",
            "* The King - I am the king of this country and have been so ever since my father was killed in a riding accident.  I am frequently bored and aloof toward my country's affairs.  I prefer to spend my time drinking wine and chasing handmaidens.\n",
            "* Archer - I am an archer. My weapon of choice is a bow and arrow. I'm very skillful and shooting a bow and arrow.\n",
            "\n",
            "Conversation:\n",
            "The king: \"What are you doing here, archer?\"\n",
            "Archer: \"An archer such as myself needs no reason to be at a nice place like this.\"\n",
            "The king: \"Since you are here, i need more wine. please fill my glass immediately.\"\n",
            "Archer: \"Yes sir, although you're under utilizing my ability with a bow and and arrow. what a lovely place you have here.\"\n",
            "The king: \"Thank you. my bed frame alone is more valuable than anything you've ever seen\"\n",
            "Archer: \"A frame made from materials more valuable than my bow. where would one acquire such a material?\"\n",
            "The king: \"That i cannot say. what do you hunt with your bow and arrow?\"\n",
            "Archer: \"I hunt the enemy. i deal with those you consider unworthy. it's my most skilled practice. what else can i do for you?\"\n",
            "The king: \"Can you teach me how to use the weapon?\"\n",
            "Archer: \"A skill like these is easy to learn but takes a lifetime to master.\"\n",
            "Archer: Stage Direction - Hug the king\n",
            "The king: \"I have always wanted to learn but was forbidden as a child.\"\n",
            "The king: Stage Direction - Hug archer\n",
            "Archer: \"That's outrageous. a child is more ready to learn than most. i will not neglect you like your parents have.\"\n",
            "The king: \"They were always afraid of any harm coming to their sole heir. i shall cherish our archery lessons.\"\n",
            "Archer: \"Can i interrupt you for a moment to admire the gold tapestries on the walls? it resembles the material of your bed frame. is your bed frame made of solid gold?\"\n",
            "\n",
            "===\n",
            "\n"
          ]
        }
      ],
      "source": [
        "for i in range(0, 5):\n",
        "  dialogue = light_dialogues[i]\n",
        "  setting_str, characters, dialogue_str = get_dialogue_description(dialogue)\n",
        "\n",
        "  print(\"Setting:\\n*\", setting_str)\n",
        "  print(\"Characters:\")\n",
        "  for name, persona in characters:\n",
        "    print(\"* {name} - {persona}\".format(name=name, persona=persona))\n",
        "  print(\"\\nConversation:\\n\" + dialogue_str)\n",
        "  print(\"===\\n\")"
      ]
    },
    {
      "cell_type": "markdown",
      "metadata": {
        "id": "poyFB9V2WYmZ"
      },
      "source": [
        "# Create a Few-Shot Prompt for GPT3\n",
        "\n"
      ]
    },
    {
      "cell_type": "markdown",
      "source": [
        "We will start by creating a few shot prompt for GPT3, by giving it 2 or 3 of the light conversations.  We will see if we can generate similar conversations with a few examples.\n",
        "\n",
        "You might want to try experimenting with your few shot prompt in the [OpenAI playground](https://beta.openai.com/playground) first, and then come back and write the code in this notebook."
      ],
      "metadata": {
        "id": "cLt5R04bvvwd"
      }
    },
    {
      "cell_type": "code",
      "execution_count": null,
      "metadata": {
        "id": "Hivr6J-3WuV_"
      },
      "outputs": [],
      "source": [
        "%%capture\n",
        "!pip install --upgrade openai\n",
        "!pip install jsonlines"
      ]
    },
    {
      "cell_type": "markdown",
      "metadata": {
        "id": "Z8RFaAaEW-oI"
      },
      "source": [
        "You can find your OpenAI API key [here](https://beta.openai.com/account/api-keys).\n"
      ]
    },
    {
      "cell_type": "code",
      "execution_count": null,
      "metadata": {
        "id": "OdtifP-QW8GK"
      },
      "outputs": [],
      "source": [
        "import os\n",
        "import openai\n",
        "\n",
        "print('Enter OpenAI API key:')\n",
        "openai.api_key = input()\n",
        "\n",
        "os.environ['OPENAI_API_KEY']=openai.api_key"
      ]
    },
    {
      "cell_type": "code",
      "execution_count": null,
      "metadata": {
        "id": "I4uEaBAgVcFy"
      },
      "outputs": [],
      "source": [
        "few_shot_prompt = \"\"\"\n",
        "TODO\n",
        "\"\"\"\n",
        "\n",
        "current_setting = \"\"\"\n",
        "TODO\n",
        "\"\"\"\n",
        "\n",
        "current_characters = []"
      ]
    },
    {
      "cell_type": "code",
      "execution_count": null,
      "metadata": {
        "id": "GaPWJWmPXY2x"
      },
      "outputs": [],
      "source": [
        "\n",
        "def get_dialogue_turn(few_shot_prompt, setting, characters, turns, current_character):\n",
        "  \"\"\"\n",
        "  Inputs:\n",
        "  * few_shot_prompt - your few shot prompt for GPT3\n",
        "  * setting - a description of the setting where the conversation is being held.\n",
        "  * characters - a list of (name, persona) tuples\n",
        "  * turns - a list of (name, dialogue) tuples\n",
        "  * current_character - the name of the character whose dialogue we want to generate.\n",
        "  Ouput:\n",
        "  * a single line of dialogue for the current_character\n",
        "  \"\"\"\n",
        "\n",
        "  # TODO - make an API call to GPT3\n",
        "  turn = response['choices'][0]['text']\n",
        "  return turn\n"
      ]
    },
    {
      "cell_type": "markdown",
      "metadata": {
        "id": "Z0Qd3JFuvEnE"
      },
      "source": [
        "# Format Data for Fine-Tuning \n",
        "\n",
        "Below, I show how to create data to fine-tune OpenAI.  The OpenAI API documentation has a [guide to fine-tuning models](https://beta.openai.com/docs/guides/fine-tuning) that you should read.   The basic format of fine-tuning data is a JSONL file (one JSON object per line) with two key-value pairs: `prompt:` and `completion:`.\n",
        "\n",
        "```\n",
        "{\"prompt\": \"<prompt text>\", \"completion\": \"<ideal generated text>\"}\n",
        "{\"prompt\": \"<prompt text>\", \"completion\": \"<ideal generated text>\"}\n",
        "{\"prompt\": \"<prompt text>\", \"completion\": \"<ideal generated text>\"}\n",
        "...\n",
        "```\n",
        "\n",
        "In the code below, I'll extract a prompt that contains the `Category` and `Setting` variables from a LIGHT Environment room, and I'll have the completion be the room's `Description`."
      ]
    },
    {
      "cell_type": "code",
      "execution_count": null,
      "metadata": {
        "id": "4kIr8uDwvHB_"
      },
      "outputs": [],
      "source": [
        "def create_dialogue_finetuning_data(filename, max_dialogues=1000):\n",
        "  fine_tuning_data = []\n",
        "  for i in range(min(max_dialogues, len(light_dialogues))): \n",
        "    dialogue = light_dialogues[i]\n",
        "    setting_str, characters, dialogue = get_dialogue_description(dialogue)\n",
        "    data = {}\n",
        "    data['prompt'] = TODO\n",
        "    data['completion'] = TODO\n",
        "    fine_tuning_data.append(data)\n",
        "\n",
        "  with open(filename, 'w') as out:\n",
        "    for data in fine_tuning_data:\n",
        "        out.write(json.dumps(data))\n",
        "        out.write('\\n')\n",
        "\n",
        "jsonl_filename='fine_tune_LIGHT_dialogue.jsonl'\n",
        "create_dialogue_finetuning_data(jsonl_filename)"
      ]
    },
    {
      "cell_type": "markdown",
      "metadata": {
        "id": "hMNG-k-d8QcY"
      },
      "source": [
        "# Fine-tune GPT3 with the OpenAI API\n",
        "\n",
        "Next, we'll perform fine-tuning with this data using OpenAI. "
      ]
    },
    {
      "cell_type": "code",
      "execution_count": null,
      "metadata": {
        "id": "4TJ2vnq_9jI7"
      },
      "outputs": [],
      "source": [
        "!head '{jsonl_filename}'\n",
        "!wc -lw '{jsonl_filename}'"
      ]
    },
    {
      "cell_type": "markdown",
      "metadata": {
        "id": "7n2Alv9S6L2l"
      },
      "source": [
        "Next, we'll make the fine tuning API call via the command line.  Here the -m argument gives the model.  There are 4 sizes of GPT3 models.  They go in alphabetical order from smallest to largest.\n",
        "* Ada \n",
        "* Baddage\n",
        "* Currie\n",
        "* Davinci\n",
        "\n",
        "The models as the model sizes increase, so does their quality and their cost.  Davinci is the highest quality and highest cost model.  I recommend starting by fine-tuning smaller models to debug your code first so that you don't rack up costs.\n",
        "\n",
        "Fine-tuning curie on 1000 dialogues costs about $6.50.\n"
      ]
    },
    {
      "cell_type": "code",
      "execution_count": null,
      "metadata": {
        "colab": {
          "base_uri": "https://localhost:8080/"
        },
        "id": "3n7F3ZBT9tZc",
        "outputId": "eabd780c-65bc-4bf9-b3ab-32007bea2d89"
      },
      "outputs": [
        {
          "name": "stdout",
          "output_type": "stream",
          "text": [
            "Logging requires wandb to be installed. Run `pip install wandb`.\n",
            "Upload progress: 100% 2.05M/2.05M [00:00<00:00, 3.10Git/s]\n",
            "Uploaded file from fine_tune_LIGHT_dialogue.jsonl: file-bhyZbtcfRqT7T14y8UThKOnA\n",
            "Created fine-tune: ft-wczaBdF9amHpCiJgCWgjRSjb\n",
            "Streaming events until fine-tuning is complete...\n",
            "\n",
            "(Ctrl-C will interrupt the stream, but not cancel the fine-tune)\n",
            "[2022-03-23 02:42:54] Created fine-tune: ft-wczaBdF9amHpCiJgCWgjRSjb\n",
            "[2022-03-23 02:43:02] Fine-tune costs $62.04\n",
            "[2022-03-23 02:43:02] Fine-tune enqueued. Queue number: 0\n",
            "[2022-03-23 02:43:06] Fine-tune started\n",
            "\n",
            "Stream interrupted. Job is still running.\n",
            "To resume the stream, run:\n",
            "\n",
            "  openai api fine_tunes.follow -i ft-wczaBdF9amHpCiJgCWgjRSjb\n",
            "\n",
            "To cancel your job, run:\n",
            "\n",
            "  openai api fine_tunes.cancel -i ft-wczaBdF9amHpCiJgCWgjRSjb\n",
            "\n"
          ]
        }
      ],
      "source": [
        "!openai api fine_tunes.create -t '{jsonl_filename}' -m curie\n",
        "#!openai api fine_tunes.create -t '{jsonl_filename}' -m davinci\n"
      ]
    },
    {
      "cell_type": "code",
      "execution_count": null,
      "metadata": {
        "id": "iCabze9Rl5u1"
      },
      "outputs": [],
      "source": [
        "#!openai api fine_tunes.cancel -i ft-NwXfffYxfrc3BIqYACBSSDFG"
      ]
    },
    {
      "cell_type": "code",
      "execution_count": null,
      "metadata": {
        "colab": {
          "background_save": true
        },
        "id": "yjNdA02vn117"
      },
      "outputs": [],
      "source": [
        "# Curie\n",
        "#!openai api fine_tunes.follow -i ft-83yYKphzn8sfrYRTJIpI1o9T\n",
        "# Davinci\n",
        "#!openai api fine_tunes.follow -i ft-wczaBdF9amHpCiJgCWgjRSjb\n"
      ]
    },
    {
      "cell_type": "markdown",
      "metadata": {
        "id": "OrTwGsYNE-ze"
      },
      "source": [
        "You should copy down the fine-tune numbers which look like this:\n",
        "\n",
        "```\n",
        "Created fine-tune: ft-VzQpTwfnWAzDXNKgPTFtiZg2\n",
        "\n",
        "[2022-01-21 23:22:47] Uploaded model: curie:ft-ccb-lab-members-2022-01-21-23-22-46\n",
        "```\n",
        "\n",
        "If you forget to write it down, you can list your fine-tuned runs and models this way. These model names aren't mneumonic, so it is probably a good idea to make a note on what your model's inputs and outputs are. "
      ]
    },
    {
      "cell_type": "code",
      "execution_count": null,
      "metadata": {
        "id": "aJAe-fDq_ea1"
      },
      "outputs": [],
      "source": [
        "!openai api fine_tunes.list"
      ]
    },
    {
      "cell_type": "markdown",
      "metadata": {
        "id": "RHxQfGmalByo"
      },
      "source": [
        "You can run your fine tuned model in the OpenAI Playground.  After the model is finished finetuning you'll find it in the Engine dropdown menu.  \n"
      ]
    }
  ],
  "metadata": {
    "colab": {
      "collapsed_sections": [],
      "name": "Fine-Tune OpenAI on LIGHT Dialogues.ipynb",
      "provenance": []
    },
    "kernelspec": {
      "display_name": "Python 3",
      "name": "python3"
    },
    "language_info": {
      "name": "python"
    }
  },
  "nbformat": 4,
  "nbformat_minor": 0
}